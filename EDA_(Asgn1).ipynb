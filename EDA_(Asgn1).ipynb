{
  "nbformat": 4,
  "nbformat_minor": 0,
  "metadata": {
    "colab": {
      "name": "MSG332_A1_GOHCHAIWEN.ipynb",
      "provenance": [],
      "collapsed_sections": [],
      "include_colab_link": true
    },
    "kernelspec": {
      "name": "python3",
      "display_name": "Python 3"
    },
    "language_info": {
      "name": "python"
    }
  },
  "cells": [
    {
      "cell_type": "markdown",
      "metadata": {
        "id": "view-in-github",
        "colab_type": "text"
      },
      "source": [
        "<a href=\"https://colab.research.google.com/github/chaiwencw/Higher-Education-Students-Performance-Evaluation/blob/main/EDA_(Asgn1).ipynb\" target=\"_parent\"><img src=\"https://colab.research.google.com/assets/colab-badge.svg\" alt=\"Open In Colab\"/></a>"
      ]
    },
    {
      "cell_type": "code",
      "source": [
        "#import necessaries libraries \n",
        "import pandas as pd\n",
        "import seaborn as sns\n",
        "import numpy as np\n",
        "import matplotlib.pyplot as plt\n"
      ],
      "metadata": {
        "id": "mDnSm5Asvkbm"
      },
      "execution_count": null,
      "outputs": []
    },
    {
      "cell_type": "markdown",
      "source": [
        "# 1.0 Data Preprocessing\n",
        "\n",
        "---\n",
        "\n",
        "\n",
        "\n",
        "Performing data preprocessing before exploratory data analysis (EDA). This section include loading data, exploring the number of rows & columns, handling missing value or invalid data."
      ],
      "metadata": {
        "id": "6P_g6i_p9BRe"
      }
    },
    {
      "cell_type": "code",
      "execution_count": null,
      "metadata": {
        "id": "SNPnM1cvvX2u"
      },
      "outputs": [],
      "source": [
        "#import dataset and set STUDENT_ID as index\n",
        "url = 'https://raw.githubusercontent.com/chaiwencw/EDA-Higher-Education-Students-Performance-Evaluation/main/student_prediction_edited.csv'\n",
        "stud_df = pd.read_csv(url,index_col = 'STUDENTID')"
      ]
    },
    {
      "cell_type": "code",
      "source": [
        "#view first few rows of the dataset\n",
        "stud_df.head()"
      ],
      "metadata": {
        "colab": {
          "base_uri": "https://localhost:8080/",
          "height": 299
        },
        "id": "c35THFCuLd_Z",
        "outputId": "cec68ab0-b34a-488d-ebc0-e2fda6c9e6e5"
      },
      "execution_count": null,
      "outputs": [
        {
          "output_type": "execute_result",
          "data": {
            "text/plain": [
              "           AGE  GENDER  HS_TYPE  SCHOLARSHIP  WORK  ACTIVITY  PARTNER  SALARY  \\\n",
              "STUDENTID                                                                       \n",
              "STUDENT1    23       2        3            3     1         2        2     170   \n",
              "STUDENT2    23       2        3            3     1         2        2     185   \n",
              "STUDENT3    24       2        2            3     2         2        2     255   \n",
              "STUDENT4    20       1        1            3     1         2        1     215   \n",
              "STUDENT5    23       2        1            3     2         2        1     320   \n",
              "\n",
              "           TRANSPORT  LIVING  MOTHER_EDU  FATHER_EDU  #_SIBLINGS  KIDS  \\\n",
              "STUDENTID                                                                \n",
              "STUDENT1           1       1           1           2           3     1   \n",
              "STUDENT2           1       1           2           3           2     1   \n",
              "STUDENT3           4       2           2           2           2     1   \n",
              "STUDENT4           1       2           1           2           5     1   \n",
              "STUDENT5           1       4           3           3           2     1   \n",
              "\n",
              "           MOTHER_JOB  FATHER_JOB  STUDY_HRS  CUML_GPA  EXP_GPA  \n",
              "STUDENTID                                                        \n",
              "STUDENT1            2           5        7.0         1        1  \n",
              "STUDENT2            2           1        4.0         2        3  \n",
              "STUDENT3            2           1        2.0         2        2  \n",
              "STUDENT4            2           1        6.0         3        2  \n",
              "STUDENT5            2           4        3.0         2        2  "
            ],
            "text/html": [
              "\n",
              "  <div id=\"df-b5730328-a144-4bf7-be77-2dfc87d9fbd9\">\n",
              "    <div class=\"colab-df-container\">\n",
              "      <div>\n",
              "<style scoped>\n",
              "    .dataframe tbody tr th:only-of-type {\n",
              "        vertical-align: middle;\n",
              "    }\n",
              "\n",
              "    .dataframe tbody tr th {\n",
              "        vertical-align: top;\n",
              "    }\n",
              "\n",
              "    .dataframe thead th {\n",
              "        text-align: right;\n",
              "    }\n",
              "</style>\n",
              "<table border=\"1\" class=\"dataframe\">\n",
              "  <thead>\n",
              "    <tr style=\"text-align: right;\">\n",
              "      <th></th>\n",
              "      <th>AGE</th>\n",
              "      <th>GENDER</th>\n",
              "      <th>HS_TYPE</th>\n",
              "      <th>SCHOLARSHIP</th>\n",
              "      <th>WORK</th>\n",
              "      <th>ACTIVITY</th>\n",
              "      <th>PARTNER</th>\n",
              "      <th>SALARY</th>\n",
              "      <th>TRANSPORT</th>\n",
              "      <th>LIVING</th>\n",
              "      <th>MOTHER_EDU</th>\n",
              "      <th>FATHER_EDU</th>\n",
              "      <th>#_SIBLINGS</th>\n",
              "      <th>KIDS</th>\n",
              "      <th>MOTHER_JOB</th>\n",
              "      <th>FATHER_JOB</th>\n",
              "      <th>STUDY_HRS</th>\n",
              "      <th>CUML_GPA</th>\n",
              "      <th>EXP_GPA</th>\n",
              "    </tr>\n",
              "    <tr>\n",
              "      <th>STUDENTID</th>\n",
              "      <th></th>\n",
              "      <th></th>\n",
              "      <th></th>\n",
              "      <th></th>\n",
              "      <th></th>\n",
              "      <th></th>\n",
              "      <th></th>\n",
              "      <th></th>\n",
              "      <th></th>\n",
              "      <th></th>\n",
              "      <th></th>\n",
              "      <th></th>\n",
              "      <th></th>\n",
              "      <th></th>\n",
              "      <th></th>\n",
              "      <th></th>\n",
              "      <th></th>\n",
              "      <th></th>\n",
              "      <th></th>\n",
              "    </tr>\n",
              "  </thead>\n",
              "  <tbody>\n",
              "    <tr>\n",
              "      <th>STUDENT1</th>\n",
              "      <td>23</td>\n",
              "      <td>2</td>\n",
              "      <td>3</td>\n",
              "      <td>3</td>\n",
              "      <td>1</td>\n",
              "      <td>2</td>\n",
              "      <td>2</td>\n",
              "      <td>170</td>\n",
              "      <td>1</td>\n",
              "      <td>1</td>\n",
              "      <td>1</td>\n",
              "      <td>2</td>\n",
              "      <td>3</td>\n",
              "      <td>1</td>\n",
              "      <td>2</td>\n",
              "      <td>5</td>\n",
              "      <td>7.0</td>\n",
              "      <td>1</td>\n",
              "      <td>1</td>\n",
              "    </tr>\n",
              "    <tr>\n",
              "      <th>STUDENT2</th>\n",
              "      <td>23</td>\n",
              "      <td>2</td>\n",
              "      <td>3</td>\n",
              "      <td>3</td>\n",
              "      <td>1</td>\n",
              "      <td>2</td>\n",
              "      <td>2</td>\n",
              "      <td>185</td>\n",
              "      <td>1</td>\n",
              "      <td>1</td>\n",
              "      <td>2</td>\n",
              "      <td>3</td>\n",
              "      <td>2</td>\n",
              "      <td>1</td>\n",
              "      <td>2</td>\n",
              "      <td>1</td>\n",
              "      <td>4.0</td>\n",
              "      <td>2</td>\n",
              "      <td>3</td>\n",
              "    </tr>\n",
              "    <tr>\n",
              "      <th>STUDENT3</th>\n",
              "      <td>24</td>\n",
              "      <td>2</td>\n",
              "      <td>2</td>\n",
              "      <td>3</td>\n",
              "      <td>2</td>\n",
              "      <td>2</td>\n",
              "      <td>2</td>\n",
              "      <td>255</td>\n",
              "      <td>4</td>\n",
              "      <td>2</td>\n",
              "      <td>2</td>\n",
              "      <td>2</td>\n",
              "      <td>2</td>\n",
              "      <td>1</td>\n",
              "      <td>2</td>\n",
              "      <td>1</td>\n",
              "      <td>2.0</td>\n",
              "      <td>2</td>\n",
              "      <td>2</td>\n",
              "    </tr>\n",
              "    <tr>\n",
              "      <th>STUDENT4</th>\n",
              "      <td>20</td>\n",
              "      <td>1</td>\n",
              "      <td>1</td>\n",
              "      <td>3</td>\n",
              "      <td>1</td>\n",
              "      <td>2</td>\n",
              "      <td>1</td>\n",
              "      <td>215</td>\n",
              "      <td>1</td>\n",
              "      <td>2</td>\n",
              "      <td>1</td>\n",
              "      <td>2</td>\n",
              "      <td>5</td>\n",
              "      <td>1</td>\n",
              "      <td>2</td>\n",
              "      <td>1</td>\n",
              "      <td>6.0</td>\n",
              "      <td>3</td>\n",
              "      <td>2</td>\n",
              "    </tr>\n",
              "    <tr>\n",
              "      <th>STUDENT5</th>\n",
              "      <td>23</td>\n",
              "      <td>2</td>\n",
              "      <td>1</td>\n",
              "      <td>3</td>\n",
              "      <td>2</td>\n",
              "      <td>2</td>\n",
              "      <td>1</td>\n",
              "      <td>320</td>\n",
              "      <td>1</td>\n",
              "      <td>4</td>\n",
              "      <td>3</td>\n",
              "      <td>3</td>\n",
              "      <td>2</td>\n",
              "      <td>1</td>\n",
              "      <td>2</td>\n",
              "      <td>4</td>\n",
              "      <td>3.0</td>\n",
              "      <td>2</td>\n",
              "      <td>2</td>\n",
              "    </tr>\n",
              "  </tbody>\n",
              "</table>\n",
              "</div>\n",
              "      <button class=\"colab-df-convert\" onclick=\"convertToInteractive('df-b5730328-a144-4bf7-be77-2dfc87d9fbd9')\"\n",
              "              title=\"Convert this dataframe to an interactive table.\"\n",
              "              style=\"display:none;\">\n",
              "        \n",
              "  <svg xmlns=\"http://www.w3.org/2000/svg\" height=\"24px\"viewBox=\"0 0 24 24\"\n",
              "       width=\"24px\">\n",
              "    <path d=\"M0 0h24v24H0V0z\" fill=\"none\"/>\n",
              "    <path d=\"M18.56 5.44l.94 2.06.94-2.06 2.06-.94-2.06-.94-.94-2.06-.94 2.06-2.06.94zm-11 1L8.5 8.5l.94-2.06 2.06-.94-2.06-.94L8.5 2.5l-.94 2.06-2.06.94zm10 10l.94 2.06.94-2.06 2.06-.94-2.06-.94-.94-2.06-.94 2.06-2.06.94z\"/><path d=\"M17.41 7.96l-1.37-1.37c-.4-.4-.92-.59-1.43-.59-.52 0-1.04.2-1.43.59L10.3 9.45l-7.72 7.72c-.78.78-.78 2.05 0 2.83L4 21.41c.39.39.9.59 1.41.59.51 0 1.02-.2 1.41-.59l7.78-7.78 2.81-2.81c.8-.78.8-2.07 0-2.86zM5.41 20L4 18.59l7.72-7.72 1.47 1.35L5.41 20z\"/>\n",
              "  </svg>\n",
              "      </button>\n",
              "      \n",
              "  <style>\n",
              "    .colab-df-container {\n",
              "      display:flex;\n",
              "      flex-wrap:wrap;\n",
              "      gap: 12px;\n",
              "    }\n",
              "\n",
              "    .colab-df-convert {\n",
              "      background-color: #E8F0FE;\n",
              "      border: none;\n",
              "      border-radius: 50%;\n",
              "      cursor: pointer;\n",
              "      display: none;\n",
              "      fill: #1967D2;\n",
              "      height: 32px;\n",
              "      padding: 0 0 0 0;\n",
              "      width: 32px;\n",
              "    }\n",
              "\n",
              "    .colab-df-convert:hover {\n",
              "      background-color: #E2EBFA;\n",
              "      box-shadow: 0px 1px 2px rgba(60, 64, 67, 0.3), 0px 1px 3px 1px rgba(60, 64, 67, 0.15);\n",
              "      fill: #174EA6;\n",
              "    }\n",
              "\n",
              "    [theme=dark] .colab-df-convert {\n",
              "      background-color: #3B4455;\n",
              "      fill: #D2E3FC;\n",
              "    }\n",
              "\n",
              "    [theme=dark] .colab-df-convert:hover {\n",
              "      background-color: #434B5C;\n",
              "      box-shadow: 0px 1px 3px 1px rgba(0, 0, 0, 0.15);\n",
              "      filter: drop-shadow(0px 1px 2px rgba(0, 0, 0, 0.3));\n",
              "      fill: #FFFFFF;\n",
              "    }\n",
              "  </style>\n",
              "\n",
              "      <script>\n",
              "        const buttonEl =\n",
              "          document.querySelector('#df-b5730328-a144-4bf7-be77-2dfc87d9fbd9 button.colab-df-convert');\n",
              "        buttonEl.style.display =\n",
              "          google.colab.kernel.accessAllowed ? 'block' : 'none';\n",
              "\n",
              "        async function convertToInteractive(key) {\n",
              "          const element = document.querySelector('#df-b5730328-a144-4bf7-be77-2dfc87d9fbd9');\n",
              "          const dataTable =\n",
              "            await google.colab.kernel.invokeFunction('convertToInteractive',\n",
              "                                                     [key], {});\n",
              "          if (!dataTable) return;\n",
              "\n",
              "          const docLinkHtml = 'Like what you see? Visit the ' +\n",
              "            '<a target=\"_blank\" href=https://colab.research.google.com/notebooks/data_table.ipynb>data table notebook</a>'\n",
              "            + ' to learn more about interactive tables.';\n",
              "          element.innerHTML = '';\n",
              "          dataTable['output_type'] = 'display_data';\n",
              "          await google.colab.output.renderOutput(dataTable, element);\n",
              "          const docLink = document.createElement('div');\n",
              "          docLink.innerHTML = docLinkHtml;\n",
              "          element.appendChild(docLink);\n",
              "        }\n",
              "      </script>\n",
              "    </div>\n",
              "  </div>\n",
              "  "
            ]
          },
          "metadata": {},
          "execution_count": 3
        }
      ]
    },
    {
      "cell_type": "markdown",
      "source": [
        "The categorical columns are already encoded with numeric values. So, we decode them for readability."
      ],
      "metadata": {
        "id": "PRONfuR7waJz"
      }
    },
    {
      "cell_type": "code",
      "source": [
        "# rename columns\n",
        "stud_df.rename(columns ={'LIVING':'ACCOMM_TYPE','KIDS':'PARENTAL_STATUS'}, inplace = True)\n",
        "\n",
        "# create attribute dictionary\n",
        "attr_dict = { \n",
        "    'GENDER': {\n",
        "        1: 'Female',\n",
        "        2: 'Male'\n",
        "      },\n",
        "    'HS_TYPE': {\n",
        "        1: 'Private',\n",
        "        2: 'State',\n",
        "        3: 'Other'\n",
        "    },\n",
        "    'SCHOLARSHIP': {\n",
        "        1: '0%',\n",
        "        2: '25%',\n",
        "        3: '50%',\n",
        "        4: '75%',\n",
        "        5: '100%'\n",
        "    }, \n",
        "    'WORK': {1: 'Yes', 2: 'No'},\n",
        "    'ACTIVITY': {1: 'Yes', 2: 'No'},\n",
        "    'PARTNER': {1: 'Yes', 2: 'No'},\n",
        "    'TRANSPORT': {\n",
        "        1: 'Bus',\n",
        "        2: 'Private Car/Taxi',\n",
        "        3: 'Bicycle',\n",
        "        4: 'Other'\n",
        "    }, \n",
        "    'ACCOMM_TYPE': {\n",
        "        1: 'Rental',\n",
        "        2: 'Dormitory',\n",
        "        3: 'With family',\n",
        "        4: 'Other'\n",
        "    },\n",
        "    'MOTHER_EDU': {\n",
        "        1: 'Primary school',\n",
        "        2: 'Secondary school',\n",
        "        3: 'High school',\n",
        "        4: 'University',\n",
        "        5: 'MSc.',\n",
        "        6: 'Ph.D.'\n",
        "    },\n",
        "    'FATHER_EDU': {\n",
        "        1: 'Primary school',\n",
        "        2: 'Secondary school',\n",
        "        3: 'High school',\n",
        "        4: 'University',\n",
        "        5: 'MSc.',\n",
        "        6: 'Ph.D.'\n",
        "    }, \n",
        "    '#_SIBLINGS':{\n",
        "        1:'1',\n",
        "        2:'2',\n",
        "        3:'3',\n",
        "        4:'4',\n",
        "        5: '5 or above'\n",
        "    },\n",
        "    'PARENTAL_STATUS': {\n",
        "        1: 'Married',\n",
        "        2: 'Divorced',\n",
        "        3: 'Died - one of them or both'\n",
        "    },\n",
        "    'MOTHER_JOB': {\n",
        "        1: 'Retired',\n",
        "        2: 'Housewife',\n",
        "        3: 'Government officer',\n",
        "        4: 'Private sector employee',\n",
        "        5: 'Self-employment',\n",
        "        6: 'Other'\n",
        "    },\n",
        "    'FATHER_JOB': {\n",
        "        1: 'Retired',\n",
        "        2: 'Government officer',\n",
        "        3: 'Private sector employee',\n",
        "        4: 'Self-employment',\n",
        "        5: 'Other'\n",
        "    },\n",
        "    'CUML_GPA': {\n",
        "        1: '<2.00',\n",
        "        2: '2.00-2.49',\n",
        "        3: '2.50-2.99',\n",
        "        4: '3.00-3.49',\n",
        "        5: 'Above 3.49'\n",
        "    },\n",
        "    'EXP_GPA': {\n",
        "        1: '<2.00',\n",
        "        2: '2.00-2.49',\n",
        "        3: '2.50-2.99',\n",
        "        4: '3.00-3.49',\n",
        "        5: 'Above 3.49'\n",
        "    }\n",
        "}\n",
        "# map attribute dictionary to the categorical columns (decode numeric values to string)\n",
        "for col in stud_df.columns:\n",
        "  if col in attr_dict:\n",
        "    stud_df[col] = stud_df[col].map(attr_dict[col].get)\n",
        "stud_df.head()"
      ],
      "metadata": {
        "colab": {
          "base_uri": "https://localhost:8080/",
          "height": 384
        },
        "id": "XElbax0TJ3Ja",
        "outputId": "a02b52eb-9ae2-43c1-bded-3f1843dead5b"
      },
      "execution_count": null,
      "outputs": [
        {
          "output_type": "execute_result",
          "data": {
            "text/plain": [
              "           AGE  GENDER  HS_TYPE SCHOLARSHIP WORK ACTIVITY PARTNER  SALARY  \\\n",
              "STUDENTID                                                                   \n",
              "STUDENT1    23    Male    Other         50%  Yes       No      No     170   \n",
              "STUDENT2    23    Male    Other         50%  Yes       No      No     185   \n",
              "STUDENT3    24    Male    State         50%   No       No      No     255   \n",
              "STUDENT4    20  Female  Private         50%  Yes       No     Yes     215   \n",
              "STUDENT5    23    Male  Private         50%   No       No     Yes     320   \n",
              "\n",
              "                  TRANSPORT ACCOMM_TYPE        MOTHER_EDU        FATHER_EDU  \\\n",
              "STUDENTID                                                                     \n",
              "STUDENT1   Private Car/Taxi      Rental    Primary school  Secondary school   \n",
              "STUDENT2   Private Car/Taxi      Rental  Secondary school       High school   \n",
              "STUDENT3              Other   Dormitory  Secondary school  Secondary school   \n",
              "STUDENT4   Private Car/Taxi   Dormitory    Primary school  Secondary school   \n",
              "STUDENT5   Private Car/Taxi       Other       High school       High school   \n",
              "\n",
              "           #_SIBLINGS PARENTAL_STATUS MOTHER_JOB       FATHER_JOB  STUDY_HRS  \\\n",
              "STUDENTID                                                                      \n",
              "STUDENT1            3         Married  Housewife            Other        7.0   \n",
              "STUDENT2            2         Married  Housewife          Retired        4.0   \n",
              "STUDENT3            2         Married  Housewife          Retired        2.0   \n",
              "STUDENT4   5 or above         Married  Housewife          Retired        6.0   \n",
              "STUDENT5            2         Married  Housewife  Self-employment        3.0   \n",
              "\n",
              "            CUML_GPA    EXP_GPA  \n",
              "STUDENTID                        \n",
              "STUDENT1       <2.00      <2.00  \n",
              "STUDENT2   2.00-2.49  2.50-2.99  \n",
              "STUDENT3   2.00-2.49  2.00-2.49  \n",
              "STUDENT4   2.50-2.99  2.00-2.49  \n",
              "STUDENT5   2.00-2.49  2.00-2.49  "
            ],
            "text/html": [
              "\n",
              "  <div id=\"df-ddac8d0e-789a-4e88-959b-bfb23f4761c3\">\n",
              "    <div class=\"colab-df-container\">\n",
              "      <div>\n",
              "<style scoped>\n",
              "    .dataframe tbody tr th:only-of-type {\n",
              "        vertical-align: middle;\n",
              "    }\n",
              "\n",
              "    .dataframe tbody tr th {\n",
              "        vertical-align: top;\n",
              "    }\n",
              "\n",
              "    .dataframe thead th {\n",
              "        text-align: right;\n",
              "    }\n",
              "</style>\n",
              "<table border=\"1\" class=\"dataframe\">\n",
              "  <thead>\n",
              "    <tr style=\"text-align: right;\">\n",
              "      <th></th>\n",
              "      <th>AGE</th>\n",
              "      <th>GENDER</th>\n",
              "      <th>HS_TYPE</th>\n",
              "      <th>SCHOLARSHIP</th>\n",
              "      <th>WORK</th>\n",
              "      <th>ACTIVITY</th>\n",
              "      <th>PARTNER</th>\n",
              "      <th>SALARY</th>\n",
              "      <th>TRANSPORT</th>\n",
              "      <th>ACCOMM_TYPE</th>\n",
              "      <th>MOTHER_EDU</th>\n",
              "      <th>FATHER_EDU</th>\n",
              "      <th>#_SIBLINGS</th>\n",
              "      <th>PARENTAL_STATUS</th>\n",
              "      <th>MOTHER_JOB</th>\n",
              "      <th>FATHER_JOB</th>\n",
              "      <th>STUDY_HRS</th>\n",
              "      <th>CUML_GPA</th>\n",
              "      <th>EXP_GPA</th>\n",
              "    </tr>\n",
              "    <tr>\n",
              "      <th>STUDENTID</th>\n",
              "      <th></th>\n",
              "      <th></th>\n",
              "      <th></th>\n",
              "      <th></th>\n",
              "      <th></th>\n",
              "      <th></th>\n",
              "      <th></th>\n",
              "      <th></th>\n",
              "      <th></th>\n",
              "      <th></th>\n",
              "      <th></th>\n",
              "      <th></th>\n",
              "      <th></th>\n",
              "      <th></th>\n",
              "      <th></th>\n",
              "      <th></th>\n",
              "      <th></th>\n",
              "      <th></th>\n",
              "      <th></th>\n",
              "    </tr>\n",
              "  </thead>\n",
              "  <tbody>\n",
              "    <tr>\n",
              "      <th>STUDENT1</th>\n",
              "      <td>23</td>\n",
              "      <td>Male</td>\n",
              "      <td>Other</td>\n",
              "      <td>50%</td>\n",
              "      <td>Yes</td>\n",
              "      <td>No</td>\n",
              "      <td>No</td>\n",
              "      <td>170</td>\n",
              "      <td>Private Car/Taxi</td>\n",
              "      <td>Rental</td>\n",
              "      <td>Primary school</td>\n",
              "      <td>Secondary school</td>\n",
              "      <td>3</td>\n",
              "      <td>Married</td>\n",
              "      <td>Housewife</td>\n",
              "      <td>Other</td>\n",
              "      <td>7.0</td>\n",
              "      <td>&lt;2.00</td>\n",
              "      <td>&lt;2.00</td>\n",
              "    </tr>\n",
              "    <tr>\n",
              "      <th>STUDENT2</th>\n",
              "      <td>23</td>\n",
              "      <td>Male</td>\n",
              "      <td>Other</td>\n",
              "      <td>50%</td>\n",
              "      <td>Yes</td>\n",
              "      <td>No</td>\n",
              "      <td>No</td>\n",
              "      <td>185</td>\n",
              "      <td>Private Car/Taxi</td>\n",
              "      <td>Rental</td>\n",
              "      <td>Secondary school</td>\n",
              "      <td>High school</td>\n",
              "      <td>2</td>\n",
              "      <td>Married</td>\n",
              "      <td>Housewife</td>\n",
              "      <td>Retired</td>\n",
              "      <td>4.0</td>\n",
              "      <td>2.00-2.49</td>\n",
              "      <td>2.50-2.99</td>\n",
              "    </tr>\n",
              "    <tr>\n",
              "      <th>STUDENT3</th>\n",
              "      <td>24</td>\n",
              "      <td>Male</td>\n",
              "      <td>State</td>\n",
              "      <td>50%</td>\n",
              "      <td>No</td>\n",
              "      <td>No</td>\n",
              "      <td>No</td>\n",
              "      <td>255</td>\n",
              "      <td>Other</td>\n",
              "      <td>Dormitory</td>\n",
              "      <td>Secondary school</td>\n",
              "      <td>Secondary school</td>\n",
              "      <td>2</td>\n",
              "      <td>Married</td>\n",
              "      <td>Housewife</td>\n",
              "      <td>Retired</td>\n",
              "      <td>2.0</td>\n",
              "      <td>2.00-2.49</td>\n",
              "      <td>2.00-2.49</td>\n",
              "    </tr>\n",
              "    <tr>\n",
              "      <th>STUDENT4</th>\n",
              "      <td>20</td>\n",
              "      <td>Female</td>\n",
              "      <td>Private</td>\n",
              "      <td>50%</td>\n",
              "      <td>Yes</td>\n",
              "      <td>No</td>\n",
              "      <td>Yes</td>\n",
              "      <td>215</td>\n",
              "      <td>Private Car/Taxi</td>\n",
              "      <td>Dormitory</td>\n",
              "      <td>Primary school</td>\n",
              "      <td>Secondary school</td>\n",
              "      <td>5 or above</td>\n",
              "      <td>Married</td>\n",
              "      <td>Housewife</td>\n",
              "      <td>Retired</td>\n",
              "      <td>6.0</td>\n",
              "      <td>2.50-2.99</td>\n",
              "      <td>2.00-2.49</td>\n",
              "    </tr>\n",
              "    <tr>\n",
              "      <th>STUDENT5</th>\n",
              "      <td>23</td>\n",
              "      <td>Male</td>\n",
              "      <td>Private</td>\n",
              "      <td>50%</td>\n",
              "      <td>No</td>\n",
              "      <td>No</td>\n",
              "      <td>Yes</td>\n",
              "      <td>320</td>\n",
              "      <td>Private Car/Taxi</td>\n",
              "      <td>Other</td>\n",
              "      <td>High school</td>\n",
              "      <td>High school</td>\n",
              "      <td>2</td>\n",
              "      <td>Married</td>\n",
              "      <td>Housewife</td>\n",
              "      <td>Self-employment</td>\n",
              "      <td>3.0</td>\n",
              "      <td>2.00-2.49</td>\n",
              "      <td>2.00-2.49</td>\n",
              "    </tr>\n",
              "  </tbody>\n",
              "</table>\n",
              "</div>\n",
              "      <button class=\"colab-df-convert\" onclick=\"convertToInteractive('df-ddac8d0e-789a-4e88-959b-bfb23f4761c3')\"\n",
              "              title=\"Convert this dataframe to an interactive table.\"\n",
              "              style=\"display:none;\">\n",
              "        \n",
              "  <svg xmlns=\"http://www.w3.org/2000/svg\" height=\"24px\"viewBox=\"0 0 24 24\"\n",
              "       width=\"24px\">\n",
              "    <path d=\"M0 0h24v24H0V0z\" fill=\"none\"/>\n",
              "    <path d=\"M18.56 5.44l.94 2.06.94-2.06 2.06-.94-2.06-.94-.94-2.06-.94 2.06-2.06.94zm-11 1L8.5 8.5l.94-2.06 2.06-.94-2.06-.94L8.5 2.5l-.94 2.06-2.06.94zm10 10l.94 2.06.94-2.06 2.06-.94-2.06-.94-.94-2.06-.94 2.06-2.06.94z\"/><path d=\"M17.41 7.96l-1.37-1.37c-.4-.4-.92-.59-1.43-.59-.52 0-1.04.2-1.43.59L10.3 9.45l-7.72 7.72c-.78.78-.78 2.05 0 2.83L4 21.41c.39.39.9.59 1.41.59.51 0 1.02-.2 1.41-.59l7.78-7.78 2.81-2.81c.8-.78.8-2.07 0-2.86zM5.41 20L4 18.59l7.72-7.72 1.47 1.35L5.41 20z\"/>\n",
              "  </svg>\n",
              "      </button>\n",
              "      \n",
              "  <style>\n",
              "    .colab-df-container {\n",
              "      display:flex;\n",
              "      flex-wrap:wrap;\n",
              "      gap: 12px;\n",
              "    }\n",
              "\n",
              "    .colab-df-convert {\n",
              "      background-color: #E8F0FE;\n",
              "      border: none;\n",
              "      border-radius: 50%;\n",
              "      cursor: pointer;\n",
              "      display: none;\n",
              "      fill: #1967D2;\n",
              "      height: 32px;\n",
              "      padding: 0 0 0 0;\n",
              "      width: 32px;\n",
              "    }\n",
              "\n",
              "    .colab-df-convert:hover {\n",
              "      background-color: #E2EBFA;\n",
              "      box-shadow: 0px 1px 2px rgba(60, 64, 67, 0.3), 0px 1px 3px 1px rgba(60, 64, 67, 0.15);\n",
              "      fill: #174EA6;\n",
              "    }\n",
              "\n",
              "    [theme=dark] .colab-df-convert {\n",
              "      background-color: #3B4455;\n",
              "      fill: #D2E3FC;\n",
              "    }\n",
              "\n",
              "    [theme=dark] .colab-df-convert:hover {\n",
              "      background-color: #434B5C;\n",
              "      box-shadow: 0px 1px 3px 1px rgba(0, 0, 0, 0.15);\n",
              "      filter: drop-shadow(0px 1px 2px rgba(0, 0, 0, 0.3));\n",
              "      fill: #FFFFFF;\n",
              "    }\n",
              "  </style>\n",
              "\n",
              "      <script>\n",
              "        const buttonEl =\n",
              "          document.querySelector('#df-ddac8d0e-789a-4e88-959b-bfb23f4761c3 button.colab-df-convert');\n",
              "        buttonEl.style.display =\n",
              "          google.colab.kernel.accessAllowed ? 'block' : 'none';\n",
              "\n",
              "        async function convertToInteractive(key) {\n",
              "          const element = document.querySelector('#df-ddac8d0e-789a-4e88-959b-bfb23f4761c3');\n",
              "          const dataTable =\n",
              "            await google.colab.kernel.invokeFunction('convertToInteractive',\n",
              "                                                     [key], {});\n",
              "          if (!dataTable) return;\n",
              "\n",
              "          const docLinkHtml = 'Like what you see? Visit the ' +\n",
              "            '<a target=\"_blank\" href=https://colab.research.google.com/notebooks/data_table.ipynb>data table notebook</a>'\n",
              "            + ' to learn more about interactive tables.';\n",
              "          element.innerHTML = '';\n",
              "          dataTable['output_type'] = 'display_data';\n",
              "          await google.colab.output.renderOutput(dataTable, element);\n",
              "          const docLink = document.createElement('div');\n",
              "          docLink.innerHTML = docLinkHtml;\n",
              "          element.appendChild(docLink);\n",
              "        }\n",
              "      </script>\n",
              "    </div>\n",
              "  </div>\n",
              "  "
            ]
          },
          "metadata": {},
          "execution_count": 4
        }
      ]
    },
    {
      "cell_type": "code",
      "source": [
        "# Check for Index Duplicates \n",
        "\n",
        "# Approach 1\n",
        "stud_df[stud_df.index.duplicated(keep = False)].sort_index()\n",
        "\n",
        "# Approach 2 \n",
        "# idx_duplicate = stud_df.index.duplicated(keep = False)\n",
        "# if idx_duplicate.any():\n",
        "#   print( stud_df.loc[idx_duplicate].sort_index(), end ='\\n')\n",
        "# else:\n",
        "#   print(\"No duplicates present.\")"
      ],
      "metadata": {
        "id": "o43dn23XYwVa",
        "colab": {
          "base_uri": "https://localhost:8080/",
          "height": 144
        },
        "outputId": "8aed7300-c197-4050-bd97-828ee252b70e"
      },
      "execution_count": null,
      "outputs": [
        {
          "output_type": "execute_result",
          "data": {
            "text/plain": [
              "Empty DataFrame\n",
              "Columns: [AGE, GENDER, HS_TYPE, SCHOLARSHIP, WORK, ACTIVITY, PARTNER, SALARY, TRANSPORT, ACCOMM_TYPE, MOTHER_EDU, FATHER_EDU, #_SIBLINGS, PARENTAL_STATUS, MOTHER_JOB, FATHER_JOB, STUDY_HRS, CUML_GPA, EXP_GPA]\n",
              "Index: []"
            ],
            "text/html": [
              "\n",
              "  <div id=\"df-47a04597-7e0d-4426-b808-7f5a739499e4\">\n",
              "    <div class=\"colab-df-container\">\n",
              "      <div>\n",
              "<style scoped>\n",
              "    .dataframe tbody tr th:only-of-type {\n",
              "        vertical-align: middle;\n",
              "    }\n",
              "\n",
              "    .dataframe tbody tr th {\n",
              "        vertical-align: top;\n",
              "    }\n",
              "\n",
              "    .dataframe thead th {\n",
              "        text-align: right;\n",
              "    }\n",
              "</style>\n",
              "<table border=\"1\" class=\"dataframe\">\n",
              "  <thead>\n",
              "    <tr style=\"text-align: right;\">\n",
              "      <th></th>\n",
              "      <th>AGE</th>\n",
              "      <th>GENDER</th>\n",
              "      <th>HS_TYPE</th>\n",
              "      <th>SCHOLARSHIP</th>\n",
              "      <th>WORK</th>\n",
              "      <th>ACTIVITY</th>\n",
              "      <th>PARTNER</th>\n",
              "      <th>SALARY</th>\n",
              "      <th>TRANSPORT</th>\n",
              "      <th>ACCOMM_TYPE</th>\n",
              "      <th>MOTHER_EDU</th>\n",
              "      <th>FATHER_EDU</th>\n",
              "      <th>#_SIBLINGS</th>\n",
              "      <th>PARENTAL_STATUS</th>\n",
              "      <th>MOTHER_JOB</th>\n",
              "      <th>FATHER_JOB</th>\n",
              "      <th>STUDY_HRS</th>\n",
              "      <th>CUML_GPA</th>\n",
              "      <th>EXP_GPA</th>\n",
              "    </tr>\n",
              "    <tr>\n",
              "      <th>STUDENTID</th>\n",
              "      <th></th>\n",
              "      <th></th>\n",
              "      <th></th>\n",
              "      <th></th>\n",
              "      <th></th>\n",
              "      <th></th>\n",
              "      <th></th>\n",
              "      <th></th>\n",
              "      <th></th>\n",
              "      <th></th>\n",
              "      <th></th>\n",
              "      <th></th>\n",
              "      <th></th>\n",
              "      <th></th>\n",
              "      <th></th>\n",
              "      <th></th>\n",
              "      <th></th>\n",
              "      <th></th>\n",
              "      <th></th>\n",
              "    </tr>\n",
              "  </thead>\n",
              "  <tbody>\n",
              "  </tbody>\n",
              "</table>\n",
              "</div>\n",
              "      <button class=\"colab-df-convert\" onclick=\"convertToInteractive('df-47a04597-7e0d-4426-b808-7f5a739499e4')\"\n",
              "              title=\"Convert this dataframe to an interactive table.\"\n",
              "              style=\"display:none;\">\n",
              "        \n",
              "  <svg xmlns=\"http://www.w3.org/2000/svg\" height=\"24px\"viewBox=\"0 0 24 24\"\n",
              "       width=\"24px\">\n",
              "    <path d=\"M0 0h24v24H0V0z\" fill=\"none\"/>\n",
              "    <path d=\"M18.56 5.44l.94 2.06.94-2.06 2.06-.94-2.06-.94-.94-2.06-.94 2.06-2.06.94zm-11 1L8.5 8.5l.94-2.06 2.06-.94-2.06-.94L8.5 2.5l-.94 2.06-2.06.94zm10 10l.94 2.06.94-2.06 2.06-.94-2.06-.94-.94-2.06-.94 2.06-2.06.94z\"/><path d=\"M17.41 7.96l-1.37-1.37c-.4-.4-.92-.59-1.43-.59-.52 0-1.04.2-1.43.59L10.3 9.45l-7.72 7.72c-.78.78-.78 2.05 0 2.83L4 21.41c.39.39.9.59 1.41.59.51 0 1.02-.2 1.41-.59l7.78-7.78 2.81-2.81c.8-.78.8-2.07 0-2.86zM5.41 20L4 18.59l7.72-7.72 1.47 1.35L5.41 20z\"/>\n",
              "  </svg>\n",
              "      </button>\n",
              "      \n",
              "  <style>\n",
              "    .colab-df-container {\n",
              "      display:flex;\n",
              "      flex-wrap:wrap;\n",
              "      gap: 12px;\n",
              "    }\n",
              "\n",
              "    .colab-df-convert {\n",
              "      background-color: #E8F0FE;\n",
              "      border: none;\n",
              "      border-radius: 50%;\n",
              "      cursor: pointer;\n",
              "      display: none;\n",
              "      fill: #1967D2;\n",
              "      height: 32px;\n",
              "      padding: 0 0 0 0;\n",
              "      width: 32px;\n",
              "    }\n",
              "\n",
              "    .colab-df-convert:hover {\n",
              "      background-color: #E2EBFA;\n",
              "      box-shadow: 0px 1px 2px rgba(60, 64, 67, 0.3), 0px 1px 3px 1px rgba(60, 64, 67, 0.15);\n",
              "      fill: #174EA6;\n",
              "    }\n",
              "\n",
              "    [theme=dark] .colab-df-convert {\n",
              "      background-color: #3B4455;\n",
              "      fill: #D2E3FC;\n",
              "    }\n",
              "\n",
              "    [theme=dark] .colab-df-convert:hover {\n",
              "      background-color: #434B5C;\n",
              "      box-shadow: 0px 1px 3px 1px rgba(0, 0, 0, 0.15);\n",
              "      filter: drop-shadow(0px 1px 2px rgba(0, 0, 0, 0.3));\n",
              "      fill: #FFFFFF;\n",
              "    }\n",
              "  </style>\n",
              "\n",
              "      <script>\n",
              "        const buttonEl =\n",
              "          document.querySelector('#df-47a04597-7e0d-4426-b808-7f5a739499e4 button.colab-df-convert');\n",
              "        buttonEl.style.display =\n",
              "          google.colab.kernel.accessAllowed ? 'block' : 'none';\n",
              "\n",
              "        async function convertToInteractive(key) {\n",
              "          const element = document.querySelector('#df-47a04597-7e0d-4426-b808-7f5a739499e4');\n",
              "          const dataTable =\n",
              "            await google.colab.kernel.invokeFunction('convertToInteractive',\n",
              "                                                     [key], {});\n",
              "          if (!dataTable) return;\n",
              "\n",
              "          const docLinkHtml = 'Like what you see? Visit the ' +\n",
              "            '<a target=\"_blank\" href=https://colab.research.google.com/notebooks/data_table.ipynb>data table notebook</a>'\n",
              "            + ' to learn more about interactive tables.';\n",
              "          element.innerHTML = '';\n",
              "          dataTable['output_type'] = 'display_data';\n",
              "          await google.colab.output.renderOutput(dataTable, element);\n",
              "          const docLink = document.createElement('div');\n",
              "          docLink.innerHTML = docLinkHtml;\n",
              "          element.appendChild(docLink);\n",
              "        }\n",
              "      </script>\n",
              "    </div>\n",
              "  </div>\n",
              "  "
            ]
          },
          "metadata": {},
          "execution_count": 5
        }
      ]
    },
    {
      "cell_type": "markdown",
      "source": [
        "\n",
        "There are no duplicates found."
      ],
      "metadata": {
        "id": "N0RvVmmHna6C"
      }
    },
    {
      "cell_type": "code",
      "source": [
        "# Determine number of rows and columns\n",
        "stud_df.shape"
      ],
      "metadata": {
        "colab": {
          "base_uri": "https://localhost:8080/"
        },
        "id": "NAkRAaTBLc7F",
        "outputId": "566bfc3f-ae8d-48bc-c7d3-4c1838b481ad"
      },
      "execution_count": null,
      "outputs": [
        {
          "output_type": "execute_result",
          "data": {
            "text/plain": [
              "(145, 19)"
            ]
          },
          "metadata": {},
          "execution_count": 6
        }
      ]
    },
    {
      "cell_type": "markdown",
      "source": [
        "> *`df.shape` returns a tuple (nrow,ncolumn)\n",
        ", representing the dimensionality of the dataframe.*\n",
        "\n",
        "\n",
        "\n",
        "The number of rows and columns of the dataset are 145 and 19, respectively.\n",
        "\n"
      ],
      "metadata": {
        "id": "b0UxQCGTngjK"
      }
    },
    {
      "cell_type": "code",
      "source": [
        "# Quick view basic information of data frame \n",
        "stud_df.info()"
      ],
      "metadata": {
        "colab": {
          "base_uri": "https://localhost:8080/"
        },
        "id": "CDQeKZZrAIgn",
        "outputId": "2333e17e-f69e-423c-dfc4-cc2f10573794"
      },
      "execution_count": null,
      "outputs": [
        {
          "output_type": "stream",
          "name": "stdout",
          "text": [
            "<class 'pandas.core.frame.DataFrame'>\n",
            "Index: 145 entries, STUDENT1 to STUDENT145\n",
            "Data columns (total 19 columns):\n",
            " #   Column           Non-Null Count  Dtype  \n",
            "---  ------           --------------  -----  \n",
            " 0   AGE              145 non-null    int64  \n",
            " 1   GENDER           145 non-null    object \n",
            " 2   HS_TYPE          145 non-null    object \n",
            " 3   SCHOLARSHIP      145 non-null    object \n",
            " 4   WORK             145 non-null    object \n",
            " 5   ACTIVITY         145 non-null    object \n",
            " 6   PARTNER          145 non-null    object \n",
            " 7   SALARY           145 non-null    int64  \n",
            " 8   TRANSPORT        120 non-null    object \n",
            " 9   ACCOMM_TYPE      145 non-null    object \n",
            " 10  MOTHER_EDU       145 non-null    object \n",
            " 11  FATHER_EDU       145 non-null    object \n",
            " 12  #_SIBLINGS       145 non-null    object \n",
            " 13  PARENTAL_STATUS  145 non-null    object \n",
            " 14  MOTHER_JOB       145 non-null    object \n",
            " 15  FATHER_JOB       145 non-null    object \n",
            " 16  STUDY_HRS        116 non-null    float64\n",
            " 17  CUML_GPA         145 non-null    object \n",
            " 18  EXP_GPA          145 non-null    object \n",
            "dtypes: float64(1), int64(2), object(16)\n",
            "memory usage: 26.7+ KB\n"
          ]
        }
      ]
    },
    {
      "cell_type": "markdown",
      "source": [
        "\n",
        "> *df.info()* returns the basic information of the data frame, including the total number of entries, the count of missing values and the data type of each column."
      ],
      "metadata": {
        "id": "vGm6SU8zns3l"
      }
    },
    {
      "cell_type": "code",
      "source": [
        "# Identify the count of unique values in each column\n",
        "stud_df.nunique()"
      ],
      "metadata": {
        "id": "-QZZpNIgMYus",
        "colab": {
          "base_uri": "https://localhost:8080/"
        },
        "outputId": "8bca588d-0232-4126-af23-15901038789b"
      },
      "execution_count": null,
      "outputs": [
        {
          "output_type": "execute_result",
          "data": {
            "text/plain": [
              "AGE                 8\n",
              "GENDER              2\n",
              "HS_TYPE             3\n",
              "SCHOLARSHIP         5\n",
              "WORK                2\n",
              "ACTIVITY            2\n",
              "PARTNER             2\n",
              "SALARY             40\n",
              "TRANSPORT           3\n",
              "ACCOMM_TYPE         4\n",
              "MOTHER_EDU          6\n",
              "FATHER_EDU          6\n",
              "#_SIBLINGS          5\n",
              "PARENTAL_STATUS     3\n",
              "MOTHER_JOB          5\n",
              "FATHER_JOB          5\n",
              "STUDY_HRS          17\n",
              "CUML_GPA            5\n",
              "EXP_GPA             4\n",
              "dtype: int64"
            ]
          },
          "metadata": {},
          "execution_count": 8
        }
      ]
    },
    {
      "cell_type": "markdown",
      "source": [
        "**Handling with Missing Values**"
      ],
      "metadata": {
        "id": "7GZ2xsu0Cc8Z"
      }
    },
    {
      "cell_type": "code",
      "source": [
        "#Check the total null values in each column\n",
        "stud_df.isnull().sum()"
      ],
      "metadata": {
        "colab": {
          "base_uri": "https://localhost:8080/"
        },
        "id": "EyzV7TbHLwGj",
        "outputId": "58f98215-0c91-40b9-d7e5-b979a1f09801"
      },
      "execution_count": null,
      "outputs": [
        {
          "output_type": "execute_result",
          "data": {
            "text/plain": [
              "AGE                 0\n",
              "GENDER              0\n",
              "HS_TYPE             0\n",
              "SCHOLARSHIP         0\n",
              "WORK                0\n",
              "ACTIVITY            0\n",
              "PARTNER             0\n",
              "SALARY              0\n",
              "TRANSPORT          25\n",
              "ACCOMM_TYPE         0\n",
              "MOTHER_EDU          0\n",
              "FATHER_EDU          0\n",
              "#_SIBLINGS          0\n",
              "PARENTAL_STATUS     0\n",
              "MOTHER_JOB          0\n",
              "FATHER_JOB          0\n",
              "STUDY_HRS          29\n",
              "CUML_GPA            0\n",
              "EXP_GPA             0\n",
              "dtype: int64"
            ]
          },
          "metadata": {},
          "execution_count": 9
        }
      ]
    },
    {
      "cell_type": "markdown",
      "source": [
        "\n",
        "> *`df.isnull()`* is used to detect missing values. It returns the data frame where the NULL values are replaced with True, otherwise False.\n",
        "\n",
        "> *`df.isnull().sum()`* returns the count of missing values in the each column\n",
        "\n",
        "\n",
        "The only column with missing values is STUDY_HRS, in a total of 29.\n",
        "\n",
        "\n",
        "\n",
        "\n"
      ],
      "metadata": {
        "id": "nZkttDOJxSFm"
      }
    },
    {
      "cell_type": "code",
      "source": [
        "print(f'Percentage of missing values in STUDY_HRS: {29/len(stud_df)*100}%.')"
      ],
      "metadata": {
        "colab": {
          "base_uri": "https://localhost:8080/"
        },
        "id": "AU2ng9kJl_gn",
        "outputId": "9118deca-138a-4b7b-a02b-0c9d2329f757"
      },
      "execution_count": null,
      "outputs": [
        {
          "output_type": "stream",
          "name": "stdout",
          "text": [
            "Percentage of missing values in STUDY_HRS: 20.0%.\n"
          ]
        }
      ]
    },
    {
      "cell_type": "markdown",
      "source": [
        "Since 20% of missing values is still acceptable, mean or median imputation is applicable instead of removing the data. Since the mean value will be highly influenced by outliers, we use median to replace the missing values in STUDY_HRS.\n"
      ],
      "metadata": {
        "id": "HukvcCmjA6w1"
      }
    },
    {
      "cell_type": "code",
      "source": [
        "stud_df.fillna({'STUDY_HRS': stud_df.STUDY_HRS.median()}, inplace = True)\n",
        "print(f'Number of missing values in STUDY_HRS after median imputation: {stud_df.STUDY_HRS.isnull().sum()}.')"
      ],
      "metadata": {
        "id": "QqNFRN3nAFEB",
        "colab": {
          "base_uri": "https://localhost:8080/"
        },
        "outputId": "fbd99ee4-9635-4ebe-afcf-6d5db4d7f60e"
      },
      "execution_count": null,
      "outputs": [
        {
          "output_type": "stream",
          "name": "stdout",
          "text": [
            "Number of missing values in STUDY_HRS after median imputation: 0.\n"
          ]
        }
      ]
    },
    {
      "cell_type": "markdown",
      "source": [
        "# 2.0 Exploratory Data Analysis\n",
        "\n",
        "---\n",
        "\n",
        "\n",
        "\n",
        "\n",
        "\n",
        "\n"
      ],
      "metadata": {
        "id": "wZA8dRngErIn"
      }
    },
    {
      "cell_type": "markdown",
      "source": [
        "### 2.1 Numerical Data Analysis\n",
        "\n"
      ],
      "metadata": {
        "id": "xh2hyJqhUm-L"
      }
    },
    {
      "cell_type": "code",
      "source": [
        "#Determine basic descriptive statistic (.T : transpose)\n",
        "stud_df.describe().T"
      ],
      "metadata": {
        "colab": {
          "base_uri": "https://localhost:8080/",
          "height": 142
        },
        "id": "YQmqlVyiLVIt",
        "outputId": "01fec81c-604b-4c91-fbf6-c9b92d23d78d"
      },
      "execution_count": null,
      "outputs": [
        {
          "output_type": "execute_result",
          "data": {
            "text/plain": [
              "           count        mean        std    min    25%    50%    75%    max\n",
              "AGE        145.0   22.110345   1.911650   19.0   21.0   23.0   23.0   26.0\n",
              "SALARY     145.0  213.931034  74.092159  135.0  165.0  185.0  250.0  520.0\n",
              "STUDY_HRS  145.0    5.262069   4.085919    1.0    3.0    4.0    6.0   22.0"
            ],
            "text/html": [
              "\n",
              "  <div id=\"df-4e869140-38a8-408f-9c1f-7707f4b91f11\">\n",
              "    <div class=\"colab-df-container\">\n",
              "      <div>\n",
              "<style scoped>\n",
              "    .dataframe tbody tr th:only-of-type {\n",
              "        vertical-align: middle;\n",
              "    }\n",
              "\n",
              "    .dataframe tbody tr th {\n",
              "        vertical-align: top;\n",
              "    }\n",
              "\n",
              "    .dataframe thead th {\n",
              "        text-align: right;\n",
              "    }\n",
              "</style>\n",
              "<table border=\"1\" class=\"dataframe\">\n",
              "  <thead>\n",
              "    <tr style=\"text-align: right;\">\n",
              "      <th></th>\n",
              "      <th>count</th>\n",
              "      <th>mean</th>\n",
              "      <th>std</th>\n",
              "      <th>min</th>\n",
              "      <th>25%</th>\n",
              "      <th>50%</th>\n",
              "      <th>75%</th>\n",
              "      <th>max</th>\n",
              "    </tr>\n",
              "  </thead>\n",
              "  <tbody>\n",
              "    <tr>\n",
              "      <th>AGE</th>\n",
              "      <td>145.0</td>\n",
              "      <td>22.110345</td>\n",
              "      <td>1.911650</td>\n",
              "      <td>19.0</td>\n",
              "      <td>21.0</td>\n",
              "      <td>23.0</td>\n",
              "      <td>23.0</td>\n",
              "      <td>26.0</td>\n",
              "    </tr>\n",
              "    <tr>\n",
              "      <th>SALARY</th>\n",
              "      <td>145.0</td>\n",
              "      <td>213.931034</td>\n",
              "      <td>74.092159</td>\n",
              "      <td>135.0</td>\n",
              "      <td>165.0</td>\n",
              "      <td>185.0</td>\n",
              "      <td>250.0</td>\n",
              "      <td>520.0</td>\n",
              "    </tr>\n",
              "    <tr>\n",
              "      <th>STUDY_HRS</th>\n",
              "      <td>145.0</td>\n",
              "      <td>5.262069</td>\n",
              "      <td>4.085919</td>\n",
              "      <td>1.0</td>\n",
              "      <td>3.0</td>\n",
              "      <td>4.0</td>\n",
              "      <td>6.0</td>\n",
              "      <td>22.0</td>\n",
              "    </tr>\n",
              "  </tbody>\n",
              "</table>\n",
              "</div>\n",
              "      <button class=\"colab-df-convert\" onclick=\"convertToInteractive('df-4e869140-38a8-408f-9c1f-7707f4b91f11')\"\n",
              "              title=\"Convert this dataframe to an interactive table.\"\n",
              "              style=\"display:none;\">\n",
              "        \n",
              "  <svg xmlns=\"http://www.w3.org/2000/svg\" height=\"24px\"viewBox=\"0 0 24 24\"\n",
              "       width=\"24px\">\n",
              "    <path d=\"M0 0h24v24H0V0z\" fill=\"none\"/>\n",
              "    <path d=\"M18.56 5.44l.94 2.06.94-2.06 2.06-.94-2.06-.94-.94-2.06-.94 2.06-2.06.94zm-11 1L8.5 8.5l.94-2.06 2.06-.94-2.06-.94L8.5 2.5l-.94 2.06-2.06.94zm10 10l.94 2.06.94-2.06 2.06-.94-2.06-.94-.94-2.06-.94 2.06-2.06.94z\"/><path d=\"M17.41 7.96l-1.37-1.37c-.4-.4-.92-.59-1.43-.59-.52 0-1.04.2-1.43.59L10.3 9.45l-7.72 7.72c-.78.78-.78 2.05 0 2.83L4 21.41c.39.39.9.59 1.41.59.51 0 1.02-.2 1.41-.59l7.78-7.78 2.81-2.81c.8-.78.8-2.07 0-2.86zM5.41 20L4 18.59l7.72-7.72 1.47 1.35L5.41 20z\"/>\n",
              "  </svg>\n",
              "      </button>\n",
              "      \n",
              "  <style>\n",
              "    .colab-df-container {\n",
              "      display:flex;\n",
              "      flex-wrap:wrap;\n",
              "      gap: 12px;\n",
              "    }\n",
              "\n",
              "    .colab-df-convert {\n",
              "      background-color: #E8F0FE;\n",
              "      border: none;\n",
              "      border-radius: 50%;\n",
              "      cursor: pointer;\n",
              "      display: none;\n",
              "      fill: #1967D2;\n",
              "      height: 32px;\n",
              "      padding: 0 0 0 0;\n",
              "      width: 32px;\n",
              "    }\n",
              "\n",
              "    .colab-df-convert:hover {\n",
              "      background-color: #E2EBFA;\n",
              "      box-shadow: 0px 1px 2px rgba(60, 64, 67, 0.3), 0px 1px 3px 1px rgba(60, 64, 67, 0.15);\n",
              "      fill: #174EA6;\n",
              "    }\n",
              "\n",
              "    [theme=dark] .colab-df-convert {\n",
              "      background-color: #3B4455;\n",
              "      fill: #D2E3FC;\n",
              "    }\n",
              "\n",
              "    [theme=dark] .colab-df-convert:hover {\n",
              "      background-color: #434B5C;\n",
              "      box-shadow: 0px 1px 3px 1px rgba(0, 0, 0, 0.15);\n",
              "      filter: drop-shadow(0px 1px 2px rgba(0, 0, 0, 0.3));\n",
              "      fill: #FFFFFF;\n",
              "    }\n",
              "  </style>\n",
              "\n",
              "      <script>\n",
              "        const buttonEl =\n",
              "          document.querySelector('#df-4e869140-38a8-408f-9c1f-7707f4b91f11 button.colab-df-convert');\n",
              "        buttonEl.style.display =\n",
              "          google.colab.kernel.accessAllowed ? 'block' : 'none';\n",
              "\n",
              "        async function convertToInteractive(key) {\n",
              "          const element = document.querySelector('#df-4e869140-38a8-408f-9c1f-7707f4b91f11');\n",
              "          const dataTable =\n",
              "            await google.colab.kernel.invokeFunction('convertToInteractive',\n",
              "                                                     [key], {});\n",
              "          if (!dataTable) return;\n",
              "\n",
              "          const docLinkHtml = 'Like what you see? Visit the ' +\n",
              "            '<a target=\"_blank\" href=https://colab.research.google.com/notebooks/data_table.ipynb>data table notebook</a>'\n",
              "            + ' to learn more about interactive tables.';\n",
              "          element.innerHTML = '';\n",
              "          dataTable['output_type'] = 'display_data';\n",
              "          await google.colab.output.renderOutput(dataTable, element);\n",
              "          const docLink = document.createElement('div');\n",
              "          docLink.innerHTML = docLinkHtml;\n",
              "          element.appendChild(docLink);\n",
              "        }\n",
              "      </script>\n",
              "    </div>\n",
              "  </div>\n",
              "  "
            ]
          },
          "metadata": {},
          "execution_count": 12
        }
      ]
    },
    {
      "cell_type": "markdown",
      "source": [
        "> *`df.describe()`* returns the basic descriptive statistics of numerical data in the data frame, including count, mean, standard deviation, min, max, and percentiles.\n",
        "\n",
        "Apart from using the quick descriptive analysis, we can perform a more detailed and specific descriptive analysis as shown below:\n",
        "\n",
        "\n"
      ],
      "metadata": {
        "id": "NShZ8skV9Pvc"
      }
    },
    {
      "cell_type": "code",
      "source": [
        "#Find mean of numerical variables & round the floating-point num in 2 decimal places\n",
        "round(stud_df.mean(numeric_only=True),2)"
      ],
      "metadata": {
        "colab": {
          "base_uri": "https://localhost:8080/"
        },
        "id": "IyZ9qcYY3fit",
        "outputId": "65afc90e-6e84-4081-f939-98c5dc35ad5e"
      },
      "execution_count": null,
      "outputs": [
        {
          "output_type": "execute_result",
          "data": {
            "text/plain": [
              "AGE           22.11\n",
              "SALARY       213.93\n",
              "STUDY_HRS      5.26\n",
              "dtype: float64"
            ]
          },
          "metadata": {},
          "execution_count": 13
        }
      ]
    },
    {
      "cell_type": "markdown",
      "source": [
        "*   The average age of the higher education students is about 22 years old.\n",
        "*  The average total salary earned by the students (if available) is 213.93 dollars.\n",
        "*  Students spent an average of 5.26 hours in study per week."
      ],
      "metadata": {
        "id": "PJXzwIY96C7H"
      }
    },
    {
      "cell_type": "code",
      "source": [
        "#Find median of numerical variables\n",
        "stud_df.median(numeric_only=True)"
      ],
      "metadata": {
        "colab": {
          "base_uri": "https://localhost:8080/"
        },
        "id": "ifm_PV1l3fZo",
        "outputId": "361c5e7c-e723-46db-879a-7ce730c928f3"
      },
      "execution_count": null,
      "outputs": [
        {
          "output_type": "execute_result",
          "data": {
            "text/plain": [
              "AGE           23.0\n",
              "SALARY       185.0\n",
              "STUDY_HRS      4.0\n",
              "dtype: float64"
            ]
          },
          "metadata": {},
          "execution_count": 14
        }
      ]
    },
    {
      "cell_type": "markdown",
      "source": [
        "*  The median of AGE is 23 years old.\n",
        "*  The median of SALARY is 185 dollars.\n",
        "*  The median of STUDY_HRS is 4 hours.\n",
        "*  The median of SALARY and STUDY_HRS are smaller than their mean values.\n",
        "\n",
        "\n"
      ],
      "metadata": {
        "id": "LvrBnzEl70tW"
      }
    },
    {
      "cell_type": "code",
      "source": [
        "#Determine the skewness of data\n",
        "stud_df.skew(numeric_only=True)"
      ],
      "metadata": {
        "colab": {
          "base_uri": "https://localhost:8080/"
        },
        "id": "ShlySIN84yd2",
        "outputId": "a6c2b366-cb93-4607-9c7e-0913c0d987b7"
      },
      "execution_count": null,
      "outputs": [
        {
          "output_type": "execute_result",
          "data": {
            "text/plain": [
              "AGE          0.148779\n",
              "SALARY       1.702174\n",
              "STUDY_HRS    2.286651\n",
              "dtype: float64"
            ]
          },
          "metadata": {},
          "execution_count": 15
        }
      ]
    },
    {
      "cell_type": "markdown",
      "source": [
        "* All skewness values are positive, implying their distribution is positively-skewed (right-skewed).\n",
        "* The skewness value of AGE is very low, which means the data is fairly symmetrical.\n",
        "* STUDY_HRS skewed to the right the most, which implies mean > median, as expected."
      ],
      "metadata": {
        "id": "Oob7bExUDEBF"
      }
    },
    {
      "cell_type": "code",
      "source": [
        "#Determine kurtosis\n",
        "stud_df.kurtosis(numeric_only=True)"
      ],
      "metadata": {
        "colab": {
          "base_uri": "https://localhost:8080/"
        },
        "id": "xe_FqeMH445p",
        "outputId": "5b9ede6b-5cb1-4ef0-8e14-08760712f74e"
      },
      "execution_count": null,
      "outputs": [
        {
          "output_type": "execute_result",
          "data": {
            "text/plain": [
              "AGE         -0.654111\n",
              "SALARY       2.990052\n",
              "STUDY_HRS    6.044287\n",
              "dtype: float64"
            ]
          },
          "metadata": {},
          "execution_count": 16
        }
      ]
    },
    {
      "cell_type": "markdown",
      "source": [
        "* Only AGE has negative kurtosis value, indicating a flat and thin-tailed distribution. So, outliers are less likely to occur.\n",
        "* SALARY and STUDY_HRS have positive kurtosis, which means their distribution is peaked and has thick tails. So, outliers are expected and more likely to occur.\n",
        "* Since the kurtosis value of STUDY_HRS is higher than SALARY, it is more heavy-tailed, where more data values located in the tails instead of around the mean.\n",
        "\n",
        "\n",
        "\n"
      ],
      "metadata": {
        "id": "2wnJauF9KiRp"
      }
    },
    {
      "cell_type": "markdown",
      "source": [
        "**Numerical Data Distribution Visualization**\n",
        "\n",
        "1. Boxplot"
      ],
      "metadata": {
        "id": "hWt6ih4gN8tT"
      }
    },
    {
      "cell_type": "code",
      "source": [
        "#num_df consists of all numerical columns only\n",
        "num_df = stud_df.select_dtypes(exclude = \"object\")\n",
        "\n",
        "#Plot a boxplot for each numerical column \n",
        "for col in num_df:\n",
        "  plt.figure(figsize=(5,4))\n",
        "  sns.boxplot(x = num_df[col])\n",
        "  plt.show()\n",
        "  print('\\n')\n",
        "  "
      ],
      "metadata": {
        "colab": {
          "base_uri": "https://localhost:8080/",
          "height": 906
        },
        "id": "9zjwM9l-8FGo",
        "outputId": "ad9394c8-946c-46d8-8774-3c6cdb52c5fc"
      },
      "execution_count": null,
      "outputs": [
        {
          "output_type": "display_data",
          "data": {
            "text/plain": [
              "<Figure size 360x288 with 1 Axes>"
            ],
            "image/png": "[encoded data removed]"
          },
          "metadata": {
            "needs_background": "light"
          }
        },
        {
          "output_type": "stream",
          "name": "stdout",
          "text": [
            "\n",
            "\n"
          ]
        },
        {
          "output_type": "display_data",
          "data": {
            "text/plain": [
              "<Figure size 360x288 with 1 Axes>"
            ],
            "image/png": "[encoded data removed]"
          },
          "metadata": {
            "needs_background": "light"
          }
        },
        {
          "output_type": "stream",
          "name": "stdout",
          "text": [
            "\n",
            "\n"
          ]
        },
        {
          "output_type": "display_data",
          "data": {
            "text/plain": [
              "<Figure size 360x288 with 1 Axes>"
            ],
            "image/png": "[encoded data removed]"
          },
          "metadata": {
            "needs_background": "light"
          }
        },
        {
          "output_type": "stream",
          "name": "stdout",
          "text": [
            "\n",
            "\n"
          ]
        }
      ]
    },
    {
      "cell_type": "markdown",
      "source": [
        "2. Histogram and Density Plot"
      ],
      "metadata": {
        "id": "25iZyhCSORNF"
      }
    },
    {
      "cell_type": "code",
      "source": [
        "#Plot a histogram and density plot for each numerical column \n",
        "for col in num_df:\n",
        "  fig = sns.distplot(x = num_df[col])\n",
        "  fig.set(title=f'Histogram and Density plot of {col}')\n",
        "  plt.show()"
      ],
      "metadata": {
        "colab": {
          "base_uri": "https://localhost:8080/",
          "height": 931
        },
        "id": "9td_aqpNXo46",
        "outputId": "4834c111-1de9-4acf-d576-2750583a0c35"
      },
      "execution_count": null,
      "outputs": [
        {
          "output_type": "stream",
          "name": "stderr",
          "text": [
            "/usr/local/lib/python3.7/dist-packages/seaborn/distributions.py:2619: FutureWarning: `distplot` is a deprecated function and will be removed in a future version. Please adapt your code to use either `displot` (a figure-level function with similar flexibility) or `histplot` (an axes-level function for histograms).\n",
            "  warnings.warn(msg, FutureWarning)\n"
          ]
        },
        {
          "output_type": "display_data",
          "data": {
            "text/plain": [
              "<Figure size 432x288 with 1 Axes>"
            ],
            "image/png": "[encoded data removed]"
          },
          "metadata": {
            "needs_background": "light"
          }
        },
        {
          "output_type": "stream",
          "name": "stderr",
          "text": [
            "/usr/local/lib/python3.7/dist-packages/seaborn/distributions.py:2619: FutureWarning: `distplot` is a deprecated function and will be removed in a future version. Please adapt your code to use either `displot` (a figure-level function with similar flexibility) or `histplot` (an axes-level function for histograms).\n",
            "  warnings.warn(msg, FutureWarning)\n"
          ]
        },
        {
          "output_type": "display_data",
          "data": {
            "text/plain": [
              "<Figure size 432x288 with 1 Axes>"
            ],
            "image/png": "[encoded data removed]"
          },
          "metadata": {
            "needs_background": "light"
          }
        },
        {
          "output_type": "stream",
          "name": "stderr",
          "text": [
            "/usr/local/lib/python3.7/dist-packages/seaborn/distributions.py:2619: FutureWarning: `distplot` is a deprecated function and will be removed in a future version. Please adapt your code to use either `displot` (a figure-level function with similar flexibility) or `histplot` (an axes-level function for histograms).\n",
            "  warnings.warn(msg, FutureWarning)\n"
          ]
        },
        {
          "output_type": "display_data",
          "data": {
            "text/plain": [
              "<Figure size 432x288 with 1 Axes>"
            ],
            "image/png": "[encoded data removed]"
          },
          "metadata": {
            "needs_background": "light"
          }
        }
      ]
    },
    {
      "cell_type": "markdown",
      "source": [
        "The distributions of each box plot and histogram and density plot of each variables are as expected in our skewness and kurtosis intepretation above."
      ],
      "metadata": {
        "id": "1lhRcIKKPnYv"
      }
    },
    {
      "cell_type": "markdown",
      "source": [
        "**Correlation between Numerical Data**"
      ],
      "metadata": {
        "id": "fkkfXOJ90o-H"
      }
    },
    {
      "cell_type": "code",
      "source": [
        "# find correlation matrix\n",
        "stud_df.corr()"
      ],
      "metadata": {
        "colab": {
          "base_uri": "https://localhost:8080/",
          "height": 142
        },
        "id": "h72n5ejQVzrn",
        "outputId": "20a53370-19a2-4328-de3f-259b3abeafbf"
      },
      "execution_count": null,
      "outputs": [
        {
          "output_type": "execute_result",
          "data": {
            "text/plain": [
              "                AGE    SALARY  STUDY_HRS\n",
              "AGE        1.000000  0.081737  -0.070409\n",
              "SALARY     0.081737  1.000000  -0.048272\n",
              "STUDY_HRS -0.070409 -0.048272   1.000000"
            ],
            "text/html": [
              "\n",
              "  <div id=\"df-6559d095-bbd8-4c5f-ad1b-6087581c6b47\">\n",
              "    <div class=\"colab-df-container\">\n",
              "      <div>\n",
              "<style scoped>\n",
              "    .dataframe tbody tr th:only-of-type {\n",
              "        vertical-align: middle;\n",
              "    }\n",
              "\n",
              "    .dataframe tbody tr th {\n",
              "        vertical-align: top;\n",
              "    }\n",
              "\n",
              "    .dataframe thead th {\n",
              "        text-align: right;\n",
              "    }\n",
              "</style>\n",
              "<table border=\"1\" class=\"dataframe\">\n",
              "  <thead>\n",
              "    <tr style=\"text-align: right;\">\n",
              "      <th></th>\n",
              "      <th>AGE</th>\n",
              "      <th>SALARY</th>\n",
              "      <th>STUDY_HRS</th>\n",
              "    </tr>\n",
              "  </thead>\n",
              "  <tbody>\n",
              "    <tr>\n",
              "      <th>AGE</th>\n",
              "      <td>1.000000</td>\n",
              "      <td>0.081737</td>\n",
              "      <td>-0.070409</td>\n",
              "    </tr>\n",
              "    <tr>\n",
              "      <th>SALARY</th>\n",
              "      <td>0.081737</td>\n",
              "      <td>1.000000</td>\n",
              "      <td>-0.048272</td>\n",
              "    </tr>\n",
              "    <tr>\n",
              "      <th>STUDY_HRS</th>\n",
              "      <td>-0.070409</td>\n",
              "      <td>-0.048272</td>\n",
              "      <td>1.000000</td>\n",
              "    </tr>\n",
              "  </tbody>\n",
              "</table>\n",
              "</div>\n",
              "      <button class=\"colab-df-convert\" onclick=\"convertToInteractive('df-6559d095-bbd8-4c5f-ad1b-6087581c6b47')\"\n",
              "              title=\"Convert this dataframe to an interactive table.\"\n",
              "              style=\"display:none;\">\n",
              "        \n",
              "  <svg xmlns=\"http://www.w3.org/2000/svg\" height=\"24px\"viewBox=\"0 0 24 24\"\n",
              "       width=\"24px\">\n",
              "    <path d=\"M0 0h24v24H0V0z\" fill=\"none\"/>\n",
              "    <path d=\"M18.56 5.44l.94 2.06.94-2.06 2.06-.94-2.06-.94-.94-2.06-.94 2.06-2.06.94zm-11 1L8.5 8.5l.94-2.06 2.06-.94-2.06-.94L8.5 2.5l-.94 2.06-2.06.94zm10 10l.94 2.06.94-2.06 2.06-.94-2.06-.94-.94-2.06-.94 2.06-2.06.94z\"/><path d=\"M17.41 7.96l-1.37-1.37c-.4-.4-.92-.59-1.43-.59-.52 0-1.04.2-1.43.59L10.3 9.45l-7.72 7.72c-.78.78-.78 2.05 0 2.83L4 21.41c.39.39.9.59 1.41.59.51 0 1.02-.2 1.41-.59l7.78-7.78 2.81-2.81c.8-.78.8-2.07 0-2.86zM5.41 20L4 18.59l7.72-7.72 1.47 1.35L5.41 20z\"/>\n",
              "  </svg>\n",
              "      </button>\n",
              "      \n",
              "  <style>\n",
              "    .colab-df-container {\n",
              "      display:flex;\n",
              "      flex-wrap:wrap;\n",
              "      gap: 12px;\n",
              "    }\n",
              "\n",
              "    .colab-df-convert {\n",
              "      background-color: #E8F0FE;\n",
              "      border: none;\n",
              "      border-radius: 50%;\n",
              "      cursor: pointer;\n",
              "      display: none;\n",
              "      fill: #1967D2;\n",
              "      height: 32px;\n",
              "      padding: 0 0 0 0;\n",
              "      width: 32px;\n",
              "    }\n",
              "\n",
              "    .colab-df-convert:hover {\n",
              "      background-color: #E2EBFA;\n",
              "      box-shadow: 0px 1px 2px rgba(60, 64, 67, 0.3), 0px 1px 3px 1px rgba(60, 64, 67, 0.15);\n",
              "      fill: #174EA6;\n",
              "    }\n",
              "\n",
              "    [theme=dark] .colab-df-convert {\n",
              "      background-color: #3B4455;\n",
              "      fill: #D2E3FC;\n",
              "    }\n",
              "\n",
              "    [theme=dark] .colab-df-convert:hover {\n",
              "      background-color: #434B5C;\n",
              "      box-shadow: 0px 1px 3px 1px rgba(0, 0, 0, 0.15);\n",
              "      filter: drop-shadow(0px 1px 2px rgba(0, 0, 0, 0.3));\n",
              "      fill: #FFFFFF;\n",
              "    }\n",
              "  </style>\n",
              "\n",
              "      <script>\n",
              "        const buttonEl =\n",
              "          document.querySelector('#df-6559d095-bbd8-4c5f-ad1b-6087581c6b47 button.colab-df-convert');\n",
              "        buttonEl.style.display =\n",
              "          google.colab.kernel.accessAllowed ? 'block' : 'none';\n",
              "\n",
              "        async function convertToInteractive(key) {\n",
              "          const element = document.querySelector('#df-6559d095-bbd8-4c5f-ad1b-6087581c6b47');\n",
              "          const dataTable =\n",
              "            await google.colab.kernel.invokeFunction('convertToInteractive',\n",
              "                                                     [key], {});\n",
              "          if (!dataTable) return;\n",
              "\n",
              "          const docLinkHtml = 'Like what you see? Visit the ' +\n",
              "            '<a target=\"_blank\" href=https://colab.research.google.com/notebooks/data_table.ipynb>data table notebook</a>'\n",
              "            + ' to learn more about interactive tables.';\n",
              "          element.innerHTML = '';\n",
              "          dataTable['output_type'] = 'display_data';\n",
              "          await google.colab.output.renderOutput(dataTable, element);\n",
              "          const docLink = document.createElement('div');\n",
              "          docLink.innerHTML = docLinkHtml;\n",
              "          element.appendChild(docLink);\n",
              "        }\n",
              "      </script>\n",
              "    </div>\n",
              "  </div>\n",
              "  "
            ]
          },
          "metadata": {},
          "execution_count": 19
        }
      ]
    },
    {
      "cell_type": "markdown",
      "source": [
        "*  From the correlation matrix, we can conclude that none of them (age,\n",
        "gender and weekly study hours) is strongly correlated. It indicates that the relationship or connection between these variables is weak. \n",
        "\n",
        "**Visualization:**\n",
        "* In a heat map plot, varying intensity of colour represents the measure of correlation. Each square represents the correlation between the variables on each axis, ranging from -1 to 1.\n",
        "* Values closer to zero indicate no real relationship between the two variables. Closer to 1 means more positively correlated."
      ],
      "metadata": {
        "id": "cnRI-lOGIwZd"
      }
    },
    {
      "cell_type": "code",
      "source": [
        "# plot correlation matrix using seaborn heatmap\n",
        "plt.figure(figsize=(5,5))\n",
        "sns.heatmap(stud_df.corr(),cbar=True,annot=True)"
      ],
      "metadata": {
        "colab": {
          "base_uri": "https://localhost:8080/",
          "height": 342
        },
        "id": "SbkxwdzMVtfi",
        "outputId": "a9f14837-e7c5-4244-8aec-5c131afbea5d"
      },
      "execution_count": null,
      "outputs": [
        {
          "output_type": "execute_result",
          "data": {
            "text/plain": [
              "<matplotlib.axes._subplots.AxesSubplot at 0x7f11fbded2d0>"
            ]
          },
          "metadata": {},
          "execution_count": 20
        },
        {
          "output_type": "display_data",
          "data": {
            "text/plain": [
              "<Figure size 360x360 with 2 Axes>"
            ],
            "image/png": "[encoded data removed]"
          },
          "metadata": {
            "needs_background": "light"
          }
        }
      ]
    },
    {
      "cell_type": "markdown",
      "source": [
        "## 2.2 Categorical Data Analysis\n",
        "\n",
        "---"
      ],
      "metadata": {
        "id": "Y_fDrszVZkCG"
      }
    },
    {
      "cell_type": "markdown",
      "source": [
        "### A. Student Personal Information\n",
        "\n",
        "**Gender**"
      ],
      "metadata": {
        "id": "-x62mDXSmBN3"
      }
    },
    {
      "cell_type": "code",
      "source": [
        "# Show frequency or count of students based on Gender\n",
        "stud_df['GENDER'].value_counts()"
      ],
      "metadata": {
        "colab": {
          "base_uri": "https://localhost:8080/"
        },
        "id": "BCAo52I0EieO",
        "outputId": "082b86bd-9fbf-4810-c436-09daf43322ee"
      },
      "execution_count": null,
      "outputs": [
        {
          "output_type": "execute_result",
          "data": {
            "text/plain": [
              "Male      87\n",
              "Female    58\n",
              "Name: GENDER, dtype: int64"
            ]
          },
          "metadata": {},
          "execution_count": 21
        }
      ]
    },
    {
      "cell_type": "markdown",
      "source": [
        "**Visualization:**"
      ],
      "metadata": {
        "id": "535RQWOx2KuU"
      }
    },
    {
      "cell_type": "code",
      "source": [
        "# visualize the frequency using bar plot\n",
        "fig = sns.countplot(x=stud_df['GENDER'])\n",
        "fig.set(xlabel='Gender',\n",
        "        ylabel='Number of Students',\n",
        "        title=\"Bar Plot of Gender\")\n",
        "# to display count values on the top of bar\n",
        "for p in fig.patches:\n",
        "   fig.annotate('{:.1f}'.format(p.get_height()), \n",
        "                (p.get_x()+p.get_width()/2, \n",
        "                 p.get_height()), ha ='center') #adjust position to center\n",
        "plt.show()"
      ],
      "metadata": {
        "colab": {
          "base_uri": "https://localhost:8080/",
          "height": 295
        },
        "id": "sY_W3cFD89-j",
        "outputId": "685a67e9-ee98-47fd-db6a-1a0a2079f4bf"
      },
      "execution_count": null,
      "outputs": [
        {
          "output_type": "display_data",
          "data": {
            "text/plain": [
              "<Figure size 432x288 with 1 Axes>"
            ],
            "image/png": "[encoded data removed]"
          },
          "metadata": {
            "needs_background": "light"
          }
        }
      ]
    },
    {
      "cell_type": "markdown",
      "source": [
        "* Among 145 students, there are 87 males, which is more than female students (58), as shown in the bar plot above.\n"
      ],
      "metadata": {
        "id": "9PNkRCLt6rx7"
      }
    },
    {
      "cell_type": "markdown",
      "source": [
        "**Graduated High School Type**"
      ],
      "metadata": {
        "id": "I17zMZ5wNrhL"
      }
    },
    {
      "cell_type": "code",
      "source": [
        "# Show count of students based on graduated high school type\n",
        "stud_df['HS_TYPE'].value_counts()"
      ],
      "metadata": {
        "colab": {
          "base_uri": "https://localhost:8080/"
        },
        "id": "ycq0LWc8xpxC",
        "outputId": "b1317dd6-82a9-49d5-821c-943ea3ba7ff9"
      },
      "execution_count": null,
      "outputs": [
        {
          "output_type": "execute_result",
          "data": {
            "text/plain": [
              "State      103\n",
              "Private     25\n",
              "Other       17\n",
              "Name: HS_TYPE, dtype: int64"
            ]
          },
          "metadata": {},
          "execution_count": 23
        }
      ]
    },
    {
      "cell_type": "markdown",
      "source": [
        "**Visualization:**"
      ],
      "metadata": {
        "id": "0sWxASI72Un_"
      }
    },
    {
      "cell_type": "code",
      "source": [
        "fig = sns.countplot(data=stud_df.sort_values('HS_TYPE'), \n",
        "                    x ='HS_TYPE')\n",
        "fig.set(xlabel = 'Graduated High School Type', \n",
        "        ylabel = 'Number of Students',\n",
        "        title=\"Bar Plot of Graduated High School Type\")\n",
        "for p in fig.patches:\n",
        "   fig.annotate('{:.1f}'.format(p.get_height()), (p.get_x()+p.get_width()/2, p.get_height()), ha ='center')\n",
        "plt.show()"
      ],
      "metadata": {
        "colab": {
          "base_uri": "https://localhost:8080/",
          "height": 295
        },
        "id": "gTnlLTqraHLR",
        "outputId": "a7d0de12-abb1-4b27-b9dc-d41b100e4506"
      },
      "execution_count": null,
      "outputs": [
        {
          "output_type": "display_data",
          "data": {
            "text/plain": [
              "<Figure size 432x288 with 1 Axes>"
            ],
            "image/png": "[encoded data removed]"
          },
          "metadata": {
            "needs_background": "light"
          }
        }
      ]
    },
    {
      "cell_type": "markdown",
      "source": [
        "\n",
        "\n",
        "*   Most students (103 out of 145) are graduated from state high school.\n",
        "*   Only 25 students are graduated from private high school.\n",
        "*   The rest of 17 students are graduated from other type of high school\n",
        "\n"
      ],
      "metadata": {
        "id": "xeivoP9dMR-8"
      }
    },
    {
      "cell_type": "markdown",
      "source": [
        "**Scholarship Type**"
      ],
      "metadata": {
        "id": "-vT3wRrhPPRu"
      }
    },
    {
      "cell_type": "code",
      "source": [
        "# round the percentage of students based on scholaship type in 2 decimal places\n",
        "round(stud_df['SCHOLARSHIP'].value_counts()/145*100,2)"
      ],
      "metadata": {
        "colab": {
          "base_uri": "https://localhost:8080/"
        },
        "id": "-XJCLL2yRirM",
        "outputId": "1c4ff1eb-39f4-4188-f72f-1e2533aeb483"
      },
      "execution_count": null,
      "outputs": [
        {
          "output_type": "execute_result",
          "data": {
            "text/plain": [
              "50%     52.41\n",
              "75%     28.97\n",
              "100%    15.86\n",
              "25%      2.07\n",
              "0%       0.69\n",
              "Name: SCHOLARSHIP, dtype: float64"
            ]
          },
          "metadata": {},
          "execution_count": 25
        }
      ]
    },
    {
      "cell_type": "markdown",
      "source": [
        "**Visualization:**"
      ],
      "metadata": {
        "id": "889NmWfc2W2S"
      }
    },
    {
      "cell_type": "code",
      "source": [
        "# get scholarship column string for sorting purpose\n",
        "stud_df['length'] = stud_df['SCHOLARSHIP'].str.len()\n",
        "df = stud_df.sort_values(['length','SCHOLARSHIP'])\n",
        "\n",
        "fig = sns.countplot(data = df, x ='SCHOLARSHIP',palette='Set2')\n",
        "fig.set(xlabel = 'Scholarship Type',\n",
        "        ylabel = 'Number of Students', \n",
        "        title=\"Bar Plot of Scholarship Type\")\n",
        "for p in fig.patches:\n",
        "   fig.annotate('{:.1f}'.format(p.get_height()), \n",
        "                (p.get_x()+p.get_width()/2, \n",
        "                 p.get_height()), \n",
        "                ha ='center')\n",
        "plt.show()\n"
      ],
      "metadata": {
        "colab": {
          "base_uri": "https://localhost:8080/",
          "height": 295
        },
        "id": "vvpeBhN_RrpW",
        "outputId": "edcad4e6-b792-495a-d915-1488a146b621"
      },
      "execution_count": null,
      "outputs": [
        {
          "output_type": "display_data",
          "data": {
            "text/plain": [
              "<Figure size 432x288 with 1 Axes>"
            ],
            "image/png": "[encoded data removed]"
          },
          "metadata": {
            "needs_background": "light"
          }
        }
      ]
    },
    {
      "cell_type": "markdown",
      "source": [
        "*   A majority of students (52.41% or 76 out of 145) took 50% scholarship.\n",
        "*   Only 1 student did not apply for scholarship.\n",
        "\n"
      ],
      "metadata": {
        "id": "v6E2OH68uYzG"
      }
    },
    {
      "cell_type": "markdown",
      "source": [
        "**Additional Work**"
      ],
      "metadata": {
        "id": "OSuo9eH-PUY9"
      }
    },
    {
      "cell_type": "code",
      "source": [
        "stud_df['WORK'].value_counts()"
      ],
      "metadata": {
        "colab": {
          "base_uri": "https://localhost:8080/"
        },
        "id": "H-rxqHVnRhVX",
        "outputId": "be13a029-cb25-4635-aa8d-c47f429476c8"
      },
      "execution_count": null,
      "outputs": [
        {
          "output_type": "execute_result",
          "data": {
            "text/plain": [
              "No     96\n",
              "Yes    49\n",
              "Name: WORK, dtype: int64"
            ]
          },
          "metadata": {},
          "execution_count": 27
        }
      ]
    },
    {
      "cell_type": "markdown",
      "source": [
        "* 99 students did not work whereas 49 students yes."
      ],
      "metadata": {
        "id": "7t_we8Fuv127"
      }
    },
    {
      "cell_type": "markdown",
      "source": [
        "**Regular Artistic or Sports Activity**"
      ],
      "metadata": {
        "id": "569Mcuy8Pb4D"
      }
    },
    {
      "cell_type": "code",
      "source": [
        "stud_df['ACTIVITY'].value_counts()"
      ],
      "metadata": {
        "colab": {
          "base_uri": "https://localhost:8080/"
        },
        "id": "7DBTXlQ2228E",
        "outputId": "50d7686e-f4d4-4a61-b158-68fdb9d87a39"
      },
      "execution_count": null,
      "outputs": [
        {
          "output_type": "execute_result",
          "data": {
            "text/plain": [
              "No     87\n",
              "Yes    58\n",
              "Name: ACTIVITY, dtype: int64"
            ]
          },
          "metadata": {},
          "execution_count": 28
        }
      ]
    },
    {
      "cell_type": "markdown",
      "source": [
        "**Visualization:**"
      ],
      "metadata": {
        "id": "fD1hnTX82l8p"
      }
    },
    {
      "cell_type": "code",
      "source": [
        "stud_df['ACTIVITY'].value_counts(normalize = True).plot(kind='pie', \n",
        "                                                        autopct='%1.0f%%',\n",
        "                                                        title='Regular artistic or sports activity?',\n",
        "                                                        colormap = 'Pastel1')"
      ],
      "metadata": {
        "colab": {
          "base_uri": "https://localhost:8080/",
          "height": 281
        },
        "id": "MnY2w0OXRuuB",
        "outputId": "9b4b224a-3b6b-4239-ad18-eeb8ec612323"
      },
      "execution_count": null,
      "outputs": [
        {
          "output_type": "execute_result",
          "data": {
            "text/plain": [
              "<matplotlib.axes._subplots.AxesSubplot at 0x7f11f930c490>"
            ]
          },
          "metadata": {},
          "execution_count": 29
        },
        {
          "output_type": "display_data",
          "data": {
            "text/plain": [
              "<Figure size 432x288 with 1 Axes>"
            ],
            "image/png": "[encoded data removed]"
          },
          "metadata": {}
        }
      ]
    },
    {
      "cell_type": "markdown",
      "source": [
        "* 60% students  did not participate in regular artistic or sports activity whereas 44% students yes."
      ],
      "metadata": {
        "id": "CCWy-O4Iwf7G"
      }
    },
    {
      "cell_type": "markdown",
      "source": [
        "**Partner**"
      ],
      "metadata": {
        "id": "N9fWoUeLPbrf"
      }
    },
    {
      "cell_type": "code",
      "source": [
        "stud_df['PARTNER'].value_counts()"
      ],
      "metadata": {
        "colab": {
          "base_uri": "https://localhost:8080/"
        },
        "id": "pM2yCPYDVi8H",
        "outputId": "7ec13d16-c5f1-4f41-81d2-4571044c84d6"
      },
      "execution_count": null,
      "outputs": [
        {
          "output_type": "execute_result",
          "data": {
            "text/plain": [
              "No     84\n",
              "Yes    61\n",
              "Name: PARTNER, dtype: int64"
            ]
          },
          "metadata": {},
          "execution_count": 30
        }
      ]
    },
    {
      "cell_type": "markdown",
      "source": [
        "**Visualization:**"
      ],
      "metadata": {
        "id": "NxF0r-Po2z0O"
      }
    },
    {
      "cell_type": "code",
      "source": [
        "stud_df['PARTNER'].value_counts(normalize = True).plot(kind='pie', \n",
        "                                                       autopct='%1.0f%%',\n",
        "                                                       title='Do you have a partner?',\n",
        "                                                       colormap = 'Pastel2')\n"
      ],
      "metadata": {
        "colab": {
          "base_uri": "https://localhost:8080/",
          "height": 281
        },
        "id": "qgr9KO81XbXi",
        "outputId": "4ee1735c-20f4-4e1c-84f5-d8ba969384ed"
      },
      "execution_count": null,
      "outputs": [
        {
          "output_type": "execute_result",
          "data": {
            "text/plain": [
              "<matplotlib.axes._subplots.AxesSubplot at 0x7f11f92ed150>"
            ]
          },
          "metadata": {},
          "execution_count": 31
        },
        {
          "output_type": "display_data",
          "data": {
            "text/plain": [
              "<Figure size 432x288 with 1 Axes>"
            ],
            "image/png": "[encoded data removed]"
          },
          "metadata": {}
        }
      ]
    },
    {
      "cell_type": "markdown",
      "source": [
        "* 84 (58%) students has partner whereas 61 (42%) students no."
      ],
      "metadata": {
        "id": "_KIP2s69xEfN"
      }
    },
    {
      "cell_type": "markdown",
      "source": [
        "**Transportation to the University**"
      ],
      "metadata": {
        "id": "1eTlZ9oBPvdL"
      }
    },
    {
      "cell_type": "code",
      "source": [
        "stud_df['TRANSPORT'].value_counts()"
      ],
      "metadata": {
        "colab": {
          "base_uri": "https://localhost:8080/"
        },
        "id": "W_wh0ZkfPvDL",
        "outputId": "433c2ffa-66de-4cd7-b231-012ebc1211a2"
      },
      "execution_count": null,
      "outputs": [
        {
          "output_type": "execute_result",
          "data": {
            "text/plain": [
              "Private Car/Taxi    98\n",
              "Other               21\n",
              "Bicycle              1\n",
              "Name: TRANSPORT, dtype: int64"
            ]
          },
          "metadata": {},
          "execution_count": 32
        }
      ]
    },
    {
      "cell_type": "markdown",
      "source": [
        "**Visualization:**"
      ],
      "metadata": {
        "id": "CT2SoSyN3AO4"
      }
    },
    {
      "cell_type": "code",
      "source": [
        "stud_df['TRANSPORT'].value_counts(normalize = True).plot(kind='pie', \n",
        "                                                       autopct='%1.0f%%',\n",
        "                                                       title='Transportation to University',\n",
        "                                                       colormap = 'Pastel1')"
      ],
      "metadata": {
        "colab": {
          "base_uri": "https://localhost:8080/",
          "height": 281
        },
        "id": "vzKWmvduRw_h",
        "outputId": "a50f9835-538b-49c9-d391-4fdcd90d5b2c"
      },
      "execution_count": null,
      "outputs": [
        {
          "output_type": "execute_result",
          "data": {
            "text/plain": [
              "<matplotlib.axes._subplots.AxesSubplot at 0x7f11f92bc1d0>"
            ]
          },
          "metadata": {},
          "execution_count": 33
        },
        {
          "output_type": "display_data",
          "data": {
            "text/plain": [
              "<Figure size 432x288 with 1 Axes>"
            ],
            "image/png": "[encoded data removed]"
          },
          "metadata": {}
        }
      ]
    },
    {
      "cell_type": "markdown",
      "source": [
        "* A majority of students (about 68% or 98 out of 145) students went to university by bus.\n",
        "* Only 1 student ride a bike to university. (outlier)"
      ],
      "metadata": {
        "id": "u9UFJywBxYnd"
      }
    },
    {
      "cell_type": "markdown",
      "source": [
        "**Accommodation type in Cyprus**"
      ],
      "metadata": {
        "id": "j4YorV8uQBBH"
      }
    },
    {
      "cell_type": "code",
      "source": [
        "stud_df['ACCOMM_TYPE'].value_counts()"
      ],
      "metadata": {
        "colab": {
          "base_uri": "https://localhost:8080/"
        },
        "id": "kQ2PZAPL78HJ",
        "outputId": "b303a70b-bedb-4cd5-d2d8-3378146deff4"
      },
      "execution_count": null,
      "outputs": [
        {
          "output_type": "execute_result",
          "data": {
            "text/plain": [
              "Rental         68\n",
              "Dormitory      49\n",
              "With family    27\n",
              "Other           1\n",
              "Name: ACCOMM_TYPE, dtype: int64"
            ]
          },
          "metadata": {},
          "execution_count": 34
        }
      ]
    },
    {
      "cell_type": "markdown",
      "source": [
        "**Visualization:**"
      ],
      "metadata": {
        "id": "1wF4kzfy3Eu-"
      }
    },
    {
      "cell_type": "code",
      "source": [
        "stud_df['ACCOMM_TYPE'].value_counts(normalize = True).plot(kind='pie', \n",
        "                                                       autopct='%1.0f%%',\n",
        "                                                       title='Accommodation Type in Cyprus',\n",
        "                                                       colormap = 'Set3')"
      ],
      "metadata": {
        "colab": {
          "base_uri": "https://localhost:8080/",
          "height": 281
        },
        "id": "7Tzs1vu77_zs",
        "outputId": "4b9e9849-910e-4ec2-94bb-a42b405b2155"
      },
      "execution_count": null,
      "outputs": [
        {
          "output_type": "execute_result",
          "data": {
            "text/plain": [
              "<matplotlib.axes._subplots.AxesSubplot at 0x7f11f9224d90>"
            ]
          },
          "metadata": {},
          "execution_count": 35
        },
        {
          "output_type": "display_data",
          "data": {
            "text/plain": [
              "<Figure size 432x288 with 1 Axes>"
            ],
            "image/png": "[encoded data removed]"
          },
          "metadata": {}
        }
      ]
    },
    {
      "cell_type": "markdown",
      "source": [
        "* Most of the students (47% or 68) choose to rent private accommodation.\n",
        "* 49 students are living at dormitory while 27 students are staying with their family.\n",
        "* Only 1 student is living in Other. (outlier)\n"
      ],
      "metadata": {
        "id": "WYdih_D_ySk0"
      }
    },
    {
      "cell_type": "markdown",
      "source": [
        "### B. Students Family Information\n",
        "**Parents' Education Level**\n",
        "\n",
        "**Visualization:**"
      ],
      "metadata": {
        "id": "-rVhx_FqQXMz"
      }
    },
    {
      "cell_type": "code",
      "source": [
        "parental_edu = stud_df[['MOTHER_EDU','FATHER_EDU']]\n",
        "for col in parental_edu.columns:\n",
        "  fig = sns.countplot(data = stud_df.sort_values(col), x =col ,palette='Set2')\n",
        "  fig.set_xticklabels(fig.get_xticklabels(),rotation = 50)\n",
        "  if col == 'MOTHER_EDU':\n",
        "    fig.set(xlabel='Mother\\'s Education Level', \n",
        "        title='Bar Plot of Mother\\'s Education Level')\n",
        "  else:\n",
        "    fig.set(xlabel='Father\\'s Education Level', \n",
        "        title='Bar Plot of Father\\'s Education Level')\n",
        "  for p in fig.patches:\n",
        "    fig.annotate('{:.1f}'.format(p.get_height()), (p.get_x()+p.get_width()/2, p.get_height()), ha ='center')\n",
        "  plt.show()\n",
        "  print('\\n\\n')"
      ],
      "metadata": {
        "colab": {
          "base_uri": "https://localhost:8080/",
          "height": 803
        },
        "id": "xUa1Qz7qRvva",
        "outputId": "3ecbd2d8-63cb-4dc5-fa00-f6db62d261e1"
      },
      "execution_count": null,
      "outputs": [
        {
          "output_type": "display_data",
          "data": {
            "text/plain": [
              "<Figure size 432x288 with 1 Axes>"
            ],
            "image/png": "[encoded data removed]"
          },
          "metadata": {
            "needs_background": "light"
          }
        },
        {
          "output_type": "stream",
          "name": "stdout",
          "text": [
            "\n",
            "\n",
            "\n"
          ]
        },
        {
          "output_type": "display_data",
          "data": {
            "text/plain": [
              "<Figure size 432x288 with 1 Axes>"
            ],
            "image/png": "[encoded data removed]"
          },
          "metadata": {
            "needs_background": "light"
          }
        },
        {
          "output_type": "stream",
          "name": "stdout",
          "text": [
            "\n",
            "\n",
            "\n"
          ]
        }
      ]
    },
    {
      "cell_type": "markdown",
      "source": [
        "* Majority of students' mothers' education level is at primary level (54), which is more than fathers'.\n",
        "* Only fewer students' mothers achieved higher education at the MSc and PhD levels.\n",
        "* The education level of most students' fathers (46) is at the high school level, which is more than mothers'.\n",
        "* Although the number of students' fathers who achieved higher education at the PhD level is less than mothers', the education level of students' fathers is generally higher than mothers."
      ],
      "metadata": {
        "id": "TESLAakt2mzj"
      }
    },
    {
      "cell_type": "markdown",
      "source": [
        "**Number of Siblings**"
      ],
      "metadata": {
        "id": "dNhWZiNJivRP"
      }
    },
    {
      "cell_type": "code",
      "source": [
        "stud_df['#_SIBLINGS'].value_counts().sort_index()"
      ],
      "metadata": {
        "colab": {
          "base_uri": "https://localhost:8080/"
        },
        "id": "aKo6AtQBivfC",
        "outputId": "9873ed5b-49ef-4302-d5e3-37e245c3be20"
      },
      "execution_count": null,
      "outputs": [
        {
          "output_type": "execute_result",
          "data": {
            "text/plain": [
              "1             27\n",
              "2             45\n",
              "3             26\n",
              "4             23\n",
              "5 or above    24\n",
              "Name: #_SIBLINGS, dtype: int64"
            ]
          },
          "metadata": {},
          "execution_count": 37
        }
      ]
    },
    {
      "cell_type": "markdown",
      "source": [
        "**Parental Status**"
      ],
      "metadata": {
        "id": "Sna19iRRUM7K"
      }
    },
    {
      "cell_type": "code",
      "source": [
        "stud_df['PARENTAL_STATUS'].value_counts().sort_index()"
      ],
      "metadata": {
        "colab": {
          "base_uri": "https://localhost:8080/"
        },
        "id": "v8uY3vmRUT59",
        "outputId": "24265318-2636-48af-ae69-159428bf275f"
      },
      "execution_count": null,
      "outputs": [
        {
          "output_type": "execute_result",
          "data": {
            "text/plain": [
              "Died - one of them or both      7\n",
              "Divorced                       11\n",
              "Married                       127\n",
              "Name: PARENTAL_STATUS, dtype: int64"
            ]
          },
          "metadata": {},
          "execution_count": 38
        }
      ]
    },
    {
      "cell_type": "markdown",
      "source": [
        "**Parents' Occupation**\n"
      ],
      "metadata": {
        "id": "v5DGBwUNUQ63"
      }
    },
    {
      "cell_type": "code",
      "source": [
        "stud_df['MOTHER_JOB'].value_counts()"
      ],
      "metadata": {
        "colab": {
          "base_uri": "https://localhost:8080/"
        },
        "id": "O_yDssenYqSW",
        "outputId": "67ae0e27-89a0-4ab3-9b1c-f6eac4ee7947"
      },
      "execution_count": null,
      "outputs": [
        {
          "output_type": "execute_result",
          "data": {
            "text/plain": [
              "Housewife                  103\n",
              "Private sector employee     18\n",
              "Government officer          16\n",
              "Retired                      6\n",
              "Self-employment              2\n",
              "Name: MOTHER_JOB, dtype: int64"
            ]
          },
          "metadata": {},
          "execution_count": 39
        }
      ]
    },
    {
      "cell_type": "code",
      "source": [
        "stud_df['FATHER_JOB'].value_counts()"
      ],
      "metadata": {
        "colab": {
          "base_uri": "https://localhost:8080/"
        },
        "id": "t8uF5gWoYrr9",
        "outputId": "1c166954-dce0-4b94-bb99-ce287d6f6739"
      },
      "execution_count": null,
      "outputs": [
        {
          "output_type": "execute_result",
          "data": {
            "text/plain": [
              "Self-employment            38\n",
              "Retired                    36\n",
              "Private sector employee    35\n",
              "Government officer         22\n",
              "Other                      14\n",
              "Name: FATHER_JOB, dtype: int64"
            ]
          },
          "metadata": {},
          "execution_count": 40
        }
      ]
    },
    {
      "cell_type": "markdown",
      "source": [
        "**Visualization:**"
      ],
      "metadata": {
        "id": "0xR8L1Gty51m"
      }
    },
    {
      "cell_type": "code",
      "source": [
        "# Plot bar plot of mother's job and father job;s\n",
        "parental_job = stud_df[['MOTHER_JOB','FATHER_JOB']]\n",
        "for col in parental_job.columns:\n",
        "  fig = sns.countplot(data = stud_df.sort_values(col), x =col ,palette='Set2')\n",
        "  fig.set_xticklabels(fig.get_xticklabels(),rotation = 90)\n",
        "\n",
        "  if col == 'MOTHER_JOB':\n",
        "    fig.set(xlabel='Mother\\'s Occupation',title='Bar Plot of Mother\\'s Occupation')\n",
        "  else:\n",
        "    fig.set(xlabel='Father\\'s Occupation',title='Bar Plot of Father\\'s Occupation')\n",
        "  for p in fig.patches:\n",
        "    fig.annotate('{:.1f}'.format(p.get_height()), (p.get_x()+p.get_width()/2, p.get_height()), ha ='center')\n",
        "  plt.show()\n",
        "  print('\\n\\n')\n",
        "  plt.show()"
      ],
      "metadata": {
        "colab": {
          "base_uri": "https://localhost:8080/",
          "height": 897
        },
        "id": "9mCpIpwrXC32",
        "outputId": "bce22a48-2b83-4b97-a470-da72761f4647"
      },
      "execution_count": null,
      "outputs": [
        {
          "output_type": "display_data",
          "data": {
            "text/plain": [
              "<Figure size 432x288 with 1 Axes>"
            ],
            "image/png": "[encoded data removed]"
          },
          "metadata": {
            "needs_background": "light"
          }
        },
        {
          "output_type": "stream",
          "name": "stdout",
          "text": [
            "\n",
            "\n",
            "\n"
          ]
        },
        {
          "output_type": "display_data",
          "data": {
            "text/plain": [
              "<Figure size 432x288 with 1 Axes>"
            ],
            "image/png": "[encoded data removed]"
          },
          "metadata": {
            "needs_background": "light"
          }
        },
        {
          "output_type": "stream",
          "name": "stdout",
          "text": [
            "\n",
            "\n",
            "\n"
          ]
        }
      ]
    },
    {
      "cell_type": "markdown",
      "source": [
        "* Majority of students' mother is housewife (103).\n",
        "* Most students' father (38) are self-employed, while only 2 students' mothers are self-employed.\n",
        "* There are also many students whose father was retired (36). "
      ],
      "metadata": {
        "id": "WAwxduOCYISs"
      }
    },
    {
      "cell_type": "markdown",
      "source": [
        "### C. Cumulative Grade Point Average (CGPA)\n",
        "**CGPA in the Last Semester and Expected CGPA in the Graduation**\n",
        "\n",
        "**Visualization:**"
      ],
      "metadata": {
        "id": "Lr3i2kw8Q8ay"
      }
    },
    {
      "cell_type": "code",
      "source": [
        "CGPA = stud_df[['CUML_GPA','EXP_GPA']]\n",
        "for col in CGPA.columns:\n",
        "  fig = sns.countplot(data = stud_df.sort_values(col), x =col ,palette='Set2')\n",
        "  fig.set_xticklabels(fig.get_xticklabels(),rotation = 90)\n",
        "\n",
        "  if col == 'CUML_GPA':\n",
        "    fig.set(xlabel='CGPA',\n",
        "            title='Bar Plot of CGPA in the Last Semester')\n",
        "  else:\n",
        "    fig.set(xlabel='CGPA',\n",
        "            title='Bar Plot of Expected CGPA in the Graduation ')\n",
        "  for p in fig.patches:\n",
        "    fig.annotate('{:.1f}'.format(p.get_height()), (p.get_x()+p.get_width()/2, p.get_height()), ha ='center')\n",
        "  plt.show()\n",
        "  print('\\n')\n"
      ],
      "metadata": {
        "id": "9WVvKwboce8N",
        "colab": {
          "base_uri": "https://localhost:8080/",
          "height": 727
        },
        "outputId": "407b7a21-1366-40ef-b399-f0d0251e92ec"
      },
      "execution_count": null,
      "outputs": [
        {
          "output_type": "display_data",
          "data": {
            "text/plain": [
              "<Figure size 432x288 with 1 Axes>"
            ],
            "image/png": "[encoded data removed]"
          },
          "metadata": {
            "needs_background": "light"
          }
        },
        {
          "output_type": "stream",
          "name": "stdout",
          "text": [
            "\n",
            "\n"
          ]
        },
        {
          "output_type": "display_data",
          "data": {
            "text/plain": [
              "<Figure size 432x288 with 1 Axes>"
            ],
            "image/png": "[encoded data removed]"
          },
          "metadata": {
            "needs_background": "light"
          }
        },
        {
          "output_type": "stream",
          "name": "stdout",
          "text": [
            "\n",
            "\n"
          ]
        }
      ]
    },
    {
      "cell_type": "markdown",
      "source": [
        "## 2.3 Multivariate Analysis\n",
        "---\n",
        "### A. Categorical vs Categorical"
      ],
      "metadata": {
        "id": "VjcE-a_y7JdB"
      }
    },
    {
      "cell_type": "markdown",
      "source": [
        "**Question 1: Which gender achieved higher CGPA in the last semester?**\n"
      ],
      "metadata": {
        "id": "7Uc2XGV8QO1V"
      }
    },
    {
      "cell_type": "code",
      "source": [
        "round(pd.crosstab(stud_df['CUML_GPA'],\n",
        "                  stud_df[\"GENDER\"],\n",
        "                  margins=True,\n",
        "                  normalize=True)*100,2)"
      ],
      "metadata": {
        "colab": {
          "base_uri": "https://localhost:8080/",
          "height": 266
        },
        "id": "Ii4zmwMqOpKv",
        "outputId": "2ea91ab5-4adc-46c6-87a0-fe1b645a562c"
      },
      "execution_count": null,
      "outputs": [
        {
          "output_type": "execute_result",
          "data": {
            "text/plain": [
              "GENDER      Female   Male     All\n",
              "CUML_GPA                         \n",
              "2.00-2.49    12.41  13.79   26.21\n",
              "2.50-2.99     6.90  10.34   17.24\n",
              "3.00-3.49     8.97  18.62   27.59\n",
              "<2.00         7.59   4.14   11.72\n",
              "Above 3.49    4.14  13.10   17.24\n",
              "All          40.00  60.00  100.00"
            ],
            "text/html": [
              "\n",
              "  <div id=\"df-343f32d8-3cfe-4e7d-a320-e1e62368be14\">\n",
              "    <div class=\"colab-df-container\">\n",
              "      <div>\n",
              "<style scoped>\n",
              "    .dataframe tbody tr th:only-of-type {\n",
              "        vertical-align: middle;\n",
              "    }\n",
              "\n",
              "    .dataframe tbody tr th {\n",
              "        vertical-align: top;\n",
              "    }\n",
              "\n",
              "    .dataframe thead th {\n",
              "        text-align: right;\n",
              "    }\n",
              "</style>\n",
              "<table border=\"1\" class=\"dataframe\">\n",
              "  <thead>\n",
              "    <tr style=\"text-align: right;\">\n",
              "      <th>GENDER</th>\n",
              "      <th>Female</th>\n",
              "      <th>Male</th>\n",
              "      <th>All</th>\n",
              "    </tr>\n",
              "    <tr>\n",
              "      <th>CUML_GPA</th>\n",
              "      <th></th>\n",
              "      <th></th>\n",
              "      <th></th>\n",
              "    </tr>\n",
              "  </thead>\n",
              "  <tbody>\n",
              "    <tr>\n",
              "      <th>2.00-2.49</th>\n",
              "      <td>12.41</td>\n",
              "      <td>13.79</td>\n",
              "      <td>26.21</td>\n",
              "    </tr>\n",
              "    <tr>\n",
              "      <th>2.50-2.99</th>\n",
              "      <td>6.90</td>\n",
              "      <td>10.34</td>\n",
              "      <td>17.24</td>\n",
              "    </tr>\n",
              "    <tr>\n",
              "      <th>3.00-3.49</th>\n",
              "      <td>8.97</td>\n",
              "      <td>18.62</td>\n",
              "      <td>27.59</td>\n",
              "    </tr>\n",
              "    <tr>\n",
              "      <th>&lt;2.00</th>\n",
              "      <td>7.59</td>\n",
              "      <td>4.14</td>\n",
              "      <td>11.72</td>\n",
              "    </tr>\n",
              "    <tr>\n",
              "      <th>Above 3.49</th>\n",
              "      <td>4.14</td>\n",
              "      <td>13.10</td>\n",
              "      <td>17.24</td>\n",
              "    </tr>\n",
              "    <tr>\n",
              "      <th>All</th>\n",
              "      <td>40.00</td>\n",
              "      <td>60.00</td>\n",
              "      <td>100.00</td>\n",
              "    </tr>\n",
              "  </tbody>\n",
              "</table>\n",
              "</div>\n",
              "      <button class=\"colab-df-convert\" onclick=\"convertToInteractive('df-343f32d8-3cfe-4e7d-a320-e1e62368be14')\"\n",
              "              title=\"Convert this dataframe to an interactive table.\"\n",
              "              style=\"display:none;\">\n",
              "        \n",
              "  <svg xmlns=\"http://www.w3.org/2000/svg\" height=\"24px\"viewBox=\"0 0 24 24\"\n",
              "       width=\"24px\">\n",
              "    <path d=\"M0 0h24v24H0V0z\" fill=\"none\"/>\n",
              "    <path d=\"M18.56 5.44l.94 2.06.94-2.06 2.06-.94-2.06-.94-.94-2.06-.94 2.06-2.06.94zm-11 1L8.5 8.5l.94-2.06 2.06-.94-2.06-.94L8.5 2.5l-.94 2.06-2.06.94zm10 10l.94 2.06.94-2.06 2.06-.94-2.06-.94-.94-2.06-.94 2.06-2.06.94z\"/><path d=\"M17.41 7.96l-1.37-1.37c-.4-.4-.92-.59-1.43-.59-.52 0-1.04.2-1.43.59L10.3 9.45l-7.72 7.72c-.78.78-.78 2.05 0 2.83L4 21.41c.39.39.9.59 1.41.59.51 0 1.02-.2 1.41-.59l7.78-7.78 2.81-2.81c.8-.78.8-2.07 0-2.86zM5.41 20L4 18.59l7.72-7.72 1.47 1.35L5.41 20z\"/>\n",
              "  </svg>\n",
              "      </button>\n",
              "      \n",
              "  <style>\n",
              "    .colab-df-container {\n",
              "      display:flex;\n",
              "      flex-wrap:wrap;\n",
              "      gap: 12px;\n",
              "    }\n",
              "\n",
              "    .colab-df-convert {\n",
              "      background-color: #E8F0FE;\n",
              "      border: none;\n",
              "      border-radius: 50%;\n",
              "      cursor: pointer;\n",
              "      display: none;\n",
              "      fill: #1967D2;\n",
              "      height: 32px;\n",
              "      padding: 0 0 0 0;\n",
              "      width: 32px;\n",
              "    }\n",
              "\n",
              "    .colab-df-convert:hover {\n",
              "      background-color: #E2EBFA;\n",
              "      box-shadow: 0px 1px 2px rgba(60, 64, 67, 0.3), 0px 1px 3px 1px rgba(60, 64, 67, 0.15);\n",
              "      fill: #174EA6;\n",
              "    }\n",
              "\n",
              "    [theme=dark] .colab-df-convert {\n",
              "      background-color: #3B4455;\n",
              "      fill: #D2E3FC;\n",
              "    }\n",
              "\n",
              "    [theme=dark] .colab-df-convert:hover {\n",
              "      background-color: #434B5C;\n",
              "      box-shadow: 0px 1px 3px 1px rgba(0, 0, 0, 0.15);\n",
              "      filter: drop-shadow(0px 1px 2px rgba(0, 0, 0, 0.3));\n",
              "      fill: #FFFFFF;\n",
              "    }\n",
              "  </style>\n",
              "\n",
              "      <script>\n",
              "        const buttonEl =\n",
              "          document.querySelector('#df-343f32d8-3cfe-4e7d-a320-e1e62368be14 button.colab-df-convert');\n",
              "        buttonEl.style.display =\n",
              "          google.colab.kernel.accessAllowed ? 'block' : 'none';\n",
              "\n",
              "        async function convertToInteractive(key) {\n",
              "          const element = document.querySelector('#df-343f32d8-3cfe-4e7d-a320-e1e62368be14');\n",
              "          const dataTable =\n",
              "            await google.colab.kernel.invokeFunction('convertToInteractive',\n",
              "                                                     [key], {});\n",
              "          if (!dataTable) return;\n",
              "\n",
              "          const docLinkHtml = 'Like what you see? Visit the ' +\n",
              "            '<a target=\"_blank\" href=https://colab.research.google.com/notebooks/data_table.ipynb>data table notebook</a>'\n",
              "            + ' to learn more about interactive tables.';\n",
              "          element.innerHTML = '';\n",
              "          dataTable['output_type'] = 'display_data';\n",
              "          await google.colab.output.renderOutput(dataTable, element);\n",
              "          const docLink = document.createElement('div');\n",
              "          docLink.innerHTML = docLinkHtml;\n",
              "          element.appendChild(docLink);\n",
              "        }\n",
              "      </script>\n",
              "    </div>\n",
              "  </div>\n",
              "  "
            ]
          },
          "metadata": {},
          "execution_count": 43
        }
      ]
    },
    {
      "cell_type": "code",
      "source": [
        "fig = sns.catplot(data=stud_df, \n",
        "                  x=\"GENDER\", \n",
        "                  hue=\"CUML_GPA\", kind=\"count\", height=4, aspect=2)\n",
        "fig.set(title='Number of Student by Gender and CGPA in Last Semester')\n",
        "ax = fig.facet_axis(0,0)\n",
        "for p in ax.patches:\n",
        "    ax.text(p.get_x()+0.05, \n",
        "            p.get_height(), \n",
        "            p.get_height())"
      ],
      "metadata": {
        "colab": {
          "base_uri": "https://localhost:8080/",
          "height": 313
        },
        "id": "hGVEcSEDOrOw",
        "outputId": "9639efed-ec48-44a0-b21c-4b6ddd4919de"
      },
      "execution_count": null,
      "outputs": [
        {
          "output_type": "display_data",
          "data": {
            "text/plain": [
              "<Figure size 668.375x288 with 1 Axes>"
            ],
            "image/png": "[encoded data removed]"
          },
          "metadata": {
            "needs_background": "light"
          }
        }
      ]
    },
    {
      "cell_type": "markdown",
      "source": [
        "In the last semester, among 145 students,\n",
        "\n",
        "* 17 students (11.72%) achieved CGPA < 2.00, where 6 were male and 11 were female.\n",
        "* 38 students (26.21%)  achieved CGPA between 2.00-2.49, where 20 were male and 18 were female.\n",
        "* 25 students (17.24%) achieved CGPA between 2.50-2.99, where 15 were male and 10 were male.\n",
        "* 40 students (27.59%) achieved CGPA between 3.00-3.40, where 27 were male and 13 were female.\n",
        "* 25 students (17.24%) achieved CGPA above 3.49, where 19 were male and 6 were female.\n",
        "\n",
        "The class of CGPA with the highest number of male and female students are 3.00-3.49 and 2.00-2.49, respectively, whereas the lowest is above 3.49 and < 2.00, respectively. Overall, male students achieved significantly higher CGPA than female.\n"
      ],
      "metadata": {
        "id": "bP_qDEd-Or9d"
      }
    },
    {
      "cell_type": "markdown",
      "source": [
        "**Question 2: Is parental education level influenced the expected CGPA in the graduation?**"
      ],
      "metadata": {
        "id": "YSsKl2t7cYHi"
      }
    },
    {
      "cell_type": "code",
      "source": [
        "pd.crosstab(stud_df[\"MOTHER_EDU\"],\n",
        "            stud_df[\"EXP_GPA\"], \n",
        "            margins=True)"
      ],
      "metadata": {
        "colab": {
          "base_uri": "https://localhost:8080/",
          "height": 297
        },
        "id": "M9j9uS-L-9B7",
        "outputId": "45c3c958-c5c8-4e35-b325-cbe5245bd5aa"
      },
      "execution_count": null,
      "outputs": [
        {
          "output_type": "execute_result",
          "data": {
            "text/plain": [
              "EXP_GPA           2.00-2.49  2.50-2.99  3.00-3.49  <2.00  All\n",
              "MOTHER_EDU                                                   \n",
              "High school              13         12         10      4   39\n",
              "MSc.                      1          1          0      0    2\n",
              "Ph.D.                     0          0          0      2    2\n",
              "Primary school           13         24         10      7   54\n",
              "Secondary school          7         15          5      0   27\n",
              "University                4          9          5      3   21\n",
              "All                      38         61         30     16  145"
            ],
            "text/html": [
              "\n",
              "  <div id=\"df-35a596f9-2ab1-4c8a-822f-8a570f0fad98\">\n",
              "    <div class=\"colab-df-container\">\n",
              "      <div>\n",
              "<style scoped>\n",
              "    .dataframe tbody tr th:only-of-type {\n",
              "        vertical-align: middle;\n",
              "    }\n",
              "\n",
              "    .dataframe tbody tr th {\n",
              "        vertical-align: top;\n",
              "    }\n",
              "\n",
              "    .dataframe thead th {\n",
              "        text-align: right;\n",
              "    }\n",
              "</style>\n",
              "<table border=\"1\" class=\"dataframe\">\n",
              "  <thead>\n",
              "    <tr style=\"text-align: right;\">\n",
              "      <th>EXP_GPA</th>\n",
              "      <th>2.00-2.49</th>\n",
              "      <th>2.50-2.99</th>\n",
              "      <th>3.00-3.49</th>\n",
              "      <th>&lt;2.00</th>\n",
              "      <th>All</th>\n",
              "    </tr>\n",
              "    <tr>\n",
              "      <th>MOTHER_EDU</th>\n",
              "      <th></th>\n",
              "      <th></th>\n",
              "      <th></th>\n",
              "      <th></th>\n",
              "      <th></th>\n",
              "    </tr>\n",
              "  </thead>\n",
              "  <tbody>\n",
              "    <tr>\n",
              "      <th>High school</th>\n",
              "      <td>13</td>\n",
              "      <td>12</td>\n",
              "      <td>10</td>\n",
              "      <td>4</td>\n",
              "      <td>39</td>\n",
              "    </tr>\n",
              "    <tr>\n",
              "      <th>MSc.</th>\n",
              "      <td>1</td>\n",
              "      <td>1</td>\n",
              "      <td>0</td>\n",
              "      <td>0</td>\n",
              "      <td>2</td>\n",
              "    </tr>\n",
              "    <tr>\n",
              "      <th>Ph.D.</th>\n",
              "      <td>0</td>\n",
              "      <td>0</td>\n",
              "      <td>0</td>\n",
              "      <td>2</td>\n",
              "      <td>2</td>\n",
              "    </tr>\n",
              "    <tr>\n",
              "      <th>Primary school</th>\n",
              "      <td>13</td>\n",
              "      <td>24</td>\n",
              "      <td>10</td>\n",
              "      <td>7</td>\n",
              "      <td>54</td>\n",
              "    </tr>\n",
              "    <tr>\n",
              "      <th>Secondary school</th>\n",
              "      <td>7</td>\n",
              "      <td>15</td>\n",
              "      <td>5</td>\n",
              "      <td>0</td>\n",
              "      <td>27</td>\n",
              "    </tr>\n",
              "    <tr>\n",
              "      <th>University</th>\n",
              "      <td>4</td>\n",
              "      <td>9</td>\n",
              "      <td>5</td>\n",
              "      <td>3</td>\n",
              "      <td>21</td>\n",
              "    </tr>\n",
              "    <tr>\n",
              "      <th>All</th>\n",
              "      <td>38</td>\n",
              "      <td>61</td>\n",
              "      <td>30</td>\n",
              "      <td>16</td>\n",
              "      <td>145</td>\n",
              "    </tr>\n",
              "  </tbody>\n",
              "</table>\n",
              "</div>\n",
              "      <button class=\"colab-df-convert\" onclick=\"convertToInteractive('df-35a596f9-2ab1-4c8a-822f-8a570f0fad98')\"\n",
              "              title=\"Convert this dataframe to an interactive table.\"\n",
              "              style=\"display:none;\">\n",
              "        \n",
              "  <svg xmlns=\"http://www.w3.org/2000/svg\" height=\"24px\"viewBox=\"0 0 24 24\"\n",
              "       width=\"24px\">\n",
              "    <path d=\"M0 0h24v24H0V0z\" fill=\"none\"/>\n",
              "    <path d=\"M18.56 5.44l.94 2.06.94-2.06 2.06-.94-2.06-.94-.94-2.06-.94 2.06-2.06.94zm-11 1L8.5 8.5l.94-2.06 2.06-.94-2.06-.94L8.5 2.5l-.94 2.06-2.06.94zm10 10l.94 2.06.94-2.06 2.06-.94-2.06-.94-.94-2.06-.94 2.06-2.06.94z\"/><path d=\"M17.41 7.96l-1.37-1.37c-.4-.4-.92-.59-1.43-.59-.52 0-1.04.2-1.43.59L10.3 9.45l-7.72 7.72c-.78.78-.78 2.05 0 2.83L4 21.41c.39.39.9.59 1.41.59.51 0 1.02-.2 1.41-.59l7.78-7.78 2.81-2.81c.8-.78.8-2.07 0-2.86zM5.41 20L4 18.59l7.72-7.72 1.47 1.35L5.41 20z\"/>\n",
              "  </svg>\n",
              "      </button>\n",
              "      \n",
              "  <style>\n",
              "    .colab-df-container {\n",
              "      display:flex;\n",
              "      flex-wrap:wrap;\n",
              "      gap: 12px;\n",
              "    }\n",
              "\n",
              "    .colab-df-convert {\n",
              "      background-color: #E8F0FE;\n",
              "      border: none;\n",
              "      border-radius: 50%;\n",
              "      cursor: pointer;\n",
              "      display: none;\n",
              "      fill: #1967D2;\n",
              "      height: 32px;\n",
              "      padding: 0 0 0 0;\n",
              "      width: 32px;\n",
              "    }\n",
              "\n",
              "    .colab-df-convert:hover {\n",
              "      background-color: #E2EBFA;\n",
              "      box-shadow: 0px 1px 2px rgba(60, 64, 67, 0.3), 0px 1px 3px 1px rgba(60, 64, 67, 0.15);\n",
              "      fill: #174EA6;\n",
              "    }\n",
              "\n",
              "    [theme=dark] .colab-df-convert {\n",
              "      background-color: #3B4455;\n",
              "      fill: #D2E3FC;\n",
              "    }\n",
              "\n",
              "    [theme=dark] .colab-df-convert:hover {\n",
              "      background-color: #434B5C;\n",
              "      box-shadow: 0px 1px 3px 1px rgba(0, 0, 0, 0.15);\n",
              "      filter: drop-shadow(0px 1px 2px rgba(0, 0, 0, 0.3));\n",
              "      fill: #FFFFFF;\n",
              "    }\n",
              "  </style>\n",
              "\n",
              "      <script>\n",
              "        const buttonEl =\n",
              "          document.querySelector('#df-35a596f9-2ab1-4c8a-822f-8a570f0fad98 button.colab-df-convert');\n",
              "        buttonEl.style.display =\n",
              "          google.colab.kernel.accessAllowed ? 'block' : 'none';\n",
              "\n",
              "        async function convertToInteractive(key) {\n",
              "          const element = document.querySelector('#df-35a596f9-2ab1-4c8a-822f-8a570f0fad98');\n",
              "          const dataTable =\n",
              "            await google.colab.kernel.invokeFunction('convertToInteractive',\n",
              "                                                     [key], {});\n",
              "          if (!dataTable) return;\n",
              "\n",
              "          const docLinkHtml = 'Like what you see? Visit the ' +\n",
              "            '<a target=\"_blank\" href=https://colab.research.google.com/notebooks/data_table.ipynb>data table notebook</a>'\n",
              "            + ' to learn more about interactive tables.';\n",
              "          element.innerHTML = '';\n",
              "          dataTable['output_type'] = 'display_data';\n",
              "          await google.colab.output.renderOutput(dataTable, element);\n",
              "          const docLink = document.createElement('div');\n",
              "          docLink.innerHTML = docLinkHtml;\n",
              "          element.appendChild(docLink);\n",
              "        }\n",
              "      </script>\n",
              "    </div>\n",
              "  </div>\n",
              "  "
            ]
          },
          "metadata": {},
          "execution_count": 45
        }
      ]
    },
    {
      "cell_type": "code",
      "source": [
        "pd.crosstab(stud_df[\"FATHER_EDU\"],\n",
        "            stud_df[\"EXP_GPA\"], \n",
        "            margins=True)"
      ],
      "metadata": {
        "colab": {
          "base_uri": "https://localhost:8080/",
          "height": 297
        },
        "id": "7NmRZK8H_abn",
        "outputId": "47ac29d4-95e1-4f32-e087-13f4cc25b492"
      },
      "execution_count": null,
      "outputs": [
        {
          "output_type": "execute_result",
          "data": {
            "text/plain": [
              "EXP_GPA           2.00-2.49  2.50-2.99  3.00-3.49  <2.00  All\n",
              "FATHER_EDU                                                   \n",
              "High school              13         18         12      3   46\n",
              "MSc.                      2          1          0      2    5\n",
              "Ph.D.                     1          0          0      0    1\n",
              "Primary school            4         14          7      4   29\n",
              "Secondary school          9         15          9      3   36\n",
              "University                9         13          2      4   28\n",
              "All                      38         61         30     16  145"
            ],
            "text/html": [
              "\n",
              "  <div id=\"df-c5a3abc2-b6a6-434c-8462-94a5192b2560\">\n",
              "    <div class=\"colab-df-container\">\n",
              "      <div>\n",
              "<style scoped>\n",
              "    .dataframe tbody tr th:only-of-type {\n",
              "        vertical-align: middle;\n",
              "    }\n",
              "\n",
              "    .dataframe tbody tr th {\n",
              "        vertical-align: top;\n",
              "    }\n",
              "\n",
              "    .dataframe thead th {\n",
              "        text-align: right;\n",
              "    }\n",
              "</style>\n",
              "<table border=\"1\" class=\"dataframe\">\n",
              "  <thead>\n",
              "    <tr style=\"text-align: right;\">\n",
              "      <th>EXP_GPA</th>\n",
              "      <th>2.00-2.49</th>\n",
              "      <th>2.50-2.99</th>\n",
              "      <th>3.00-3.49</th>\n",
              "      <th>&lt;2.00</th>\n",
              "      <th>All</th>\n",
              "    </tr>\n",
              "    <tr>\n",
              "      <th>FATHER_EDU</th>\n",
              "      <th></th>\n",
              "      <th></th>\n",
              "      <th></th>\n",
              "      <th></th>\n",
              "      <th></th>\n",
              "    </tr>\n",
              "  </thead>\n",
              "  <tbody>\n",
              "    <tr>\n",
              "      <th>High school</th>\n",
              "      <td>13</td>\n",
              "      <td>18</td>\n",
              "      <td>12</td>\n",
              "      <td>3</td>\n",
              "      <td>46</td>\n",
              "    </tr>\n",
              "    <tr>\n",
              "      <th>MSc.</th>\n",
              "      <td>2</td>\n",
              "      <td>1</td>\n",
              "      <td>0</td>\n",
              "      <td>2</td>\n",
              "      <td>5</td>\n",
              "    </tr>\n",
              "    <tr>\n",
              "      <th>Ph.D.</th>\n",
              "      <td>1</td>\n",
              "      <td>0</td>\n",
              "      <td>0</td>\n",
              "      <td>0</td>\n",
              "      <td>1</td>\n",
              "    </tr>\n",
              "    <tr>\n",
              "      <th>Primary school</th>\n",
              "      <td>4</td>\n",
              "      <td>14</td>\n",
              "      <td>7</td>\n",
              "      <td>4</td>\n",
              "      <td>29</td>\n",
              "    </tr>\n",
              "    <tr>\n",
              "      <th>Secondary school</th>\n",
              "      <td>9</td>\n",
              "      <td>15</td>\n",
              "      <td>9</td>\n",
              "      <td>3</td>\n",
              "      <td>36</td>\n",
              "    </tr>\n",
              "    <tr>\n",
              "      <th>University</th>\n",
              "      <td>9</td>\n",
              "      <td>13</td>\n",
              "      <td>2</td>\n",
              "      <td>4</td>\n",
              "      <td>28</td>\n",
              "    </tr>\n",
              "    <tr>\n",
              "      <th>All</th>\n",
              "      <td>38</td>\n",
              "      <td>61</td>\n",
              "      <td>30</td>\n",
              "      <td>16</td>\n",
              "      <td>145</td>\n",
              "    </tr>\n",
              "  </tbody>\n",
              "</table>\n",
              "</div>\n",
              "      <button class=\"colab-df-convert\" onclick=\"convertToInteractive('df-c5a3abc2-b6a6-434c-8462-94a5192b2560')\"\n",
              "              title=\"Convert this dataframe to an interactive table.\"\n",
              "              style=\"display:none;\">\n",
              "        \n",
              "  <svg xmlns=\"http://www.w3.org/2000/svg\" height=\"24px\"viewBox=\"0 0 24 24\"\n",
              "       width=\"24px\">\n",
              "    <path d=\"M0 0h24v24H0V0z\" fill=\"none\"/>\n",
              "    <path d=\"M18.56 5.44l.94 2.06.94-2.06 2.06-.94-2.06-.94-.94-2.06-.94 2.06-2.06.94zm-11 1L8.5 8.5l.94-2.06 2.06-.94-2.06-.94L8.5 2.5l-.94 2.06-2.06.94zm10 10l.94 2.06.94-2.06 2.06-.94-2.06-.94-.94-2.06-.94 2.06-2.06.94z\"/><path d=\"M17.41 7.96l-1.37-1.37c-.4-.4-.92-.59-1.43-.59-.52 0-1.04.2-1.43.59L10.3 9.45l-7.72 7.72c-.78.78-.78 2.05 0 2.83L4 21.41c.39.39.9.59 1.41.59.51 0 1.02-.2 1.41-.59l7.78-7.78 2.81-2.81c.8-.78.8-2.07 0-2.86zM5.41 20L4 18.59l7.72-7.72 1.47 1.35L5.41 20z\"/>\n",
              "  </svg>\n",
              "      </button>\n",
              "      \n",
              "  <style>\n",
              "    .colab-df-container {\n",
              "      display:flex;\n",
              "      flex-wrap:wrap;\n",
              "      gap: 12px;\n",
              "    }\n",
              "\n",
              "    .colab-df-convert {\n",
              "      background-color: #E8F0FE;\n",
              "      border: none;\n",
              "      border-radius: 50%;\n",
              "      cursor: pointer;\n",
              "      display: none;\n",
              "      fill: #1967D2;\n",
              "      height: 32px;\n",
              "      padding: 0 0 0 0;\n",
              "      width: 32px;\n",
              "    }\n",
              "\n",
              "    .colab-df-convert:hover {\n",
              "      background-color: #E2EBFA;\n",
              "      box-shadow: 0px 1px 2px rgba(60, 64, 67, 0.3), 0px 1px 3px 1px rgba(60, 64, 67, 0.15);\n",
              "      fill: #174EA6;\n",
              "    }\n",
              "\n",
              "    [theme=dark] .colab-df-convert {\n",
              "      background-color: #3B4455;\n",
              "      fill: #D2E3FC;\n",
              "    }\n",
              "\n",
              "    [theme=dark] .colab-df-convert:hover {\n",
              "      background-color: #434B5C;\n",
              "      box-shadow: 0px 1px 3px 1px rgba(0, 0, 0, 0.15);\n",
              "      filter: drop-shadow(0px 1px 2px rgba(0, 0, 0, 0.3));\n",
              "      fill: #FFFFFF;\n",
              "    }\n",
              "  </style>\n",
              "\n",
              "      <script>\n",
              "        const buttonEl =\n",
              "          document.querySelector('#df-c5a3abc2-b6a6-434c-8462-94a5192b2560 button.colab-df-convert');\n",
              "        buttonEl.style.display =\n",
              "          google.colab.kernel.accessAllowed ? 'block' : 'none';\n",
              "\n",
              "        async function convertToInteractive(key) {\n",
              "          const element = document.querySelector('#df-c5a3abc2-b6a6-434c-8462-94a5192b2560');\n",
              "          const dataTable =\n",
              "            await google.colab.kernel.invokeFunction('convertToInteractive',\n",
              "                                                     [key], {});\n",
              "          if (!dataTable) return;\n",
              "\n",
              "          const docLinkHtml = 'Like what you see? Visit the ' +\n",
              "            '<a target=\"_blank\" href=https://colab.research.google.com/notebooks/data_table.ipynb>data table notebook</a>'\n",
              "            + ' to learn more about interactive tables.';\n",
              "          element.innerHTML = '';\n",
              "          dataTable['output_type'] = 'display_data';\n",
              "          await google.colab.output.renderOutput(dataTable, element);\n",
              "          const docLink = document.createElement('div');\n",
              "          docLink.innerHTML = docLinkHtml;\n",
              "          element.appendChild(docLink);\n",
              "        }\n",
              "      </script>\n",
              "    </div>\n",
              "  </div>\n",
              "  "
            ]
          },
          "metadata": {},
          "execution_count": 46
        }
      ]
    },
    {
      "cell_type": "code",
      "source": [
        "stud_df['length'] = stud_df['EXP_GPA'].str.len()\n",
        "df = stud_df.sort_values(['length','EXP_GPA'])\n",
        "fig = sns.catplot(data=df, \n",
        "                  x='EXP_GPA', \n",
        "                  hue='MOTHER_EDU', \n",
        "                  kind='count',\n",
        "                  height=4, \n",
        "                  aspect=2,\n",
        "                  )\n",
        "fig.set(xlabel = 'CGPA',\n",
        "        title='Number of Student by Mother\\'s Education and Expected CGPA in Graduation')\n",
        "plt.show()\n",
        "\n",
        "\n",
        "fig = sns.catplot(data=df, \n",
        "                  x='EXP_GPA', \n",
        "                  hue='FATHER_EDU', \n",
        "                  kind='count',\n",
        "                  height=4, \n",
        "                  aspect=2,\n",
        "                  )\n",
        "fig.set(xlabel = 'CGPA',\n",
        "        title='Number of Student by Father\\'s Education and Expected CGPA in Graduation')"
      ],
      "metadata": {
        "colab": {
          "base_uri": "https://localhost:8080/",
          "height": 622
        },
        "id": "vmx5O2dx_vqi",
        "outputId": "f7ae0fde-3db7-4790-c816-76ba525909fa"
      },
      "execution_count": null,
      "outputs": [
        {
          "output_type": "display_data",
          "data": {
            "text/plain": [
              "<Figure size 699.875x288 with 1 Axes>"
            ],
            "image/png": "[encoded data removed]"
          },
          "metadata": {
            "needs_background": "light"
          }
        },
        {
          "output_type": "execute_result",
          "data": {
            "text/plain": [
              "<seaborn.axisgrid.FacetGrid at 0x7f11f90f4450>"
            ]
          },
          "metadata": {},
          "execution_count": 47
        },
        {
          "output_type": "display_data",
          "data": {
            "text/plain": [
              "<Figure size 699.875x288 with 1 Axes>"
            ],
            "image/png": "[encoded data removed]"
          },
          "metadata": {
            "needs_background": "light"
          }
        }
      ]
    },
    {
      "cell_type": "markdown",
      "source": [
        "From the bar plot, we notice that\n",
        "* there are students whose mother or father with higher education at MSc and Phd are expected to get low CGPA in the graduation.\n",
        "* On the other hand, there are also students whose parents with primary education level are expected to get high CGPA in the graduation. So, the education level of parents may not influence students' expected CGPA.\n",
        "\n",
        "In the previous section, we know that there exists outliers in parents education level (MSc and Phd). The result may be be biased by outliers."
      ],
      "metadata": {
        "id": "OEZ9kzokFhdn"
      }
    },
    {
      "cell_type": "markdown",
      "source": [
        "**More on Categorical vs Categorical:**\n",
        "\n",
        "\n",
        "* Mother education vs Father education (Correlated?)"
      ],
      "metadata": {
        "id": "LqlBWlahBXMs"
      }
    },
    {
      "cell_type": "code",
      "source": [
        "data = pd.crosstab(stud_df['MOTHER_EDU'], stud_df['FATHER_EDU']).corr()\n",
        "sns.heatmap(data, annot=True, cmap='mako')"
      ],
      "metadata": {
        "colab": {
          "base_uri": "https://localhost:8080/",
          "height": 379
        },
        "id": "yygrW3bNPdQ8",
        "outputId": "c4a2d473-7b5e-41ff-f38b-a86d9555805b"
      },
      "execution_count": null,
      "outputs": [
        {
          "output_type": "execute_result",
          "data": {
            "text/plain": [
              "<matplotlib.axes._subplots.AxesSubplot at 0x7f11f8fe0310>"
            ]
          },
          "metadata": {},
          "execution_count": 48
        },
        {
          "output_type": "display_data",
          "data": {
            "text/plain": [
              "<Figure size 432x288 with 2 Axes>"
            ],
            "image/png": "[encoded data removed]"
          },
          "metadata": {
            "needs_background": "light"
          }
        }
      ]
    },
    {
      "cell_type": "markdown",
      "source": [
        "* Scholarship vs CGPA in the Last Semester"
      ],
      "metadata": {
        "id": "Yw_jqF0GJGSQ"
      }
    },
    {
      "cell_type": "code",
      "source": [
        "stud_df['length'] = stud_df['SCHOLARSHIP'].str.len()\n",
        "df = stud_df.sort_values(['length','SCHOLARSHIP'])\n",
        "pd.crosstab(df[\"CUML_GPA\"], \n",
        "            df[\"SCHOLARSHIP\"],\n",
        "            margins=True, normalize=True)"
      ],
      "metadata": {
        "colab": {
          "base_uri": "https://localhost:8080/",
          "height": 266
        },
        "id": "FbA6_hwSnf7o",
        "outputId": "b41359b3-7637-47af-e2f6-39076ef3dfdc"
      },
      "execution_count": null,
      "outputs": [
        {
          "output_type": "execute_result",
          "data": {
            "text/plain": [
              "SCHOLARSHIP        0%      100%       25%       50%       75%       All\n",
              "CUML_GPA                                                               \n",
              "2.00-2.49    0.006897  0.020690  0.006897  0.172414  0.055172  0.262069\n",
              "2.50-2.99    0.000000  0.020690  0.006897  0.075862  0.068966  0.172414\n",
              "3.00-3.49    0.000000  0.062069  0.000000  0.110345  0.103448  0.275862\n",
              "<2.00        0.000000  0.013793  0.006897  0.075862  0.020690  0.117241\n",
              "Above 3.49   0.000000  0.041379  0.000000  0.089655  0.041379  0.172414\n",
              "All          0.006897  0.158621  0.020690  0.524138  0.289655  1.000000"
            ],
            "text/html": [
              "\n",
              "  <div id=\"df-866ec6ba-7292-4571-9399-d13e407846ba\">\n",
              "    <div class=\"colab-df-container\">\n",
              "      <div>\n",
              "<style scoped>\n",
              "    .dataframe tbody tr th:only-of-type {\n",
              "        vertical-align: middle;\n",
              "    }\n",
              "\n",
              "    .dataframe tbody tr th {\n",
              "        vertical-align: top;\n",
              "    }\n",
              "\n",
              "    .dataframe thead th {\n",
              "        text-align: right;\n",
              "    }\n",
              "</style>\n",
              "<table border=\"1\" class=\"dataframe\">\n",
              "  <thead>\n",
              "    <tr style=\"text-align: right;\">\n",
              "      <th>SCHOLARSHIP</th>\n",
              "      <th>0%</th>\n",
              "      <th>100%</th>\n",
              "      <th>25%</th>\n",
              "      <th>50%</th>\n",
              "      <th>75%</th>\n",
              "      <th>All</th>\n",
              "    </tr>\n",
              "    <tr>\n",
              "      <th>CUML_GPA</th>\n",
              "      <th></th>\n",
              "      <th></th>\n",
              "      <th></th>\n",
              "      <th></th>\n",
              "      <th></th>\n",
              "      <th></th>\n",
              "    </tr>\n",
              "  </thead>\n",
              "  <tbody>\n",
              "    <tr>\n",
              "      <th>2.00-2.49</th>\n",
              "      <td>0.006897</td>\n",
              "      <td>0.020690</td>\n",
              "      <td>0.006897</td>\n",
              "      <td>0.172414</td>\n",
              "      <td>0.055172</td>\n",
              "      <td>0.262069</td>\n",
              "    </tr>\n",
              "    <tr>\n",
              "      <th>2.50-2.99</th>\n",
              "      <td>0.000000</td>\n",
              "      <td>0.020690</td>\n",
              "      <td>0.006897</td>\n",
              "      <td>0.075862</td>\n",
              "      <td>0.068966</td>\n",
              "      <td>0.172414</td>\n",
              "    </tr>\n",
              "    <tr>\n",
              "      <th>3.00-3.49</th>\n",
              "      <td>0.000000</td>\n",
              "      <td>0.062069</td>\n",
              "      <td>0.000000</td>\n",
              "      <td>0.110345</td>\n",
              "      <td>0.103448</td>\n",
              "      <td>0.275862</td>\n",
              "    </tr>\n",
              "    <tr>\n",
              "      <th>&lt;2.00</th>\n",
              "      <td>0.000000</td>\n",
              "      <td>0.013793</td>\n",
              "      <td>0.006897</td>\n",
              "      <td>0.075862</td>\n",
              "      <td>0.020690</td>\n",
              "      <td>0.117241</td>\n",
              "    </tr>\n",
              "    <tr>\n",
              "      <th>Above 3.49</th>\n",
              "      <td>0.000000</td>\n",
              "      <td>0.041379</td>\n",
              "      <td>0.000000</td>\n",
              "      <td>0.089655</td>\n",
              "      <td>0.041379</td>\n",
              "      <td>0.172414</td>\n",
              "    </tr>\n",
              "    <tr>\n",
              "      <th>All</th>\n",
              "      <td>0.006897</td>\n",
              "      <td>0.158621</td>\n",
              "      <td>0.020690</td>\n",
              "      <td>0.524138</td>\n",
              "      <td>0.289655</td>\n",
              "      <td>1.000000</td>\n",
              "    </tr>\n",
              "  </tbody>\n",
              "</table>\n",
              "</div>\n",
              "      <button class=\"colab-df-convert\" onclick=\"convertToInteractive('df-866ec6ba-7292-4571-9399-d13e407846ba')\"\n",
              "              title=\"Convert this dataframe to an interactive table.\"\n",
              "              style=\"display:none;\">\n",
              "        \n",
              "  <svg xmlns=\"http://www.w3.org/2000/svg\" height=\"24px\"viewBox=\"0 0 24 24\"\n",
              "       width=\"24px\">\n",
              "    <path d=\"M0 0h24v24H0V0z\" fill=\"none\"/>\n",
              "    <path d=\"M18.56 5.44l.94 2.06.94-2.06 2.06-.94-2.06-.94-.94-2.06-.94 2.06-2.06.94zm-11 1L8.5 8.5l.94-2.06 2.06-.94-2.06-.94L8.5 2.5l-.94 2.06-2.06.94zm10 10l.94 2.06.94-2.06 2.06-.94-2.06-.94-.94-2.06-.94 2.06-2.06.94z\"/><path d=\"M17.41 7.96l-1.37-1.37c-.4-.4-.92-.59-1.43-.59-.52 0-1.04.2-1.43.59L10.3 9.45l-7.72 7.72c-.78.78-.78 2.05 0 2.83L4 21.41c.39.39.9.59 1.41.59.51 0 1.02-.2 1.41-.59l7.78-7.78 2.81-2.81c.8-.78.8-2.07 0-2.86zM5.41 20L4 18.59l7.72-7.72 1.47 1.35L5.41 20z\"/>\n",
              "  </svg>\n",
              "      </button>\n",
              "      \n",
              "  <style>\n",
              "    .colab-df-container {\n",
              "      display:flex;\n",
              "      flex-wrap:wrap;\n",
              "      gap: 12px;\n",
              "    }\n",
              "\n",
              "    .colab-df-convert {\n",
              "      background-color: #E8F0FE;\n",
              "      border: none;\n",
              "      border-radius: 50%;\n",
              "      cursor: pointer;\n",
              "      display: none;\n",
              "      fill: #1967D2;\n",
              "      height: 32px;\n",
              "      padding: 0 0 0 0;\n",
              "      width: 32px;\n",
              "    }\n",
              "\n",
              "    .colab-df-convert:hover {\n",
              "      background-color: #E2EBFA;\n",
              "      box-shadow: 0px 1px 2px rgba(60, 64, 67, 0.3), 0px 1px 3px 1px rgba(60, 64, 67, 0.15);\n",
              "      fill: #174EA6;\n",
              "    }\n",
              "\n",
              "    [theme=dark] .colab-df-convert {\n",
              "      background-color: #3B4455;\n",
              "      fill: #D2E3FC;\n",
              "    }\n",
              "\n",
              "    [theme=dark] .colab-df-convert:hover {\n",
              "      background-color: #434B5C;\n",
              "      box-shadow: 0px 1px 3px 1px rgba(0, 0, 0, 0.15);\n",
              "      filter: drop-shadow(0px 1px 2px rgba(0, 0, 0, 0.3));\n",
              "      fill: #FFFFFF;\n",
              "    }\n",
              "  </style>\n",
              "\n",
              "      <script>\n",
              "        const buttonEl =\n",
              "          document.querySelector('#df-866ec6ba-7292-4571-9399-d13e407846ba button.colab-df-convert');\n",
              "        buttonEl.style.display =\n",
              "          google.colab.kernel.accessAllowed ? 'block' : 'none';\n",
              "\n",
              "        async function convertToInteractive(key) {\n",
              "          const element = document.querySelector('#df-866ec6ba-7292-4571-9399-d13e407846ba');\n",
              "          const dataTable =\n",
              "            await google.colab.kernel.invokeFunction('convertToInteractive',\n",
              "                                                     [key], {});\n",
              "          if (!dataTable) return;\n",
              "\n",
              "          const docLinkHtml = 'Like what you see? Visit the ' +\n",
              "            '<a target=\"_blank\" href=https://colab.research.google.com/notebooks/data_table.ipynb>data table notebook</a>'\n",
              "            + ' to learn more about interactive tables.';\n",
              "          element.innerHTML = '';\n",
              "          dataTable['output_type'] = 'display_data';\n",
              "          await google.colab.output.renderOutput(dataTable, element);\n",
              "          const docLink = document.createElement('div');\n",
              "          docLink.innerHTML = docLinkHtml;\n",
              "          element.appendChild(docLink);\n",
              "        }\n",
              "      </script>\n",
              "    </div>\n",
              "  </div>\n",
              "  "
            ]
          },
          "metadata": {},
          "execution_count": 49
        }
      ]
    },
    {
      "cell_type": "code",
      "source": [
        "fig = sns.catplot(data=df, \n",
        "                  x=\"CUML_GPA\", \n",
        "                  hue=\"SCHOLARSHIP\", \n",
        "                  kind='count',\n",
        "                  height=4, \n",
        "                  aspect=2,\n",
        "                  legend = False)\n",
        "fig.set(xlabel = 'Scholarship Type',\n",
        "        title='Number of Student by Scholarship Type and CGPA in Last Semester')\n",
        "fig.add_legend(label_order = ['<2.00','2.00-2.49','2.50-2.99','3.00-3.49','Above 3.49'])"
      ],
      "metadata": {
        "colab": {
          "base_uri": "https://localhost:8080/",
          "height": 329
        },
        "id": "FfILAS8UnsyV",
        "outputId": "fd294ba7-09cc-481a-badd-b795426292bd"
      },
      "execution_count": null,
      "outputs": [
        {
          "output_type": "execute_result",
          "data": {
            "text/plain": [
              "<seaborn.axisgrid.FacetGrid at 0x7f11f90b4f50>"
            ]
          },
          "metadata": {},
          "execution_count": 50
        },
        {
          "output_type": "display_data",
          "data": {
            "text/plain": [
              "<Figure size 668.375x288 with 1 Axes>"
            ],
            "image/png": "[encoded data removed]"
          },
          "metadata": {
            "needs_background": "light"
          }
        }
      ]
    },
    {
      "cell_type": "code",
      "source": [
        "round(pd.crosstab(stud_df['CUML_GPA'], \n",
        "            stud_df['HS_TYPE'], \n",
        "            normalize=True)*100,2)"
      ],
      "metadata": {
        "colab": {
          "base_uri": "https://localhost:8080/",
          "height": 235
        },
        "id": "lD1BAb7ErdWl",
        "outputId": "2b1958a5-47ef-4aff-bfd6-81e99116df87"
      },
      "execution_count": null,
      "outputs": [
        {
          "output_type": "execute_result",
          "data": {
            "text/plain": [
              "HS_TYPE     Other  Private  State\n",
              "CUML_GPA                         \n",
              "2.00-2.49    2.07     6.21  17.93\n",
              "2.50-2.99    0.69     2.07  14.48\n",
              "3.00-3.49    5.52     4.83  17.24\n",
              "<2.00        2.76     2.07   6.90\n",
              "Above 3.49   0.69     2.07  14.48"
            ],
            "text/html": [
              "\n",
              "  <div id=\"df-69cee365-2878-49a4-9355-5f482dbedde9\">\n",
              "    <div class=\"colab-df-container\">\n",
              "      <div>\n",
              "<style scoped>\n",
              "    .dataframe tbody tr th:only-of-type {\n",
              "        vertical-align: middle;\n",
              "    }\n",
              "\n",
              "    .dataframe tbody tr th {\n",
              "        vertical-align: top;\n",
              "    }\n",
              "\n",
              "    .dataframe thead th {\n",
              "        text-align: right;\n",
              "    }\n",
              "</style>\n",
              "<table border=\"1\" class=\"dataframe\">\n",
              "  <thead>\n",
              "    <tr style=\"text-align: right;\">\n",
              "      <th>HS_TYPE</th>\n",
              "      <th>Other</th>\n",
              "      <th>Private</th>\n",
              "      <th>State</th>\n",
              "    </tr>\n",
              "    <tr>\n",
              "      <th>CUML_GPA</th>\n",
              "      <th></th>\n",
              "      <th></th>\n",
              "      <th></th>\n",
              "    </tr>\n",
              "  </thead>\n",
              "  <tbody>\n",
              "    <tr>\n",
              "      <th>2.00-2.49</th>\n",
              "      <td>2.07</td>\n",
              "      <td>6.21</td>\n",
              "      <td>17.93</td>\n",
              "    </tr>\n",
              "    <tr>\n",
              "      <th>2.50-2.99</th>\n",
              "      <td>0.69</td>\n",
              "      <td>2.07</td>\n",
              "      <td>14.48</td>\n",
              "    </tr>\n",
              "    <tr>\n",
              "      <th>3.00-3.49</th>\n",
              "      <td>5.52</td>\n",
              "      <td>4.83</td>\n",
              "      <td>17.24</td>\n",
              "    </tr>\n",
              "    <tr>\n",
              "      <th>&lt;2.00</th>\n",
              "      <td>2.76</td>\n",
              "      <td>2.07</td>\n",
              "      <td>6.90</td>\n",
              "    </tr>\n",
              "    <tr>\n",
              "      <th>Above 3.49</th>\n",
              "      <td>0.69</td>\n",
              "      <td>2.07</td>\n",
              "      <td>14.48</td>\n",
              "    </tr>\n",
              "  </tbody>\n",
              "</table>\n",
              "</div>\n",
              "      <button class=\"colab-df-convert\" onclick=\"convertToInteractive('df-69cee365-2878-49a4-9355-5f482dbedde9')\"\n",
              "              title=\"Convert this dataframe to an interactive table.\"\n",
              "              style=\"display:none;\">\n",
              "        \n",
              "  <svg xmlns=\"http://www.w3.org/2000/svg\" height=\"24px\"viewBox=\"0 0 24 24\"\n",
              "       width=\"24px\">\n",
              "    <path d=\"M0 0h24v24H0V0z\" fill=\"none\"/>\n",
              "    <path d=\"M18.56 5.44l.94 2.06.94-2.06 2.06-.94-2.06-.94-.94-2.06-.94 2.06-2.06.94zm-11 1L8.5 8.5l.94-2.06 2.06-.94-2.06-.94L8.5 2.5l-.94 2.06-2.06.94zm10 10l.94 2.06.94-2.06 2.06-.94-2.06-.94-.94-2.06-.94 2.06-2.06.94z\"/><path d=\"M17.41 7.96l-1.37-1.37c-.4-.4-.92-.59-1.43-.59-.52 0-1.04.2-1.43.59L10.3 9.45l-7.72 7.72c-.78.78-.78 2.05 0 2.83L4 21.41c.39.39.9.59 1.41.59.51 0 1.02-.2 1.41-.59l7.78-7.78 2.81-2.81c.8-.78.8-2.07 0-2.86zM5.41 20L4 18.59l7.72-7.72 1.47 1.35L5.41 20z\"/>\n",
              "  </svg>\n",
              "      </button>\n",
              "      \n",
              "  <style>\n",
              "    .colab-df-container {\n",
              "      display:flex;\n",
              "      flex-wrap:wrap;\n",
              "      gap: 12px;\n",
              "    }\n",
              "\n",
              "    .colab-df-convert {\n",
              "      background-color: #E8F0FE;\n",
              "      border: none;\n",
              "      border-radius: 50%;\n",
              "      cursor: pointer;\n",
              "      display: none;\n",
              "      fill: #1967D2;\n",
              "      height: 32px;\n",
              "      padding: 0 0 0 0;\n",
              "      width: 32px;\n",
              "    }\n",
              "\n",
              "    .colab-df-convert:hover {\n",
              "      background-color: #E2EBFA;\n",
              "      box-shadow: 0px 1px 2px rgba(60, 64, 67, 0.3), 0px 1px 3px 1px rgba(60, 64, 67, 0.15);\n",
              "      fill: #174EA6;\n",
              "    }\n",
              "\n",
              "    [theme=dark] .colab-df-convert {\n",
              "      background-color: #3B4455;\n",
              "      fill: #D2E3FC;\n",
              "    }\n",
              "\n",
              "    [theme=dark] .colab-df-convert:hover {\n",
              "      background-color: #434B5C;\n",
              "      box-shadow: 0px 1px 3px 1px rgba(0, 0, 0, 0.15);\n",
              "      filter: drop-shadow(0px 1px 2px rgba(0, 0, 0, 0.3));\n",
              "      fill: #FFFFFF;\n",
              "    }\n",
              "  </style>\n",
              "\n",
              "      <script>\n",
              "        const buttonEl =\n",
              "          document.querySelector('#df-69cee365-2878-49a4-9355-5f482dbedde9 button.colab-df-convert');\n",
              "        buttonEl.style.display =\n",
              "          google.colab.kernel.accessAllowed ? 'block' : 'none';\n",
              "\n",
              "        async function convertToInteractive(key) {\n",
              "          const element = document.querySelector('#df-69cee365-2878-49a4-9355-5f482dbedde9');\n",
              "          const dataTable =\n",
              "            await google.colab.kernel.invokeFunction('convertToInteractive',\n",
              "                                                     [key], {});\n",
              "          if (!dataTable) return;\n",
              "\n",
              "          const docLinkHtml = 'Like what you see? Visit the ' +\n",
              "            '<a target=\"_blank\" href=https://colab.research.google.com/notebooks/data_table.ipynb>data table notebook</a>'\n",
              "            + ' to learn more about interactive tables.';\n",
              "          element.innerHTML = '';\n",
              "          dataTable['output_type'] = 'display_data';\n",
              "          await google.colab.output.renderOutput(dataTable, element);\n",
              "          const docLink = document.createElement('div');\n",
              "          docLink.innerHTML = docLinkHtml;\n",
              "          element.appendChild(docLink);\n",
              "        }\n",
              "      </script>\n",
              "    </div>\n",
              "  </div>\n",
              "  "
            ]
          },
          "metadata": {},
          "execution_count": 51
        }
      ]
    },
    {
      "cell_type": "code",
      "source": [
        "fig = sns.catplot(data=stud_df, \n",
        "                  x='HS_TYPE', \n",
        "                  hue='CUML_GPA', \n",
        "                  kind='count',\n",
        "                  height=4, \n",
        "                  aspect=2,)\n",
        "fig.set(xlabel = 'Cumulative Grade Point Average (CGPA)',\n",
        "        ylabel = 'Number of Student', \n",
        "        title='Number of Student by Graduated High School Type and CGPA in Last Semester')\n",
        "\n",
        "ax = fig.facet_axis(0,0)\n",
        "for p in ax.patches:\n",
        "    ax.text(p.get_x()+ 0.05, \n",
        "            p.get_height(), \n",
        "            p.get_height())"
      ],
      "metadata": {
        "id": "tr7K42RoceYB",
        "colab": {
          "base_uri": "https://localhost:8080/",
          "height": 312
        },
        "outputId": "caf37e10-c397-4daa-f404-dd84a993f617"
      },
      "execution_count": null,
      "outputs": [
        {
          "output_type": "display_data",
          "data": {
            "text/plain": [
              "<Figure size 668.375x288 with 1 Axes>"
            ],
            "image/png": "[encoded data removed]"
          },
          "metadata": {
            "needs_background": "light"
          }
        }
      ]
    },
    {
      "cell_type": "markdown",
      "source": [
        "### B. Categorical vs Continuous Analysis\n",
        "\n",
        "**Question 3: Is spending more hours on study achieved high CGPA?**\n"
      ],
      "metadata": {
        "id": "OAm1YgOc70cb"
      }
    },
    {
      "cell_type": "code",
      "source": [
        "pd.pivot_table(stud_df.sort_values('CUML_GPA'), values = 'STUDY_HRS', index='CUML_GPA')"
      ],
      "metadata": {
        "colab": {
          "base_uri": "https://localhost:8080/",
          "height": 235
        },
        "id": "-etfDQ7TEFc-",
        "outputId": "5c1c6633-fcd9-4235-f81c-f3b3182fe134"
      },
      "execution_count": null,
      "outputs": [
        {
          "output_type": "execute_result",
          "data": {
            "text/plain": [
              "            STUDY_HRS\n",
              "CUML_GPA             \n",
              "2.00-2.49    5.263158\n",
              "2.50-2.99    6.520000\n",
              "3.00-3.49    4.925000\n",
              "<2.00        4.411765\n",
              "Above 3.49   5.120000"
            ],
            "text/html": [
              "\n",
              "  <div id=\"df-3e74049f-6fbe-4cc8-86fa-9043f2ec9628\">\n",
              "    <div class=\"colab-df-container\">\n",
              "      <div>\n",
              "<style scoped>\n",
              "    .dataframe tbody tr th:only-of-type {\n",
              "        vertical-align: middle;\n",
              "    }\n",
              "\n",
              "    .dataframe tbody tr th {\n",
              "        vertical-align: top;\n",
              "    }\n",
              "\n",
              "    .dataframe thead th {\n",
              "        text-align: right;\n",
              "    }\n",
              "</style>\n",
              "<table border=\"1\" class=\"dataframe\">\n",
              "  <thead>\n",
              "    <tr style=\"text-align: right;\">\n",
              "      <th></th>\n",
              "      <th>STUDY_HRS</th>\n",
              "    </tr>\n",
              "    <tr>\n",
              "      <th>CUML_GPA</th>\n",
              "      <th></th>\n",
              "    </tr>\n",
              "  </thead>\n",
              "  <tbody>\n",
              "    <tr>\n",
              "      <th>2.00-2.49</th>\n",
              "      <td>5.263158</td>\n",
              "    </tr>\n",
              "    <tr>\n",
              "      <th>2.50-2.99</th>\n",
              "      <td>6.520000</td>\n",
              "    </tr>\n",
              "    <tr>\n",
              "      <th>3.00-3.49</th>\n",
              "      <td>4.925000</td>\n",
              "    </tr>\n",
              "    <tr>\n",
              "      <th>&lt;2.00</th>\n",
              "      <td>4.411765</td>\n",
              "    </tr>\n",
              "    <tr>\n",
              "      <th>Above 3.49</th>\n",
              "      <td>5.120000</td>\n",
              "    </tr>\n",
              "  </tbody>\n",
              "</table>\n",
              "</div>\n",
              "      <button class=\"colab-df-convert\" onclick=\"convertToInteractive('df-3e74049f-6fbe-4cc8-86fa-9043f2ec9628')\"\n",
              "              title=\"Convert this dataframe to an interactive table.\"\n",
              "              style=\"display:none;\">\n",
              "        \n",
              "  <svg xmlns=\"http://www.w3.org/2000/svg\" height=\"24px\"viewBox=\"0 0 24 24\"\n",
              "       width=\"24px\">\n",
              "    <path d=\"M0 0h24v24H0V0z\" fill=\"none\"/>\n",
              "    <path d=\"M18.56 5.44l.94 2.06.94-2.06 2.06-.94-2.06-.94-.94-2.06-.94 2.06-2.06.94zm-11 1L8.5 8.5l.94-2.06 2.06-.94-2.06-.94L8.5 2.5l-.94 2.06-2.06.94zm10 10l.94 2.06.94-2.06 2.06-.94-2.06-.94-.94-2.06-.94 2.06-2.06.94z\"/><path d=\"M17.41 7.96l-1.37-1.37c-.4-.4-.92-.59-1.43-.59-.52 0-1.04.2-1.43.59L10.3 9.45l-7.72 7.72c-.78.78-.78 2.05 0 2.83L4 21.41c.39.39.9.59 1.41.59.51 0 1.02-.2 1.41-.59l7.78-7.78 2.81-2.81c.8-.78.8-2.07 0-2.86zM5.41 20L4 18.59l7.72-7.72 1.47 1.35L5.41 20z\"/>\n",
              "  </svg>\n",
              "      </button>\n",
              "      \n",
              "  <style>\n",
              "    .colab-df-container {\n",
              "      display:flex;\n",
              "      flex-wrap:wrap;\n",
              "      gap: 12px;\n",
              "    }\n",
              "\n",
              "    .colab-df-convert {\n",
              "      background-color: #E8F0FE;\n",
              "      border: none;\n",
              "      border-radius: 50%;\n",
              "      cursor: pointer;\n",
              "      display: none;\n",
              "      fill: #1967D2;\n",
              "      height: 32px;\n",
              "      padding: 0 0 0 0;\n",
              "      width: 32px;\n",
              "    }\n",
              "\n",
              "    .colab-df-convert:hover {\n",
              "      background-color: #E2EBFA;\n",
              "      box-shadow: 0px 1px 2px rgba(60, 64, 67, 0.3), 0px 1px 3px 1px rgba(60, 64, 67, 0.15);\n",
              "      fill: #174EA6;\n",
              "    }\n",
              "\n",
              "    [theme=dark] .colab-df-convert {\n",
              "      background-color: #3B4455;\n",
              "      fill: #D2E3FC;\n",
              "    }\n",
              "\n",
              "    [theme=dark] .colab-df-convert:hover {\n",
              "      background-color: #434B5C;\n",
              "      box-shadow: 0px 1px 3px 1px rgba(0, 0, 0, 0.15);\n",
              "      filter: drop-shadow(0px 1px 2px rgba(0, 0, 0, 0.3));\n",
              "      fill: #FFFFFF;\n",
              "    }\n",
              "  </style>\n",
              "\n",
              "      <script>\n",
              "        const buttonEl =\n",
              "          document.querySelector('#df-3e74049f-6fbe-4cc8-86fa-9043f2ec9628 button.colab-df-convert');\n",
              "        buttonEl.style.display =\n",
              "          google.colab.kernel.accessAllowed ? 'block' : 'none';\n",
              "\n",
              "        async function convertToInteractive(key) {\n",
              "          const element = document.querySelector('#df-3e74049f-6fbe-4cc8-86fa-9043f2ec9628');\n",
              "          const dataTable =\n",
              "            await google.colab.kernel.invokeFunction('convertToInteractive',\n",
              "                                                     [key], {});\n",
              "          if (!dataTable) return;\n",
              "\n",
              "          const docLinkHtml = 'Like what you see? Visit the ' +\n",
              "            '<a target=\"_blank\" href=https://colab.research.google.com/notebooks/data_table.ipynb>data table notebook</a>'\n",
              "            + ' to learn more about interactive tables.';\n",
              "          element.innerHTML = '';\n",
              "          dataTable['output_type'] = 'display_data';\n",
              "          await google.colab.output.renderOutput(dataTable, element);\n",
              "          const docLink = document.createElement('div');\n",
              "          docLink.innerHTML = docLinkHtml;\n",
              "          element.appendChild(docLink);\n",
              "        }\n",
              "      </script>\n",
              "    </div>\n",
              "  </div>\n",
              "  "
            ]
          },
          "metadata": {},
          "execution_count": 53
        }
      ]
    },
    {
      "cell_type": "code",
      "source": [
        "fig = sns.barplot(\n",
        "    x=\"CUML_GPA\",\n",
        "    y=\"STUDY_HRS\",\n",
        "    data=stud_df)"
      ],
      "metadata": {
        "colab": {
          "base_uri": "https://localhost:8080/",
          "height": 280
        },
        "id": "f-doJcH9izyS",
        "outputId": "a63df752-7c94-48fd-cd2e-e1d69b0fbde1"
      },
      "execution_count": null,
      "outputs": [
        {
          "output_type": "display_data",
          "data": {
            "text/plain": [
              "<Figure size 432x288 with 1 Axes>"
            ],
            "image/png": "[encoded data removed]"
          },
          "metadata": {
            "needs_background": "light"
          }
        }
      ]
    },
    {
      "cell_type": "markdown",
      "source": [
        "The bar plot above clearly shows that spending more hours on study will not guarantee high CGPA but the average 2.50-2.99 range."
      ],
      "metadata": {
        "id": "Lp2RNCOGDcgY"
      }
    },
    {
      "cell_type": "markdown",
      "source": [
        "# References:\n",
        "\n",
        "https://analyticsindiamag.com/5-ways-handle-missing-values-machine-learning-datasets/\n",
        "\n",
        "https://www.academia.edu/51350289/Students_Performance_Analysis_with_EDA_and_Machine_Learning_Models\n",
        "\n",
        "https://www.kaggle.com/code/harunshimanto/student-s-academic-performance-with-ml-eda/notebook\n",
        "\n",
        "https://www.kaggle.com/code/janietran/eda-on-higher-education-students-performance/data\n",
        "\n"
      ],
      "metadata": {
        "id": "Fy9cE_rxdWCQ"
      }
    }
  ]
}