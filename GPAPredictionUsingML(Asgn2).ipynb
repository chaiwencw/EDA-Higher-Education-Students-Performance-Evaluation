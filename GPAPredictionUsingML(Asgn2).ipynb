{
  "cells": [
    {
      "cell_type": "markdown",
      "metadata": {
        "id": "view-in-github",
        "colab_type": "text"
      },
      "source": [
        "<a href=\"https://colab.research.google.com/github/chaiwencw/Higher-Education-Students-Performance-Evaluation/blob/main/Student_Grade_Prediction_Using_ML_Model(Asgn2).ipynb\" target=\"_parent\"><img src=\"https://colab.research.google.com/assets/colab-badge.svg\" alt=\"Open In Colab\"/></a>"
      ]
    },
    {
      "cell_type": "code",
      "execution_count": null,
      "metadata": {
        "id": "HrYzLy9kUxRQ"
      },
      "outputs": [],
      "source": [
        "#import necessaries libraries \n",
        "import pandas as pd\n",
        "import seaborn as sns\n",
        "import numpy as np\n",
        "import matplotlib.pyplot as plt\n",
        "\n",
        "from sklearn import preprocessing\n",
        "from sklearn.model_selection import train_test_split, GridSearchCV\n",
        "from sklearn.metrics import confusion_matrix\n",
        "from sklearn.feature_selection import SelectKBest, f_classif, chi2\n",
        "\n",
        "from sklearn.svm import SVC\n",
        "from sklearn.neighbors import KNeighborsClassifier as KNN\n",
        "from sklearn.linear_model import LogisticRegression\n",
        "\n",
        "from sklearn.metrics import accuracy_score, classification_report\n"
      ]
    },
    {
      "cell_type": "markdown",
      "source": [
        "# **1.0 Data Preprocessing**\n"
      ],
      "metadata": {
        "id": "PpkrTqK6sa8L"
      }
    },
    {
      "cell_type": "code",
      "execution_count": null,
      "metadata": {
        "colab": {
          "base_uri": "https://localhost:8080/",
          "height": 206
        },
        "id": "ieFvtOC9U0h0",
        "outputId": "ee0d086f-5e4b-434b-ee22-b515c6584968"
      },
      "outputs": [
        {
          "output_type": "execute_result",
          "data": {
            "text/plain": [
              "  STUDENTID  AGE  GENDER  HS_TYPE  SCHOLARSHIP  WORK  ACTIVITY  PARTNER  \\\n",
              "0  STUDENT1   23       2        3            3     1         2        2   \n",
              "1  STUDENT2   23       2        3            3     1         2        2   \n",
              "2  STUDENT3   24       2        2            3     2         2        2   \n",
              "\n",
              "   SALARY  TRANSPORT  LIVING  MOTHER_EDU  FATHER_EDU  #_SIBLINGS  KIDS  \\\n",
              "0     170          1       1           1           2           3     1   \n",
              "1     185          1       1           2           3           2     1   \n",
              "2     255          4       2           2           2           2     1   \n",
              "\n",
              "   MOTHER_JOB  FATHER_JOB  STUDY_HRS  CUML_GPA  EXP_GPA  \n",
              "0           2           5        7.0         1        1  \n",
              "1           2           1        4.0         2        3  \n",
              "2           2           1        2.0         2        2  "
            ],
            "text/html": [
              "\n",
              "  <div id=\"df-480808e9-d5de-441d-a9e6-e3459e8179e1\">\n",
              "    <div class=\"colab-df-container\">\n",
              "      <div>\n",
              "<style scoped>\n",
              "    .dataframe tbody tr th:only-of-type {\n",
              "        vertical-align: middle;\n",
              "    }\n",
              "\n",
              "    .dataframe tbody tr th {\n",
              "        vertical-align: top;\n",
              "    }\n",
              "\n",
              "    .dataframe thead th {\n",
              "        text-align: right;\n",
              "    }\n",
              "</style>\n",
              "<table border=\"1\" class=\"dataframe\">\n",
              "  <thead>\n",
              "    <tr style=\"text-align: right;\">\n",
              "      <th></th>\n",
              "      <th>STUDENTID</th>\n",
              "      <th>AGE</th>\n",
              "      <th>GENDER</th>\n",
              "      <th>HS_TYPE</th>\n",
              "      <th>SCHOLARSHIP</th>\n",
              "      <th>WORK</th>\n",
              "      <th>ACTIVITY</th>\n",
              "      <th>PARTNER</th>\n",
              "      <th>SALARY</th>\n",
              "      <th>TRANSPORT</th>\n",
              "      <th>LIVING</th>\n",
              "      <th>MOTHER_EDU</th>\n",
              "      <th>FATHER_EDU</th>\n",
              "      <th>#_SIBLINGS</th>\n",
              "      <th>KIDS</th>\n",
              "      <th>MOTHER_JOB</th>\n",
              "      <th>FATHER_JOB</th>\n",
              "      <th>STUDY_HRS</th>\n",
              "      <th>CUML_GPA</th>\n",
              "      <th>EXP_GPA</th>\n",
              "    </tr>\n",
              "  </thead>\n",
              "  <tbody>\n",
              "    <tr>\n",
              "      <th>0</th>\n",
              "      <td>STUDENT1</td>\n",
              "      <td>23</td>\n",
              "      <td>2</td>\n",
              "      <td>3</td>\n",
              "      <td>3</td>\n",
              "      <td>1</td>\n",
              "      <td>2</td>\n",
              "      <td>2</td>\n",
              "      <td>170</td>\n",
              "      <td>1</td>\n",
              "      <td>1</td>\n",
              "      <td>1</td>\n",
              "      <td>2</td>\n",
              "      <td>3</td>\n",
              "      <td>1</td>\n",
              "      <td>2</td>\n",
              "      <td>5</td>\n",
              "      <td>7.0</td>\n",
              "      <td>1</td>\n",
              "      <td>1</td>\n",
              "    </tr>\n",
              "    <tr>\n",
              "      <th>1</th>\n",
              "      <td>STUDENT2</td>\n",
              "      <td>23</td>\n",
              "      <td>2</td>\n",
              "      <td>3</td>\n",
              "      <td>3</td>\n",
              "      <td>1</td>\n",
              "      <td>2</td>\n",
              "      <td>2</td>\n",
              "      <td>185</td>\n",
              "      <td>1</td>\n",
              "      <td>1</td>\n",
              "      <td>2</td>\n",
              "      <td>3</td>\n",
              "      <td>2</td>\n",
              "      <td>1</td>\n",
              "      <td>2</td>\n",
              "      <td>1</td>\n",
              "      <td>4.0</td>\n",
              "      <td>2</td>\n",
              "      <td>3</td>\n",
              "    </tr>\n",
              "    <tr>\n",
              "      <th>2</th>\n",
              "      <td>STUDENT3</td>\n",
              "      <td>24</td>\n",
              "      <td>2</td>\n",
              "      <td>2</td>\n",
              "      <td>3</td>\n",
              "      <td>2</td>\n",
              "      <td>2</td>\n",
              "      <td>2</td>\n",
              "      <td>255</td>\n",
              "      <td>4</td>\n",
              "      <td>2</td>\n",
              "      <td>2</td>\n",
              "      <td>2</td>\n",
              "      <td>2</td>\n",
              "      <td>1</td>\n",
              "      <td>2</td>\n",
              "      <td>1</td>\n",
              "      <td>2.0</td>\n",
              "      <td>2</td>\n",
              "      <td>2</td>\n",
              "    </tr>\n",
              "  </tbody>\n",
              "</table>\n",
              "</div>\n",
              "      <button class=\"colab-df-convert\" onclick=\"convertToInteractive('df-480808e9-d5de-441d-a9e6-e3459e8179e1')\"\n",
              "              title=\"Convert this dataframe to an interactive table.\"\n",
              "              style=\"display:none;\">\n",
              "        \n",
              "  <svg xmlns=\"http://www.w3.org/2000/svg\" height=\"24px\"viewBox=\"0 0 24 24\"\n",
              "       width=\"24px\">\n",
              "    <path d=\"M0 0h24v24H0V0z\" fill=\"none\"/>\n",
              "    <path d=\"M18.56 5.44l.94 2.06.94-2.06 2.06-.94-2.06-.94-.94-2.06-.94 2.06-2.06.94zm-11 1L8.5 8.5l.94-2.06 2.06-.94-2.06-.94L8.5 2.5l-.94 2.06-2.06.94zm10 10l.94 2.06.94-2.06 2.06-.94-2.06-.94-.94-2.06-.94 2.06-2.06.94z\"/><path d=\"M17.41 7.96l-1.37-1.37c-.4-.4-.92-.59-1.43-.59-.52 0-1.04.2-1.43.59L10.3 9.45l-7.72 7.72c-.78.78-.78 2.05 0 2.83L4 21.41c.39.39.9.59 1.41.59.51 0 1.02-.2 1.41-.59l7.78-7.78 2.81-2.81c.8-.78.8-2.07 0-2.86zM5.41 20L4 18.59l7.72-7.72 1.47 1.35L5.41 20z\"/>\n",
              "  </svg>\n",
              "      </button>\n",
              "      \n",
              "  <style>\n",
              "    .colab-df-container {\n",
              "      display:flex;\n",
              "      flex-wrap:wrap;\n",
              "      gap: 12px;\n",
              "    }\n",
              "\n",
              "    .colab-df-convert {\n",
              "      background-color: #E8F0FE;\n",
              "      border: none;\n",
              "      border-radius: 50%;\n",
              "      cursor: pointer;\n",
              "      display: none;\n",
              "      fill: #1967D2;\n",
              "      height: 32px;\n",
              "      padding: 0 0 0 0;\n",
              "      width: 32px;\n",
              "    }\n",
              "\n",
              "    .colab-df-convert:hover {\n",
              "      background-color: #E2EBFA;\n",
              "      box-shadow: 0px 1px 2px rgba(60, 64, 67, 0.3), 0px 1px 3px 1px rgba(60, 64, 67, 0.15);\n",
              "      fill: #174EA6;\n",
              "    }\n",
              "\n",
              "    [theme=dark] .colab-df-convert {\n",
              "      background-color: #3B4455;\n",
              "      fill: #D2E3FC;\n",
              "    }\n",
              "\n",
              "    [theme=dark] .colab-df-convert:hover {\n",
              "      background-color: #434B5C;\n",
              "      box-shadow: 0px 1px 3px 1px rgba(0, 0, 0, 0.15);\n",
              "      filter: drop-shadow(0px 1px 2px rgba(0, 0, 0, 0.3));\n",
              "      fill: #FFFFFF;\n",
              "    }\n",
              "  </style>\n",
              "\n",
              "      <script>\n",
              "        const buttonEl =\n",
              "          document.querySelector('#df-480808e9-d5de-441d-a9e6-e3459e8179e1 button.colab-df-convert');\n",
              "        buttonEl.style.display =\n",
              "          google.colab.kernel.accessAllowed ? 'block' : 'none';\n",
              "\n",
              "        async function convertToInteractive(key) {\n",
              "          const element = document.querySelector('#df-480808e9-d5de-441d-a9e6-e3459e8179e1');\n",
              "          const dataTable =\n",
              "            await google.colab.kernel.invokeFunction('convertToInteractive',\n",
              "                                                     [key], {});\n",
              "          if (!dataTable) return;\n",
              "\n",
              "          const docLinkHtml = 'Like what you see? Visit the ' +\n",
              "            '<a target=\"_blank\" href=https://colab.research.google.com/notebooks/data_table.ipynb>data table notebook</a>'\n",
              "            + ' to learn more about interactive tables.';\n",
              "          element.innerHTML = '';\n",
              "          dataTable['output_type'] = 'display_data';\n",
              "          await google.colab.output.renderOutput(dataTable, element);\n",
              "          const docLink = document.createElement('div');\n",
              "          docLink.innerHTML = docLinkHtml;\n",
              "          element.appendChild(docLink);\n",
              "        }\n",
              "      </script>\n",
              "    </div>\n",
              "  </div>\n",
              "  "
            ]
          },
          "metadata": {},
          "execution_count": 2
        }
      ],
      "source": [
        "#import dataset\n",
        "url = 'https://raw.githubusercontent.com/chaiwencw/EDA-Higher-Education-Students-Performance-Evaluation/main/student_prediction_edited.csv'\n",
        "df = pd.read_csv(url)\n",
        "df.head(3)"
      ]
    },
    {
      "cell_type": "code",
      "execution_count": null,
      "metadata": {
        "id": "0VJoBUA_U1vS"
      },
      "outputs": [],
      "source": [
        "#rename columns\n",
        "df.rename(columns ={'LIVING':'ACCOMM_TYPE','KIDS':'PARENTAL_STATUS'}, inplace = True)\n",
        "#drop STUDENTID column\n",
        "df = df.drop('STUDENTID', axis=1)"
      ]
    },
    {
      "cell_type": "markdown",
      "source": [
        "* Handling with Missing Values"
      ],
      "metadata": {
        "id": "Lxbh1m_Vupsf"
      }
    },
    {
      "cell_type": "code",
      "source": [
        "# Count null values in each column\n",
        "df.isnull().sum()"
      ],
      "metadata": {
        "colab": {
          "base_uri": "https://localhost:8080/"
        },
        "id": "yV39mZHnuGPN",
        "outputId": "f81d6a4a-a039-47f5-9c64-a832e9ff47c3"
      },
      "execution_count": null,
      "outputs": [
        {
          "output_type": "execute_result",
          "data": {
            "text/plain": [
              "AGE                 0\n",
              "GENDER              0\n",
              "HS_TYPE             0\n",
              "SCHOLARSHIP         0\n",
              "WORK                0\n",
              "ACTIVITY            0\n",
              "PARTNER             0\n",
              "SALARY              0\n",
              "TRANSPORT           0\n",
              "ACCOMM_TYPE         0\n",
              "MOTHER_EDU          0\n",
              "FATHER_EDU          0\n",
              "#_SIBLINGS          0\n",
              "PARENTAL_STATUS     0\n",
              "MOTHER_JOB          0\n",
              "FATHER_JOB          0\n",
              "STUDY_HRS          29\n",
              "CUML_GPA            0\n",
              "EXP_GPA             0\n",
              "dtype: int64"
            ]
          },
          "metadata": {},
          "execution_count": 4
        }
      ]
    },
    {
      "cell_type": "markdown",
      "source": [
        "The STUDY_HRS column has 29 missing values. The most common method used for data imputation is replacing them with their mean or median.Since the mean value will be highly influenced by outliers, we use the median."
      ],
      "metadata": {
        "id": "i5gmKbYEuzTW"
      }
    },
    {
      "cell_type": "code",
      "execution_count": null,
      "metadata": {
        "colab": {
          "base_uri": "https://localhost:8080/"
        },
        "id": "sIdkqd--U5fQ",
        "outputId": "c55de7a5-411a-43db-be22-33adf1b3238e"
      },
      "outputs": [
        {
          "output_type": "stream",
          "name": "stdout",
          "text": [
            "Number of missing values in STUDY_HRS after median imputation: 0.\n"
          ]
        }
      ],
      "source": [
        "# Fill the null values with the median\n",
        "df.fillna({'STUDY_HRS': df.STUDY_HRS.median()}, inplace = True)\n",
        "print(f'Number of missing values in STUDY_HRS after median imputation: {df.STUDY_HRS.isnull().sum()}.')"
      ]
    },
    {
      "cell_type": "code",
      "execution_count": null,
      "metadata": {
        "id": "YduPhPiMVV-r"
      },
      "outputs": [],
      "source": [
        "# Extract independent variables\n",
        "features = df.drop('EXP_GPA',axis=1) \n",
        "# Extract dependent variable\n",
        "target = df['EXP_GPA'] "
      ]
    },
    {
      "cell_type": "code",
      "source": [
        "features.shape"
      ],
      "metadata": {
        "colab": {
          "base_uri": "https://localhost:8080/"
        },
        "id": "0ezfwPKB4dNc",
        "outputId": "d20e50a2-3eff-40bc-ae2e-d624211683cd"
      },
      "execution_count": null,
      "outputs": [
        {
          "output_type": "execute_result",
          "data": {
            "text/plain": [
              "(145, 18)"
            ]
          },
          "metadata": {},
          "execution_count": 7
        }
      ]
    },
    {
      "cell_type": "markdown",
      "source": [
        "We have 145 samples and 18 variables in the dataset."
      ],
      "metadata": {
        "id": "hw_pNOH24kd_"
      }
    },
    {
      "cell_type": "markdown",
      "source": [
        "# **2.0 Feature Scaling**\n",
        "\n",
        "  * Rescaling is a common preprocessing task in machine learning. Many machine learning algorithms will assume all features are on the same scale. \n",
        "  * The categorical columns in the given dataset are already encoded. So, no scaling for them.\n",
        "  *  For numerical columns (AGE, SALARY, STUDY_HRS), we choose to rescaling the features to be approximately standard normally distributed with mean 0 and standard deviation 1 (Standardizing)"
      ],
      "metadata": {
        "id": "bj3Xm6mnOSeu"
      }
    },
    {
      "cell_type": "code",
      "source": [
        "# Create scaler\n",
        "sc = preprocessing.StandardScaler()\n",
        "# Transform the feature\n",
        "standardized = sc.fit_transform(df[{'STUDY_HRS','SALARY','AGE'}])\n",
        "# Show feature\n",
        "standardized"
      ],
      "metadata": {
        "colab": {
          "base_uri": "https://localhost:8080/"
        },
        "id": "vEdDHXSc3Ly7",
        "outputId": "d491f82e-9da3-4bb1-a4dc-ff963d44f3f4"
      },
      "execution_count": null,
      "outputs": [
        {
          "output_type": "execute_result",
          "data": {
            "text/plain": [
              "array([[-0.59497941,  0.46699912,  0.42682079],\n",
              "       [-0.3918271 ,  0.46699912, -0.3099532 ],\n",
              "       [ 0.55621702,  0.9919206 , -0.80113586],\n",
              "       [ 0.01447752, -1.10776534,  0.18122946],\n",
              "       [ 1.43654369,  0.46699912, -0.55554453],\n",
              "       [ 0.62393445,  0.46699912, -0.3099532 ],\n",
              "       [-0.79813172, -1.10776534, -1.04672719],\n",
              "       [ 0.48849958, -1.63268683, -0.3099532 ],\n",
              "       [-0.93356659,  0.9919206 , -0.3099532 ],\n",
              "       [ 1.43654369,  0.46699912, -0.80113586],\n",
              "       [ 1.03023907, -1.63268683, -0.3099532 ],\n",
              "       [ 2.24915293, -0.58284386,  0.91800346],\n",
              "       [-0.73041428, -0.58284386,  0.42682079],\n",
              "       [-0.32410966,  0.46699912, -0.3099532 ],\n",
              "       [ 1.639696  ,  2.04176357, -1.04672719],\n",
              "       [-0.86584916,  0.46699912, -0.80113586],\n",
              "       [-0.73041428, -1.10776534, -0.55554453],\n",
              "       [-0.32410966,  0.9919206 , -0.06436187],\n",
              "       [ 0.96252164, -0.58284386,  3.86509942],\n",
              "       [ 0.28534727, -0.58284386,  2.14596011],\n",
              "       [-0.32410966, -1.10776534,  1.40918612],\n",
              "       [-0.3918271 , -0.58284386,  0.67241213],\n",
              "       [-0.79813172,  0.46699912,  0.18122946],\n",
              "       [ 4.14524116,  2.04176357,  0.91800346],\n",
              "       [ 0.69165189,  0.46699912, -0.3099532 ],\n",
              "       [-0.25639223,  0.9919206 , -0.80113586],\n",
              "       [-0.45954454,  1.51684209, -0.55554453],\n",
              "       [-0.45954454, -1.10776534,  0.42682079],\n",
              "       [-1.00128403,  2.04176357, -0.55554453],\n",
              "       [-0.93356659, -0.05792237, -0.55554453],\n",
              "       [-0.32410966,  0.46699912, -1.04672719],\n",
              "       [-0.3918271 ,  2.04176357, -0.06436187],\n",
              "       [ 0.69165189,  0.46699912, -0.3099532 ],\n",
              "       [-0.3918271 ,  0.9919206 , -0.80113586],\n",
              "       [ 0.01447752, -0.58284386, -1.04672719],\n",
              "       [ 1.16567395, -1.10776534, -0.80113586],\n",
              "       [ 1.36882626,  0.46699912, -0.3099532 ],\n",
              "       [ 0.62393445,  0.46699912, -0.55554453],\n",
              "       [-0.45954454,  0.46699912,  0.67241213],\n",
              "       [-0.52726197,  0.46699912, -0.3099532 ],\n",
              "       [-0.05323992, -1.10776534, -0.3099532 ],\n",
              "       [ 0.48849958,  2.04176357,  1.16359479],\n",
              "       [-0.66269685,  0.46699912, -0.80113586],\n",
              "       [-0.18867479, -1.63268683, -0.3099532 ],\n",
              "       [-0.79813172,  0.9919206 , -0.3099532 ],\n",
              "       [ 2.24915293, -1.63268683,  0.42682079],\n",
              "       [-0.86584916,  0.46699912, -0.55554453],\n",
              "       [-0.52726197, -0.05792237, -0.3099532 ],\n",
              "       [-0.32410966, -1.63268683, -0.3099532 ],\n",
              "       [-0.05323992, -0.58284386, -0.06436187],\n",
              "       [ 0.42078214,  0.46699912, -0.80113586],\n",
              "       [-1.00128403,  0.9919206 , -0.3099532 ],\n",
              "       [ 0.21762983,  0.46699912,  0.42682079],\n",
              "       [ 0.48849958,  0.46699912, -0.3099532 ],\n",
              "       [ 1.09795651,  0.46699912, -0.3099532 ],\n",
              "       [ 2.11371806,  2.04176357, -0.3099532 ],\n",
              "       [-1.00128403,  0.9919206 ,  2.8827341 ],\n",
              "       [-0.32410966,  0.46699912, -0.80113586],\n",
              "       [ 1.57197857,  2.04176357,  0.67241213],\n",
              "       [-0.66269685,  0.9919206 ,  0.67241213],\n",
              "       [ 3.19719705,  0.46699912, -0.3099532 ],\n",
              "       [ 0.48849958, -1.63268683,  0.18122946],\n",
              "       [-0.52726197,  0.46699912,  1.16359479],\n",
              "       [ 0.42078214,  0.9919206 , -0.3099532 ],\n",
              "       [-0.32410966,  0.46699912, -0.3099532 ],\n",
              "       [ 1.03023907, -0.58284386, -0.3099532 ],\n",
              "       [-0.3918271 ,  0.46699912, -0.80113586],\n",
              "       [ 1.23339138,  0.46699912, -0.55554453],\n",
              "       [-0.66269685,  0.46699912, -0.3099532 ],\n",
              "       [-0.79813172,  0.9919206 , -0.3099532 ],\n",
              "       [-0.32410966, -0.58284386, -0.80113586],\n",
              "       [-0.59497941, -0.58284386, -1.04672719],\n",
              "       [-0.32410966, -1.10776534, -0.3099532 ],\n",
              "       [-1.06900147,  0.46699912,  0.91800346],\n",
              "       [-0.93356659, -0.58284386, -0.06436187],\n",
              "       [-0.32410966, -0.58284386,  0.42682079],\n",
              "       [ 0.21762983,  0.46699912, -0.06436187],\n",
              "       [ 0.42078214, -1.63268683, -0.3099532 ],\n",
              "       [-0.86584916,  0.46699912, -0.06436187],\n",
              "       [-0.79813172,  0.46699912, -0.3099532 ],\n",
              "       [-0.32410966,  0.9919206 , -0.3099532 ],\n",
              "       [-0.32410966,  2.04176357, -0.55554453],\n",
              "       [ 0.48849958,  0.46699912, -0.3099532 ],\n",
              "       [ 1.09795651,  0.46699912, -0.3099532 ],\n",
              "       [ 0.8948042 ,  2.04176357, -0.3099532 ],\n",
              "       [ 0.62393445, -1.63268683, -0.3099532 ],\n",
              "       [-0.59497941,  0.9919206 , -0.80113586],\n",
              "       [ 0.14991239,  0.46699912, -0.55554453],\n",
              "       [-0.32410966, -0.58284386, -0.06436187],\n",
              "       [-0.45954454,  0.46699912, -0.3099532 ],\n",
              "       [-0.45954454,  0.46699912, -0.06436187],\n",
              "       [-0.86584916,  0.46699912, -0.80113586],\n",
              "       [-0.66269685, -1.63268683,  0.18122946],\n",
              "       [-0.79813172, -0.58284386,  4.11069075],\n",
              "       [-0.45954454,  0.46699912, -1.04672719],\n",
              "       [-0.66269685, -0.58284386, -0.55554453],\n",
              "       [-0.66269685, -0.58284386, -0.06436187],\n",
              "       [-1.00128403, -1.10776534, -0.55554453],\n",
              "       [-1.00128403, -1.63268683, -0.06436187],\n",
              "       [-0.25639223,  0.46699912,  0.42682079],\n",
              "       [-0.86584916, -0.58284386, -0.3099532 ],\n",
              "       [ 0.48849958, -0.58284386, -0.80113586],\n",
              "       [-0.86584916, -0.58284386, -0.80113586],\n",
              "       [ 2.79089243, -1.10776534, -0.55554453],\n",
              "       [-0.66269685, -0.58284386, -1.04672719],\n",
              "       [-0.52726197, -0.58284386, -0.55554453],\n",
              "       [-0.32410966, -0.58284386,  0.67241213],\n",
              "       [-0.52726197, -0.58284386, -0.80113586],\n",
              "       [ 0.62393445,  0.46699912,  0.42682079],\n",
              "       [-0.52726197, -0.58284386,  0.91800346],\n",
              "       [ 0.42078214,  0.46699912, -0.55554453],\n",
              "       [-0.86584916, -0.58284386, -0.3099532 ],\n",
              "       [-0.86584916,  0.46699912, -0.3099532 ],\n",
              "       [-0.45954454,  0.46699912, -0.3099532 ],\n",
              "       [ 2.24915293,  0.46699912, -0.80113586],\n",
              "       [-0.45954454,  0.9919206 ,  0.67241213],\n",
              "       [-0.45954454,  1.51684209,  0.42682079],\n",
              "       [-0.93356659,  2.04176357, -0.55554453],\n",
              "       [-0.66269685, -1.63268683, -0.3099532 ],\n",
              "       [-0.66269685,  0.46699912,  4.11069075],\n",
              "       [ 0.01447752,  0.46699912, -0.3099532 ],\n",
              "       [-0.25639223,  1.51684209,  3.86509942],\n",
              "       [-1.06900147, -0.58284386, -0.3099532 ],\n",
              "       [ 1.639696  ,  0.46699912, -0.55554453],\n",
              "       [-0.25639223, -1.63268683,  3.12832543],\n",
              "       [-0.3918271 , -1.10776534,  0.18122946],\n",
              "       [ 1.09795651, -1.10776534,  2.14596011],\n",
              "       [-0.45954454, -1.10776534, -1.04672719],\n",
              "       [-0.59497941, -1.10776534, -0.80113586],\n",
              "       [-0.59497941, -1.10776534,  1.65477745],\n",
              "       [-0.66269685, -1.63268683,  1.40918612],\n",
              "       [-0.79813172, -1.10776534,  1.40918612],\n",
              "       [-0.79813172, -1.10776534, -0.06436187],\n",
              "       [-0.45954454, -0.58284386,  0.42682079],\n",
              "       [-0.45954454, -0.58284386, -0.55554453],\n",
              "       [-0.86584916,  0.46699912, -1.04672719],\n",
              "       [-0.79813172, -0.58284386, -0.06436187],\n",
              "       [-0.25639223, -0.58284386, -0.55554453],\n",
              "       [ 3.19719705, -1.10776534, -0.80113586],\n",
              "       [ 0.42078214, -1.10776534, -0.3099532 ],\n",
              "       [-0.45954454,  0.46699912,  0.91800346],\n",
              "       [-0.52726197, -0.58284386,  1.16359479],\n",
              "       [-0.66269685, -0.58284386, -0.06436187],\n",
              "       [ 3.26491449,  0.46699912, -0.55554453],\n",
              "       [ 1.16567395, -1.63268683,  0.18122946]])"
            ]
          },
          "metadata": {},
          "execution_count": 8
        }
      ]
    },
    {
      "cell_type": "code",
      "source": [
        "print(\"Mean:\", round(standardized.mean()))\n",
        "print(\"Standard deviation:\", standardized.std())"
      ],
      "metadata": {
        "colab": {
          "base_uri": "https://localhost:8080/"
        },
        "id": "dIpeK7RZOfUx",
        "outputId": "98426bbe-702a-4258-e63e-db1ca981217e"
      },
      "execution_count": null,
      "outputs": [
        {
          "output_type": "stream",
          "name": "stdout",
          "text": [
            "Mean: 0\n",
            "Standard deviation: 1.0\n"
          ]
        }
      ]
    },
    {
      "cell_type": "markdown",
      "source": [
        "After scaling, the numerical columns has the mean of 0 and the standard deviation of 1."
      ],
      "metadata": {
        "id": "Cky0mldXOeDW"
      }
    },
    {
      "cell_type": "markdown",
      "source": [
        "# **3.0 Feature Selection**"
      ],
      "metadata": {
        "id": "AyiHRzhd_jTY"
      }
    },
    {
      "cell_type": "markdown",
      "source": [
        "Filter Methods:\n",
        "\n",
        "1. Correlation Coefficient\n",
        "  - Correlation Among Features\n",
        "  \n",
        "    - Here we check for correlation between features (or pairwise correlation). This allows us to detect highly correlated features which bring no new info to the dataset. So, these features will be dropped to avoid model complexity and the chance of overfitting. \n",
        "    - There are few methods of correlation include pearson(standard correlation coefficient), kendall(Kendall Tau correlation coefficient),\n",
        "spearman(pearman rank correlation), etc. The defaut setting is 'pearson'."
      ],
      "metadata": {
        "id": "lBqUzQX8ILFj"
      }
    },
    {
      "cell_type": "code",
      "source": [
        "#obtain correlation matrix\n",
        "corr_mat = features.corr().abs()"
      ],
      "metadata": {
        "id": "lJm-iwGd8Ymt"
      },
      "execution_count": null,
      "outputs": []
    },
    {
      "cell_type": "markdown",
      "source": [
        "Note that correlation matrix is just the mirror reflection about the diagonal and all the diagonal elements will be 1. Here we select the upper triangular."
      ],
      "metadata": {
        "id": "-O9C6XWeEqCv"
      }
    },
    {
      "cell_type": "code",
      "source": [
        "#obtain upper triangle of the correlation matrix (no diagonal)\n",
        "upper_tri = corr_mat.where(np.triu(np.ones(corr_mat.shape),k=1).astype(bool))\n",
        "#drop the columns (features) with the correlation coefficient > 0.6\n",
        "to_drop = [column for column in upper_tri.columns if any(upper_tri[column] > 0.6)]\n",
        "if len(to_drop) == 0:\n",
        "  print('No highly correlated features are found!')\n",
        "else:\n",
        "  print(to_drop)"
      ],
      "metadata": {
        "colab": {
          "base_uri": "https://localhost:8080/"
        },
        "id": "P8agyPfm8w2i",
        "outputId": "8a9f3503-3a2c-4801-cd59-263d27808b20"
      },
      "execution_count": null,
      "outputs": [
        {
          "output_type": "stream",
          "name": "stdout",
          "text": [
            "No highly correlated features are found!\n"
          ]
        }
      ]
    },
    {
      "cell_type": "markdown",
      "source": [
        "Since no features are highly correlated, no dropping is performed. We can visualize the features correlation by plotting heatmap."
      ],
      "metadata": {
        "id": "-Qre4aeo9r0v"
      }
    },
    {
      "cell_type": "code",
      "source": [
        "corr_features = corr_mat.index\n",
        "plt.figure(figsize=(15,10))\n",
        "#plot heat map\n",
        "g=sns.heatmap(df[corr_features].corr(),annot=True,cmap=\"viridis\")"
      ],
      "metadata": {
        "colab": {
          "base_uri": "https://localhost:8080/",
          "height": 678
        },
        "id": "GkwVVpyt6YDx",
        "outputId": "ddd439cf-d0ef-43d3-b7d7-30347ca558fe"
      },
      "execution_count": null,
      "outputs": [
        {
          "output_type": "display_data",
          "data": {
            "text/plain": [
              "<Figure size 1080x720 with 2 Axes>"
            ],
            "image/png": "[encoded data removed]"
          },
          "metadata": {
            "needs_background": "light"
          }
        }
      ]
    },
    {
      "cell_type": "markdown",
      "source": [
        "Consider high correlation if the correlation coefficient > 0.6. From the heatmap, we can see that no features are highly correlated. Among all, the highest value is 0.43, which indicates FATHER_EDU and MOTHER_EDU are moderately correlated."
      ],
      "metadata": {
        "id": "30EZW5Fx_AKm"
      }
    },
    {
      "cell_type": "markdown",
      "source": [
        "\n",
        "\n",
        "  - Correlation between Features and Target\n",
        "    * Assume that good variables are highly correlated with the target.\n",
        "\n"
      ],
      "metadata": {
        "id": "ID3o5CyT6QNP"
      }
    },
    {
      "cell_type": "code",
      "source": [
        "#Correlation between features and target\n",
        "corr = df.corr()[\"EXP_GPA\"].sort_values(ascending=False)[1:]\n",
        "# Absolute for positive values\n",
        "abs_corr = abs(corr)\n",
        "# Threshold for features to keep\n",
        "new_features = abs_corr[abs_corr > 0.6]\n",
        "new_features"
      ],
      "metadata": {
        "colab": {
          "base_uri": "https://localhost:8080/"
        },
        "id": "JuIi9L3HHbLI",
        "outputId": "a8ad885e-5cff-4f9b-b533-8cb8d41db098"
      },
      "execution_count": null,
      "outputs": [
        {
          "output_type": "execute_result",
          "data": {
            "text/plain": [
              "CUML_GPA    0.657853\n",
              "Name: EXP_GPA, dtype: float64"
            ]
          },
          "metadata": {},
          "execution_count": 13
        }
      ]
    },
    {
      "cell_type": "code",
      "source": [
        "#Visualization by ploting heatmap\n",
        "plt.figure(figsize=(8, 5))\n",
        "heatmap = sns.heatmap(df.corr()[['EXP_GPA']].sort_values(by='EXP_GPA', ascending=False), vmin=-1, vmax=1, annot=True, cmap='BrBG')\n",
        "heatmap.set_title('Features Correlating with the Expected GPA During Graduation')"
      ],
      "metadata": {
        "id": "5gfORm0BG2HL"
      },
      "execution_count": null,
      "outputs": []
    },
    {
      "cell_type": "markdown",
      "source": [
        "From the above, we know that CUML_GPA is the only feature that is highly correlated with EXP_GPA as the correlation value is greater than 0.6. "
      ],
      "metadata": {
        "id": "RWLQkBoKHA5_"
      }
    },
    {
      "cell_type": "markdown",
      "source": [
        "2. Univariate Statistics\n",
        "\n",
        "  * Univariate feature selection works by selecting the best features \n",
        "based on univariate statistical tests. Here we use `SelectKBest` to obtain the highest scoring feature and remove the rest.\n",
        "  * The two commonly used score functions are `chi2` (Chi-Square) and `f_classif` (ANOVA F-value).\n",
        "  * Note that Chi-Square is for categorical features only."
      ],
      "metadata": {
        "id": "vLm4Jm3YIs4j"
      }
    },
    {
      "cell_type": "code",
      "source": [
        "#categorical features\n",
        "cat_features = features.drop({'STUDY_HRS','AGE','SALARY'},axis=1)\n",
        "# define feature selection\n",
        "kbest = SelectKBest(score_func=chi2, k ='all')\n",
        "# apply feature selection\n",
        "kbest = kbest.fit(cat_features, target)\n",
        "# what are scores for the features\n",
        "for i in range(len(kbest.scores_)):\n",
        "\tprint(f'Feature {i} ({cat_features.columns[i]}): {kbest.scores_[i]}')\n",
        "new_features = kbest.transform(cat_features)\n",
        "print('\\nVisualizing:\\n')\n",
        "#  plot the scores\n",
        "plt.bar([i for i in range(len(kbest.scores_))], kbest.scores_)\n",
        "plt.title('Score Function: Chi-Square')\n",
        "plt.show()"
      ],
      "metadata": {
        "colab": {
          "base_uri": "https://localhost:8080/",
          "height": 587
        },
        "id": "iF2Gzyb15j_l",
        "outputId": "87cb17c2-dcd2-45e1-c52c-7906ab7b0a6b"
      },
      "execution_count": null,
      "outputs": [
        {
          "output_type": "stream",
          "name": "stdout",
          "text": [
            "Feature 0 (GENDER): 2.551714840379639\n",
            "Feature 1 (HS_TYPE): 0.34674345547335356\n",
            "Feature 2 (SCHOLARSHIP): 2.499809732850068\n",
            "Feature 3 (WORK): 0.05154657398888035\n",
            "Feature 4 (ACTIVITY): 0.4500017975266034\n",
            "Feature 5 (PARTNER): 0.2024372890849788\n",
            "Feature 6 (TRANSPORT): 2.132128149113626\n",
            "Feature 7 (ACCOMM_TYPE): 0.717614228160695\n",
            "Feature 8 (MOTHER_EDU): 1.6711400098358924\n",
            "Feature 9 (FATHER_EDU): 3.32849436348359\n",
            "Feature 10 (#_SIBLINGS): 2.1722179323020554\n",
            "Feature 11 (PARENTAL_STATUS): 1.4158482633778293\n",
            "Feature 12 (MOTHER_JOB): 0.195324917124562\n",
            "Feature 13 (FATHER_JOB): 1.1795304206865918\n",
            "Feature 14 (CUML_GPA): 34.33647618757385\n",
            "\n",
            "Visualizing:\n",
            "\n"
          ]
        },
        {
          "output_type": "display_data",
          "data": {
            "text/plain": [
              "<Figure size 432x288 with 1 Axes>"
            ],
            "image/png": "[encoded data removed]"
          },
          "metadata": {
            "needs_background": "light"
          }
        }
      ]
    },
    {
      "cell_type": "code",
      "source": [
        "#Numerical features\n",
        "num_features = features[{'STUDY_HRS','AGE','SALARY'}]\n",
        "# define feature selection\n",
        "kbest = SelectKBest(score_func=f_classif,k='all')\n",
        "# apply feature selection\n",
        "kbest = kbest.fit(num_features, target)\n",
        "# find the scores for features\n",
        "for i in range(len(kbest.scores_)):\n",
        "\tprint(f'Feature {i} ({num_features.columns[i]}): {kbest.scores_[i]}')\n",
        "new_features = kbest.transform(num_features)"
      ],
      "metadata": {
        "colab": {
          "base_uri": "https://localhost:8080/"
        },
        "id": "2fLvVhliKpQ_",
        "outputId": "865eee12-b899-4188-cf01-e904db56382a"
      },
      "execution_count": null,
      "outputs": [
        {
          "output_type": "stream",
          "name": "stdout",
          "text": [
            "Feature 0 (SALARY): 1.39798651443096\n",
            "Feature 1 (AGE): 0.7274790741305651\n",
            "Feature 2 (STUDY_HRS): 1.389484699001954\n"
          ]
        }
      ]
    },
    {
      "cell_type": "markdown",
      "source": [
        "In univariate statistics approach, CUML_GPA obtains the highest scores.\n",
        "\n",
        "\n",
        "Overall, by using filter methods(correlation coefficient and univariate statistics), CUML_GPA is the only selected feature as it is highly correlated with the target (EXP_GPA) and also the highest scoring feature in SelectKBest. Therefore, the new dataset for machine learning model building in predicting student’s CGPA at graduation only consists of one feature, that is CUML_GPA."
      ],
      "metadata": {
        "id": "RuHvteeVNgIr"
      }
    },
    {
      "cell_type": "code",
      "source": [
        "newdf = df[{'CUML_GPA','EXP_GPA'}]\n",
        "newdf.head()"
      ],
      "metadata": {
        "colab": {
          "base_uri": "https://localhost:8080/",
          "height": 204
        },
        "id": "cTrDVmznPtxj",
        "outputId": "2779ea81-0db0-48e2-a44d-142ee41bf2d6"
      },
      "execution_count": null,
      "outputs": [
        {
          "output_type": "execute_result",
          "data": {
            "text/plain": [
              "   CUML_GPA  EXP_GPA\n",
              "0         1        1\n",
              "1         2        3\n",
              "2         2        2\n",
              "3         3        2\n",
              "4         2        2"
            ],
            "text/html": [
              "\n",
              "  <div id=\"df-528e5d71-e519-4944-80ed-db1cc5e54726\">\n",
              "    <div class=\"colab-df-container\">\n",
              "      <div>\n",
              "<style scoped>\n",
              "    .dataframe tbody tr th:only-of-type {\n",
              "        vertical-align: middle;\n",
              "    }\n",
              "\n",
              "    .dataframe tbody tr th {\n",
              "        vertical-align: top;\n",
              "    }\n",
              "\n",
              "    .dataframe thead th {\n",
              "        text-align: right;\n",
              "    }\n",
              "</style>\n",
              "<table border=\"1\" class=\"dataframe\">\n",
              "  <thead>\n",
              "    <tr style=\"text-align: right;\">\n",
              "      <th></th>\n",
              "      <th>CUML_GPA</th>\n",
              "      <th>EXP_GPA</th>\n",
              "    </tr>\n",
              "  </thead>\n",
              "  <tbody>\n",
              "    <tr>\n",
              "      <th>0</th>\n",
              "      <td>1</td>\n",
              "      <td>1</td>\n",
              "    </tr>\n",
              "    <tr>\n",
              "      <th>1</th>\n",
              "      <td>2</td>\n",
              "      <td>3</td>\n",
              "    </tr>\n",
              "    <tr>\n",
              "      <th>2</th>\n",
              "      <td>2</td>\n",
              "      <td>2</td>\n",
              "    </tr>\n",
              "    <tr>\n",
              "      <th>3</th>\n",
              "      <td>3</td>\n",
              "      <td>2</td>\n",
              "    </tr>\n",
              "    <tr>\n",
              "      <th>4</th>\n",
              "      <td>2</td>\n",
              "      <td>2</td>\n",
              "    </tr>\n",
              "  </tbody>\n",
              "</table>\n",
              "</div>\n",
              "      <button class=\"colab-df-convert\" onclick=\"convertToInteractive('df-528e5d71-e519-4944-80ed-db1cc5e54726')\"\n",
              "              title=\"Convert this dataframe to an interactive table.\"\n",
              "              style=\"display:none;\">\n",
              "        \n",
              "  <svg xmlns=\"http://www.w3.org/2000/svg\" height=\"24px\"viewBox=\"0 0 24 24\"\n",
              "       width=\"24px\">\n",
              "    <path d=\"M0 0h24v24H0V0z\" fill=\"none\"/>\n",
              "    <path d=\"M18.56 5.44l.94 2.06.94-2.06 2.06-.94-2.06-.94-.94-2.06-.94 2.06-2.06.94zm-11 1L8.5 8.5l.94-2.06 2.06-.94-2.06-.94L8.5 2.5l-.94 2.06-2.06.94zm10 10l.94 2.06.94-2.06 2.06-.94-2.06-.94-.94-2.06-.94 2.06-2.06.94z\"/><path d=\"M17.41 7.96l-1.37-1.37c-.4-.4-.92-.59-1.43-.59-.52 0-1.04.2-1.43.59L10.3 9.45l-7.72 7.72c-.78.78-.78 2.05 0 2.83L4 21.41c.39.39.9.59 1.41.59.51 0 1.02-.2 1.41-.59l7.78-7.78 2.81-2.81c.8-.78.8-2.07 0-2.86zM5.41 20L4 18.59l7.72-7.72 1.47 1.35L5.41 20z\"/>\n",
              "  </svg>\n",
              "      </button>\n",
              "      \n",
              "  <style>\n",
              "    .colab-df-container {\n",
              "      display:flex;\n",
              "      flex-wrap:wrap;\n",
              "      gap: 12px;\n",
              "    }\n",
              "\n",
              "    .colab-df-convert {\n",
              "      background-color: #E8F0FE;\n",
              "      border: none;\n",
              "      border-radius: 50%;\n",
              "      cursor: pointer;\n",
              "      display: none;\n",
              "      fill: #1967D2;\n",
              "      height: 32px;\n",
              "      padding: 0 0 0 0;\n",
              "      width: 32px;\n",
              "    }\n",
              "\n",
              "    .colab-df-convert:hover {\n",
              "      background-color: #E2EBFA;\n",
              "      box-shadow: 0px 1px 2px rgba(60, 64, 67, 0.3), 0px 1px 3px 1px rgba(60, 64, 67, 0.15);\n",
              "      fill: #174EA6;\n",
              "    }\n",
              "\n",
              "    [theme=dark] .colab-df-convert {\n",
              "      background-color: #3B4455;\n",
              "      fill: #D2E3FC;\n",
              "    }\n",
              "\n",
              "    [theme=dark] .colab-df-convert:hover {\n",
              "      background-color: #434B5C;\n",
              "      box-shadow: 0px 1px 3px 1px rgba(0, 0, 0, 0.15);\n",
              "      filter: drop-shadow(0px 1px 2px rgba(0, 0, 0, 0.3));\n",
              "      fill: #FFFFFF;\n",
              "    }\n",
              "  </style>\n",
              "\n",
              "      <script>\n",
              "        const buttonEl =\n",
              "          document.querySelector('#df-528e5d71-e519-4944-80ed-db1cc5e54726 button.colab-df-convert');\n",
              "        buttonEl.style.display =\n",
              "          google.colab.kernel.accessAllowed ? 'block' : 'none';\n",
              "\n",
              "        async function convertToInteractive(key) {\n",
              "          const element = document.querySelector('#df-528e5d71-e519-4944-80ed-db1cc5e54726');\n",
              "          const dataTable =\n",
              "            await google.colab.kernel.invokeFunction('convertToInteractive',\n",
              "                                                     [key], {});\n",
              "          if (!dataTable) return;\n",
              "\n",
              "          const docLinkHtml = 'Like what you see? Visit the ' +\n",
              "            '<a target=\"_blank\" href=https://colab.research.google.com/notebooks/data_table.ipynb>data table notebook</a>'\n",
              "            + ' to learn more about interactive tables.';\n",
              "          element.innerHTML = '';\n",
              "          dataTable['output_type'] = 'display_data';\n",
              "          await google.colab.output.renderOutput(dataTable, element);\n",
              "          const docLink = document.createElement('div');\n",
              "          docLink.innerHTML = docLinkHtml;\n",
              "          element.appendChild(docLink);\n",
              "        }\n",
              "      </script>\n",
              "    </div>\n",
              "  </div>\n",
              "  "
            ]
          },
          "metadata": {},
          "execution_count": 17
        }
      ]
    },
    {
      "cell_type": "code",
      "source": [
        "plt.figure(figsize=(10,5))\n",
        "sns.scatterplot(newdf.index,newdf['CUML_GPA'],hue=newdf['EXP_GPA'])\n",
        "plt.show()"
      ],
      "metadata": {
        "colab": {
          "base_uri": "https://localhost:8080/",
          "height": 374
        },
        "id": "Wa5Arg26ZFez",
        "outputId": "2e7c8968-2a22-40d5-9696-b0ca31ad6e98"
      },
      "execution_count": null,
      "outputs": [
        {
          "output_type": "stream",
          "name": "stderr",
          "text": [
            "/usr/local/lib/python3.7/dist-packages/seaborn/_decorators.py:43: FutureWarning: Pass the following variables as keyword args: x, y. From version 0.12, the only valid positional argument will be `data`, and passing other arguments without an explicit keyword will result in an error or misinterpretation.\n",
            "  FutureWarning\n"
          ]
        },
        {
          "output_type": "display_data",
          "data": {
            "text/plain": [
              "<Figure size 720x360 with 1 Axes>"
            ],
            "image/png": "[encoded data removed]"
          },
          "metadata": {
            "needs_background": "light"
          }
        }
      ]
    },
    {
      "cell_type": "code",
      "execution_count": null,
      "metadata": {
        "id": "ugZ64tNl0pri"
      },
      "outputs": [],
      "source": [
        "# Split the dataset into training set and test set.\n",
        "X_train, X_test, y_train, y_test = train_test_split(\n",
        "    newdf.drop('EXP_GPA',axis=1), newdf['EXP_GPA'], test_size = 0.30,random_state= 1)"
      ]
    },
    {
      "cell_type": "code",
      "source": [
        "#shape of the training set and test set\n",
        "X_train.shape, X_test.shape, y_train.shape, y_test.shape"
      ],
      "metadata": {
        "colab": {
          "base_uri": "https://localhost:8080/"
        },
        "id": "6Td-iKzEBuUz",
        "outputId": "a3e28ba3-340d-41cb-86a4-d5f9d483f472"
      },
      "execution_count": null,
      "outputs": [
        {
          "output_type": "execute_result",
          "data": {
            "text/plain": [
              "((101, 1), (44, 1), (101,), (44,))"
            ]
          },
          "metadata": {},
          "execution_count": 20
        }
      ]
    },
    {
      "cell_type": "markdown",
      "source": [
        "# **4.0 Support Vector Machine**\n",
        "\n",
        "Model performance evaluation metrics:\n",
        "1. Accuracy score\n",
        "2. Confusion matrix \n",
        "3. Classification report\n",
        "    * Precision: Ratio of TP predictions relative to total positive predictions (TP+FP).\n",
        "    * Recall: Ratio of TP predictions relative to total actual positives (TP+FN).\n",
        "    * F1 Score: A weighted harmonic mean of precision and recall. The closer to 1, the better the expected model performance."
      ],
      "metadata": {
        "id": "GFvPW-ikO9vX"
      }
    },
    {
      "cell_type": "markdown",
      "source": [
        "## **4.1 Linear SVM**"
      ],
      "metadata": {
        "id": "CMUZEpYkRDas"
      }
    },
    {
      "cell_type": "code",
      "source": [
        "model = SVC(kernel='linear')\n",
        "model.fit(X_train,y_train)\n",
        "predictions = model.predict(X_test)\n",
        "print('Accuracy score: ' + str(accuracy_score(y_test, predictions)), end = '\\n\\n')\n",
        "print('Confusion Matrix: \\n\\n' + str(confusion_matrix(y_test, predictions)), end='\\n\\n')\n",
        "print('Classification Report: \\n\\n' + str(classification_report(y_test, predictions)))"
      ],
      "metadata": {
        "colab": {
          "base_uri": "https://localhost:8080/"
        },
        "id": "_Gw8vORULIWe",
        "outputId": "6678e608-9b6e-4dae-a2aa-31f652a8acd7"
      },
      "execution_count": null,
      "outputs": [
        {
          "output_type": "stream",
          "name": "stdout",
          "text": [
            "Accuracy score: 0.4772727272727273\n",
            "\n",
            "Confusion Matrix: \n",
            "\n",
            "[[ 0  4  0  0]\n",
            " [ 0  6  4  0]\n",
            " [ 0  7 10  3]\n",
            " [ 0  0  5  5]]\n",
            "\n",
            "Classification Report: \n",
            "\n",
            "              precision    recall  f1-score   support\n",
            "\n",
            "           1       0.00      0.00      0.00         4\n",
            "           2       0.35      0.60      0.44        10\n",
            "           3       0.53      0.50      0.51        20\n",
            "           4       0.62      0.50      0.56        10\n",
            "\n",
            "    accuracy                           0.48        44\n",
            "   macro avg       0.38      0.40      0.38        44\n",
            "weighted avg       0.46      0.48      0.46        44\n",
            "\n"
          ]
        },
        {
          "output_type": "stream",
          "name": "stderr",
          "text": [
            "/usr/local/lib/python3.7/dist-packages/sklearn/metrics/_classification.py:1318: UndefinedMetricWarning: Precision and F-score are ill-defined and being set to 0.0 in labels with no predicted samples. Use `zero_division` parameter to control this behavior.\n",
            "  _warn_prf(average, modifier, msg_start, len(result))\n",
            "/usr/local/lib/python3.7/dist-packages/sklearn/metrics/_classification.py:1318: UndefinedMetricWarning: Precision and F-score are ill-defined and being set to 0.0 in labels with no predicted samples. Use `zero_division` parameter to control this behavior.\n",
            "  _warn_prf(average, modifier, msg_start, len(result))\n",
            "/usr/local/lib/python3.7/dist-packages/sklearn/metrics/_classification.py:1318: UndefinedMetricWarning: Precision and F-score are ill-defined and being set to 0.0 in labels with no predicted samples. Use `zero_division` parameter to control this behavior.\n",
            "  _warn_prf(average, modifier, msg_start, len(result))\n"
          ]
        }
      ]
    },
    {
      "cell_type": "markdown",
      "source": [
        "From the evaluation metrics above, the linear svm model has low prediction accuracy. Based on the classification report, the precision value of class 1 is 0."
      ],
      "metadata": {
        "id": "U15TmLO0P_gt"
      }
    },
    {
      "cell_type": "markdown",
      "source": [
        "## **4.2 Non-Linear SVM**\n",
        "\n",
        "* Kernels: Radial Basis Function (RBF), Sigmoid, \n",
        "Polynomial"
      ],
      "metadata": {
        "id": "ZIIPq-JIOKzy"
      }
    },
    {
      "cell_type": "markdown",
      "source": [
        "### Approach I: Use `GridSearchCV `to train models with different kernels"
      ],
      "metadata": {
        "id": "MeVxdMO3QrnQ"
      }
    },
    {
      "cell_type": "code",
      "source": [
        "# Grid searching key hyperparametres for SVC\n",
        "#Create a dictionary and fill out some parameters for kernels, C and gamma\n",
        "param_grid= {'C': [0.1,1, 10, 100], 'gamma': ['scale'],'kernel': ['poly','rbf', 'sigmoid']}\n",
        "grid_search = GridSearchCV(model, param_grid, refit=True,verbose=3)\n",
        "grid_search.fit(X_train, y_train)\n",
        "# print best parameter after tuning\n",
        "print(grid_search.best_params_)\n",
        " # print how our model looks after hyper-parameter tuning\n",
        "print(grid_search.best_estimator_)\n"
      ],
      "metadata": {
        "colab": {
          "base_uri": "https://localhost:8080/"
        },
        "id": "TB9ojAECIPKn",
        "outputId": "464c4f24-b84d-420b-e099-d728fba98663"
      },
      "execution_count": null,
      "outputs": [
        {
          "output_type": "stream",
          "name": "stdout",
          "text": [
            "Fitting 5 folds for each of 12 candidates, totalling 60 fits\n",
            "[CV 1/5] END ...C=0.1, gamma=scale, kernel=poly;, score=0.476 total time=   0.0s\n",
            "[CV 2/5] END ...C=0.1, gamma=scale, kernel=poly;, score=0.550 total time=   0.0s\n",
            "[CV 3/5] END ...C=0.1, gamma=scale, kernel=poly;, score=0.450 total time=   0.0s\n",
            "[CV 4/5] END ...C=0.1, gamma=scale, kernel=poly;, score=0.400 total time=   0.0s\n",
            "[CV 5/5] END ...C=0.1, gamma=scale, kernel=poly;, score=0.300 total time=   0.0s\n",
            "[CV 1/5] END ....C=0.1, gamma=scale, kernel=rbf;, score=0.381 total time=   0.0s\n",
            "[CV 2/5] END ....C=0.1, gamma=scale, kernel=rbf;, score=0.400 total time=   0.0s\n",
            "[CV 3/5] END ....C=0.1, gamma=scale, kernel=rbf;, score=0.400 total time=   0.0s\n",
            "[CV 4/5] END ....C=0.1, gamma=scale, kernel=rbf;, score=0.450 total time=   0.0s\n",
            "[CV 5/5] END ....C=0.1, gamma=scale, kernel=rbf;, score=0.400 total time=   0.0s\n",
            "[CV 1/5] END C=0.1, gamma=scale, kernel=sigmoid;, score=0.381 total time=   0.0s\n",
            "[CV 2/5] END C=0.1, gamma=scale, kernel=sigmoid;, score=0.400 total time=   0.0s\n",
            "[CV 3/5] END C=0.1, gamma=scale, kernel=sigmoid;, score=0.400 total time=   0.0s\n",
            "[CV 4/5] END C=0.1, gamma=scale, kernel=sigmoid;, score=0.450 total time=   0.0s\n",
            "[CV 5/5] END C=0.1, gamma=scale, kernel=sigmoid;, score=0.400 total time=   0.0s\n",
            "[CV 1/5] END .....C=1, gamma=scale, kernel=poly;, score=0.476 total time=   0.0s\n",
            "[CV 2/5] END .....C=1, gamma=scale, kernel=poly;, score=0.550 total time=   0.0s\n",
            "[CV 3/5] END .....C=1, gamma=scale, kernel=poly;, score=0.450 total time=   0.0s\n",
            "[CV 4/5] END .....C=1, gamma=scale, kernel=poly;, score=0.400 total time=   0.0s\n",
            "[CV 5/5] END .....C=1, gamma=scale, kernel=poly;, score=0.300 total time=   0.0s\n",
            "[CV 1/5] END ......C=1, gamma=scale, kernel=rbf;, score=0.571 total time=   0.0s\n",
            "[CV 2/5] END ......C=1, gamma=scale, kernel=rbf;, score=0.700 total time=   0.0s\n",
            "[CV 3/5] END ......C=1, gamma=scale, kernel=rbf;, score=0.600 total time=   0.0s\n",
            "[CV 4/5] END ......C=1, gamma=scale, kernel=rbf;, score=0.400 total time=   0.0s\n",
            "[CV 5/5] END ......C=1, gamma=scale, kernel=rbf;, score=0.400 total time=   0.0s\n",
            "[CV 1/5] END ..C=1, gamma=scale, kernel=sigmoid;, score=0.381 total time=   0.0s\n",
            "[CV 2/5] END ..C=1, gamma=scale, kernel=sigmoid;, score=0.350 total time=   0.0s\n",
            "[CV 3/5] END ..C=1, gamma=scale, kernel=sigmoid;, score=0.400 total time=   0.0s\n",
            "[CV 4/5] END ..C=1, gamma=scale, kernel=sigmoid;, score=0.450 total time=   0.0s\n",
            "[CV 5/5] END ..C=1, gamma=scale, kernel=sigmoid;, score=0.400 total time=   0.0s\n",
            "[CV 1/5] END ....C=10, gamma=scale, kernel=poly;, score=0.476 total time=   0.0s\n",
            "[CV 2/5] END ....C=10, gamma=scale, kernel=poly;, score=0.550 total time=   0.0s\n",
            "[CV 3/5] END ....C=10, gamma=scale, kernel=poly;, score=0.450 total time=   0.0s\n",
            "[CV 4/5] END ....C=10, gamma=scale, kernel=poly;, score=0.400 total time=   0.0s\n",
            "[CV 5/5] END ....C=10, gamma=scale, kernel=poly;, score=0.300 total time=   0.0s\n",
            "[CV 1/5] END .....C=10, gamma=scale, kernel=rbf;, score=0.571 total time=   0.0s\n",
            "[CV 2/5] END .....C=10, gamma=scale, kernel=rbf;, score=0.750 total time=   0.0s\n",
            "[CV 3/5] END .....C=10, gamma=scale, kernel=rbf;, score=0.600 total time=   0.0s\n",
            "[CV 4/5] END .....C=10, gamma=scale, kernel=rbf;, score=0.450 total time=   0.0s\n",
            "[CV 5/5] END .....C=10, gamma=scale, kernel=rbf;, score=0.450 total time=   0.0s\n",
            "[CV 1/5] END .C=10, gamma=scale, kernel=sigmoid;, score=0.333 total time=   0.0s\n",
            "[CV 2/5] END .C=10, gamma=scale, kernel=sigmoid;, score=0.200 total time=   0.0s\n",
            "[CV 3/5] END .C=10, gamma=scale, kernel=sigmoid;, score=0.200 total time=   0.0s\n",
            "[CV 4/5] END .C=10, gamma=scale, kernel=sigmoid;, score=0.250 total time=   0.0s\n",
            "[CV 5/5] END .C=10, gamma=scale, kernel=sigmoid;, score=0.300 total time=   0.0s\n",
            "[CV 1/5] END ...C=100, gamma=scale, kernel=poly;, score=0.476 total time=   1.3s\n",
            "[CV 2/5] END ...C=100, gamma=scale, kernel=poly;, score=0.550 total time=   0.1s\n",
            "[CV 3/5] END ...C=100, gamma=scale, kernel=poly;, score=0.450 total time=   0.1s\n",
            "[CV 4/5] END ...C=100, gamma=scale, kernel=poly;, score=0.400 total time=   6.7s\n",
            "[CV 5/5] END ...C=100, gamma=scale, kernel=poly;, score=0.300 total time=   8.6s\n",
            "[CV 1/5] END ....C=100, gamma=scale, kernel=rbf;, score=0.571 total time=   0.0s\n",
            "[CV 2/5] END ....C=100, gamma=scale, kernel=rbf;, score=0.750 total time=   0.0s\n",
            "[CV 3/5] END ....C=100, gamma=scale, kernel=rbf;, score=0.600 total time=   0.0s\n",
            "[CV 4/5] END ....C=100, gamma=scale, kernel=rbf;, score=0.450 total time=   0.0s\n",
            "[CV 5/5] END ....C=100, gamma=scale, kernel=rbf;, score=0.450 total time=   0.0s\n",
            "[CV 1/5] END C=100, gamma=scale, kernel=sigmoid;, score=0.190 total time=   0.0s\n",
            "[CV 2/5] END C=100, gamma=scale, kernel=sigmoid;, score=0.200 total time=   0.0s\n",
            "[CV 3/5] END C=100, gamma=scale, kernel=sigmoid;, score=0.200 total time=   0.0s\n",
            "[CV 4/5] END C=100, gamma=scale, kernel=sigmoid;, score=0.250 total time=   0.0s\n",
            "[CV 5/5] END C=100, gamma=scale, kernel=sigmoid;, score=0.250 total time=   0.0s\n",
            "{'C': 10, 'gamma': 'scale', 'kernel': 'rbf'}\n",
            "SVC(C=10)\n"
          ]
        }
      ]
    },
    {
      "cell_type": "code",
      "source": [
        "predictions = grid_search.predict(X_test)\n",
        "print('Accuracy score: ' + str(accuracy_score(y_test, predictions)), end = '\\n\\n')\n",
        "print('Confusion Matrix: \\n\\n' + str(confusion_matrix(y_test, predictions)), end='\\n\\n')\n",
        "print('Classification Report: \\n\\n' + str(classification_report(y_test, predictions)))"
      ],
      "metadata": {
        "colab": {
          "base_uri": "https://localhost:8080/"
        },
        "id": "dVTfwoo2In71",
        "outputId": "6de38bd8-51fd-4204-c063-68c91218c78e"
      },
      "execution_count": null,
      "outputs": [
        {
          "output_type": "stream",
          "name": "stdout",
          "text": [
            "Accuracy score: 0.5454545454545454\n",
            "\n",
            "Confusion Matrix: \n",
            "\n",
            "[[ 3  1  0  0]\n",
            " [ 0  6  4  0]\n",
            " [ 1  6 10  3]\n",
            " [ 0  0  5  5]]\n",
            "\n",
            "Classification Report: \n",
            "\n",
            "              precision    recall  f1-score   support\n",
            "\n",
            "           1       0.75      0.75      0.75         4\n",
            "           2       0.46      0.60      0.52        10\n",
            "           3       0.53      0.50      0.51        20\n",
            "           4       0.62      0.50      0.56        10\n",
            "\n",
            "    accuracy                           0.55        44\n",
            "   macro avg       0.59      0.59      0.59        44\n",
            "weighted avg       0.55      0.55      0.55        44\n",
            "\n"
          ]
        }
      ]
    },
    {
      "cell_type": "markdown",
      "source": [
        "From the evaluation metrics above, changing linear kernel to RBF kernel improve the prediction accuracy. Based on the classification report, class 1 has the highest precision (0.75), followed by class 4 (0.62), class 3(0.52) and class 2 (0.46). The values of precision and recall for class 1 are the same. This indicates that, for class 1, the model is equally good at assigning positive classifications correctly as it is at classifying positive instances correctly."
      ],
      "metadata": {
        "id": "nKTnx_q_RKiH"
      }
    },
    {
      "cell_type": "markdown",
      "source": [
        "### Approach II: Use `for` loop to train models with different kernels\n"
      ],
      "metadata": {
        "id": "tPxkiCQdN4lt"
      }
    },
    {
      "cell_type": "code",
      "source": [
        "poly_params = {'kernel':'poly', 'degree':3}\n",
        "rbf_params = {'kernel':'rbf'}\n",
        "sigmoid_params = {'kernel':'sigmoid'}\n",
        "params_list = [poly_params, rbf_params, sigmoid_params]\n",
        "for params in params_list:\n",
        "    \n",
        "    classifier = SVC(**params, gamma='auto')\n",
        "    classifier.fit(X_train, y_train)\n",
        "    \n",
        "    predictions = classifier.predict(X_test)\n",
        "    \n",
        "    print(\"Kernel: \" + params['kernel'])\n",
        "    print(\"Confusion Matrix:\")\n",
        "    print(confusion_matrix(y_test, predictions))\n",
        "    print(\"Accuracy:\")\n",
        "    print(accuracy_score(y_test, predictions))\n",
        "    print(\"\")"
      ],
      "metadata": {
        "colab": {
          "base_uri": "https://localhost:8080/"
        },
        "id": "jHcGwZjhNj4j",
        "outputId": "9911ec03-4c26-42d1-d03f-48cd2055d91a"
      },
      "execution_count": null,
      "outputs": [
        {
          "output_type": "stream",
          "name": "stdout",
          "text": [
            "Kernel: poly\n",
            "Confusion Matrix:\n",
            "[[ 0  4  0  0]\n",
            " [ 0  9  1  0]\n",
            " [ 0 11  6  3]\n",
            " [ 0  0  5  5]]\n",
            "Accuracy:\n",
            "0.45454545454545453\n",
            "\n",
            "Kernel: rbf\n",
            "Confusion Matrix:\n",
            "[[ 3  1  0  0]\n",
            " [ 0  6  4  0]\n",
            " [ 1  6 10  3]\n",
            " [ 0  0  5  5]]\n",
            "Accuracy:\n",
            "0.5454545454545454\n",
            "\n",
            "Kernel: sigmoid\n",
            "Confusion Matrix:\n",
            "[[ 0  0  4  0]\n",
            " [ 0  0 10  0]\n",
            " [ 0  0 20  0]\n",
            " [ 0  0 10  0]]\n",
            "Accuracy:\n",
            "0.45454545454545453\n",
            "\n"
          ]
        }
      ]
    },
    {
      "cell_type": "markdown",
      "source": [
        "In Approach 2, we can clearly see the accuracy score of different kernels. The radial basis function outperforms the other kernels."
      ],
      "metadata": {
        "id": "RP3Nb8H3Tkq0"
      }
    },
    {
      "cell_type": "markdown",
      "source": [
        "# **5.0 K-Nearest Neighbor (KNN)**"
      ],
      "metadata": {
        "id": "49-n4widMPxX"
      }
    },
    {
      "cell_type": "code",
      "source": [
        "knn = KNN()\n",
        "knn.fit(X_train,y_train)\n",
        "preds = knn.predict(X_test)\n",
        "print('Accuracy score: ' + str(accuracy_score(y_test, preds)), end = '\\n\\n')\n",
        "print('Confusion Matrix: \\n\\n' + str(confusion_matrix(y_test, preds)), end='\\n\\n')\n",
        "print('Classification Report: \\n\\n' + str(classification_report(y_test, preds)))"
      ],
      "metadata": {
        "colab": {
          "base_uri": "https://localhost:8080/"
        },
        "id": "TTXsnjszKCWR",
        "outputId": "5246c472-cae1-4215-917b-9a58f36585f4"
      },
      "execution_count": null,
      "outputs": [
        {
          "output_type": "stream",
          "name": "stdout",
          "text": [
            "Accuracy score: 0.3181818181818182\n",
            "\n",
            "Confusion Matrix: \n",
            "\n",
            "[[ 0  4  0  0]\n",
            " [ 0  7  3  0]\n",
            " [ 0 13  7  0]\n",
            " [ 0  5  5  0]]\n",
            "\n",
            "Classification Report: \n",
            "\n",
            "              precision    recall  f1-score   support\n",
            "\n",
            "           1       0.00      0.00      0.00         4\n",
            "           2       0.24      0.70      0.36        10\n",
            "           3       0.47      0.35      0.40        20\n",
            "           4       0.00      0.00      0.00        10\n",
            "\n",
            "    accuracy                           0.32        44\n",
            "   macro avg       0.18      0.26      0.19        44\n",
            "weighted avg       0.27      0.32      0.26        44\n",
            "\n"
          ]
        },
        {
          "output_type": "stream",
          "name": "stderr",
          "text": [
            "/usr/local/lib/python3.7/dist-packages/sklearn/metrics/_classification.py:1318: UndefinedMetricWarning: Precision and F-score are ill-defined and being set to 0.0 in labels with no predicted samples. Use `zero_division` parameter to control this behavior.\n",
            "  _warn_prf(average, modifier, msg_start, len(result))\n",
            "/usr/local/lib/python3.7/dist-packages/sklearn/metrics/_classification.py:1318: UndefinedMetricWarning: Precision and F-score are ill-defined and being set to 0.0 in labels with no predicted samples. Use `zero_division` parameter to control this behavior.\n",
            "  _warn_prf(average, modifier, msg_start, len(result))\n",
            "/usr/local/lib/python3.7/dist-packages/sklearn/metrics/_classification.py:1318: UndefinedMetricWarning: Precision and F-score are ill-defined and being set to 0.0 in labels with no predicted samples. Use `zero_division` parameter to control this behavior.\n",
            "  _warn_prf(average, modifier, msg_start, len(result))\n"
          ]
        }
      ]
    },
    {
      "cell_type": "markdown",
      "source": [
        "From the above, the accuracy score of KNN model is very low (about 32%). The precision values of every class are low. To improve the result, parameter tuning can be applied. In KNN, the parameter to be tuned is n_neighbors "
      ],
      "metadata": {
        "id": "RZnLfCGgMcfA"
      }
    },
    {
      "cell_type": "code",
      "source": [
        "#define parameter dictionary\n",
        "param_grid = {'n_neighbors':np.arange(1,20)}\n",
        "#apply grid search with cross validation\n",
        "knn_cv= GridSearchCV(knn,param_grid,cv=5)\n",
        "knn_cv.fit(X_train,y_train)\n",
        "#print the best score\n",
        "knn_cv.best_score_"
      ],
      "metadata": {
        "colab": {
          "base_uri": "https://localhost:8080/"
        },
        "id": "byDjvgxpPoGu",
        "outputId": "9c700889-d824-42fc-ed9a-b133e15a4c2b"
      },
      "execution_count": null,
      "outputs": [
        {
          "output_type": "execute_result",
          "data": {
            "text/plain": [
              "0.5638095238095239"
            ]
          },
          "metadata": {},
          "execution_count": 26
        }
      ]
    },
    {
      "cell_type": "markdown",
      "source": [
        "The accuracy score is improved from 0.32 to 0.56 after parameter tuning.\n"
      ],
      "metadata": {
        "id": "UPZOBTpjU2OI"
      }
    },
    {
      "cell_type": "markdown",
      "source": [
        "# **6.0 Logistic Regression**"
      ],
      "metadata": {
        "id": "KjyMJKdcLh26"
      }
    },
    {
      "cell_type": "code",
      "execution_count": null,
      "metadata": {
        "id": "U-AC3aFh0uLW",
        "colab": {
          "base_uri": "https://localhost:8080/"
        },
        "outputId": "7af6fa04-0571-425d-ffee-51b2168df70d"
      },
      "outputs": [
        {
          "output_type": "stream",
          "name": "stdout",
          "text": [
            "Accuracy score: 0.4772727272727273\n",
            "\n",
            "Confusion Matrix: \n",
            "\n",
            "[[ 0  4  0  0]\n",
            " [ 0  6  4  0]\n",
            " [ 0  7 10  3]\n",
            " [ 0  0  5  5]]\n",
            "\n",
            "Classification Report: \n",
            "\n",
            "              precision    recall  f1-score   support\n",
            "\n",
            "           1       0.00      0.00      0.00         4\n",
            "           2       0.35      0.60      0.44        10\n",
            "           3       0.53      0.50      0.51        20\n",
            "           4       0.62      0.50      0.56        10\n",
            "\n",
            "    accuracy                           0.48        44\n",
            "   macro avg       0.38      0.40      0.38        44\n",
            "weighted avg       0.46      0.48      0.46        44\n",
            "\n"
          ]
        },
        {
          "output_type": "stream",
          "name": "stderr",
          "text": [
            "/usr/local/lib/python3.7/dist-packages/sklearn/metrics/_classification.py:1318: UndefinedMetricWarning: Precision and F-score are ill-defined and being set to 0.0 in labels with no predicted samples. Use `zero_division` parameter to control this behavior.\n",
            "  _warn_prf(average, modifier, msg_start, len(result))\n",
            "/usr/local/lib/python3.7/dist-packages/sklearn/metrics/_classification.py:1318: UndefinedMetricWarning: Precision and F-score are ill-defined and being set to 0.0 in labels with no predicted samples. Use `zero_division` parameter to control this behavior.\n",
            "  _warn_prf(average, modifier, msg_start, len(result))\n",
            "/usr/local/lib/python3.7/dist-packages/sklearn/metrics/_classification.py:1318: UndefinedMetricWarning: Precision and F-score are ill-defined and being set to 0.0 in labels with no predicted samples. Use `zero_division` parameter to control this behavior.\n",
            "  _warn_prf(average, modifier, msg_start, len(result))\n"
          ]
        }
      ],
      "source": [
        "logreg = LogisticRegression()\n",
        "logreg.fit(X_train,y_train)\n",
        "predictions = logreg.predict(X_test)\n",
        "print('Accuracy score: ' + str(accuracy_score(y_test, predictions)),end = '\\n\\n')\n",
        "print('Confusion Matrix: \\n\\n' + str(confusion_matrix(y_test, predictions)), end = '\\n\\n')\n",
        "print('Classification Report: \\n\\n' + str(classification_report(y_test,predictions)))"
      ]
    },
    {
      "cell_type": "markdown",
      "source": [
        "Overall, the accuracy scores of three classification models are considered low as they are less than 60%. One possible reason affecting the result is the class imbalanced in the data. To have more precise result, the sample size has to be increased. "
      ],
      "metadata": {
        "id": "sJgXQTJQXUJS"
      }
    },
    {
      "cell_type": "markdown",
      "source": [
        "# References\n",
        "1. https://www.researchgate.net/publication/332864818_STUDENT_ACADEMIC_PERFORMANCE_PREDICTION_USING_SUPPORT_VECTOR_MACHINE\n",
        "2. https://medium.com/analytics-vidhya/feature-selection-techniques-2614b3b7efcd\n",
        "3. https://machinelearningmastery.com/hyperparameters-for-classification-machine-learning-algorithms/\n",
        "4. https://github.com/CertifaiAI/data-science-fundamentals"
      ],
      "metadata": {
        "id": "3Lrxf3BEXVhV"
      }
    }
  ],
  "metadata": {
    "colab": {
      "collapsed_sections": [],
      "name": "MSG332_A2_GohChaiWen.ipynb",
      "provenance": [],
      "toc_visible": true,
      "include_colab_link": true
    },
    "kernelspec": {
      "display_name": "Python 3",
      "name": "python3"
    },
    "language_info": {
      "name": "python"
    }
  },
  "nbformat": 4,
  "nbformat_minor": 0
}
